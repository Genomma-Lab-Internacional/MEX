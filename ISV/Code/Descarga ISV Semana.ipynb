{
 "cells": [
  {
   "cell_type": "markdown",
   "metadata": {},
   "source": [
    "# Libraries"
   ]
  },
  {
   "cell_type": "code",
   "execution_count": 1,
   "metadata": {},
   "outputs": [
    {
     "data": {
      "application/javascript": [
       "if (!(\"Notification\" in window)) {\n",
       "    alert(\"This browser does not support desktop notifications, so the %%notify magic will not work.\");\n",
       "} else if (Notification.permission !== 'granted' && Notification.permission !== 'denied') {\n",
       "    Notification.requestPermission(function (permission) {\n",
       "        if(!('permission' in Notification)) {\n",
       "            Notification.permission = permission;\n",
       "        }\n",
       "    })\n",
       "}\n"
      ],
      "text/plain": [
       "<IPython.core.display.Javascript object>"
      ]
     },
     "metadata": {},
     "output_type": "display_data"
    }
   ],
   "source": [
    "import jupyternotify\n",
    "import requests\n",
    "import pandas as pd\n",
    "import calendar\n",
    "from io import BytesIO\n",
    "from zipfile import ZipFile\n",
    "from urllib.request import urlopen\n",
    "from datetime import datetime\n",
    "from datetime import timedelta\n",
    "from time import sleep\n",
    "import json\n",
    "import os\n",
    "\n",
    "ip = get_ipython()\n",
    "ip.register_magics(jupyternotify.JupyterNotifyMagics)\n",
    "pd.options.display.float_format = '{:,.2f}'.format"
   ]
  },
  {
   "cell_type": "markdown",
   "metadata": {},
   "source": [
    "# API Params"
   ]
  },
  {
   "cell_type": "code",
   "execution_count": 2,
   "metadata": {},
   "outputs": [],
   "source": [
    "header_sales = {\n",
    "    'Content-Type': 'application/json',\n",
    "    'Authorization': 'ISVToken 682a99604c5a4cb4ab4cf222090ef79e'\n",
    "}"
   ]
  },
  {
   "cell_type": "code",
   "execution_count": 3,
   "metadata": {},
   "outputs": [],
   "source": [
    "url_sales = 'https://api.instoreview.cl/api/v2/download-zone/sales/'"
   ]
  },
  {
   "cell_type": "code",
   "execution_count": 4,
   "metadata": {},
   "outputs": [],
   "source": [
    "body_sales = {\n",
    "    'view_type':'week',\n",
    "    'dates': [],\n",
    "    'views': ['Unidades', 'Precio Lista'],\n",
    "    'hierarchy':{\n",
    "        'Cadena': [],\n",
    "        'Sub Cadena': [],\n",
    "        'Suc. ID': [],\n",
    "        'EAN': [],\n",
    "        'Descripción Producto': [],\n",
    "        'Pro.Pst.ID': [],\n",
    "        'Cad. ID':[]\n",
    "    }\n",
    "}"
   ]
  },
  {
   "cell_type": "code",
   "execution_count": 5,
   "metadata": {},
   "outputs": [],
   "source": [
    "def clean_numbers(num):\n",
    "    try:\n",
    "        num + 0\n",
    "    except:\n",
    "        num = float(str(num).replace('.','').replace(',',''))/1000000\n",
    "    return num"
   ]
  },
  {
   "cell_type": "code",
   "execution_count": 6,
   "metadata": {},
   "outputs": [],
   "source": [
    "def unpack_file(response):\n",
    "    try:\n",
    "        file = urlopen(response.json()['download_url'])\n",
    "        zip_file = ZipFile(BytesIO(file.read()))\n",
    "        df = pd.read_csv(zip_file.open(zip_file.namelist()[0]), encoding='latin-1', sep=',')\n",
    "    except:\n",
    "        df = pd.DataFrame()\n",
    "    return df"
   ]
  },
  {
   "cell_type": "code",
   "execution_count": 7,
   "metadata": {},
   "outputs": [],
   "source": [
    "def check_status(response, date):\n",
    "    status = response.status_code\n",
    "    if status != 200:\n",
    "        print(\"Problems in '{}':\".format(date), '\\n', 'Error {0}: {1}'.format(status, resp_sales.text))"
   ]
  },
  {
   "cell_type": "code",
   "execution_count": 8,
   "metadata": {},
   "outputs": [],
   "source": [
    "def download_sales(year, num_week, url, header, body):\n",
    "    body[\"dates\"] = ['{0}-W{1}'.format(year, str(num_week).zfill(2))]\n",
    "    resp_sales = requests.post(url, data=json.dumps(body), headers=header)\n",
    "    check_status(resp_sales, body_sales[\"dates\"][0])\n",
    "    df = unpack_file(resp_sales)\n",
    "    return df"
   ]
  },
  {
   "cell_type": "code",
   "execution_count": 9,
   "metadata": {},
   "outputs": [],
   "source": [
    "def clean_views(data, views):\n",
    "    for col in views:\n",
    "        data[col] = data[col].map(clean_numbers).copy()\n",
    "    return data"
   ]
  },
  {
   "cell_type": "code",
   "execution_count": 10,
   "metadata": {},
   "outputs": [],
   "source": [
    "def clean_hierarchy(data, hierarchy):\n",
    "    import numpy as np\n",
    "    for col in hierarchy:\n",
    "        data.loc[data[col]=='No Definido', col] = np.nan\n",
    "    data['EAN'] = data['EAN'].astype(str)\n",
    "    return data"
   ]
  },
  {
   "cell_type": "code",
   "execution_count": 11,
   "metadata": {},
   "outputs": [],
   "source": [
    "def clean_sales(df, views, hierarchy):\n",
    "    data = df.copy()\n",
    "    df_views = clean_views(data[views], views)\n",
    "    df_hierarchy = clean_hierarchy(data[hierarchy], hierarchy)\n",
    "    return pd.concat([df_hierarchy, df_views], axis=1)"
   ]
  },
  {
   "cell_type": "code",
   "execution_count": 12,
   "metadata": {},
   "outputs": [],
   "source": [
    "ean_to_check = [\n",
    "    650240020803, \n",
    "    650240024306, \n",
    "    650240026591, \n",
    "    650240026607, \n",
    "    650240026614, \n",
    "    7501199407036, \n",
    "    74761142, \n",
    "    650240050398, \n",
    "    7501073101227, \n",
    "    650240053931, \n",
    "    650240053955, \n",
    "    650240053962, \n",
    "    650240053979, \n",
    "    650240053993, \n",
    "    650240054020, \n",
    "    650240054037, \n",
    "    650240054068\n",
    "]"
   ]
  },
  {
   "cell_type": "markdown",
   "metadata": {},
   "source": [
    "Solamente del cliente **Soriana**:"
   ]
  },
  {
   "cell_type": "code",
   "execution_count": 13,
   "metadata": {},
   "outputs": [],
   "source": [
    "body_sales['hierarchy']['EAN'] = ean_to_check\n",
    "\n",
    "body_sales['hierarchy']['Cadena'] = ['Soriana']"
   ]
  },
  {
   "cell_type": "code",
   "execution_count": 16,
   "metadata": {},
   "outputs": [],
   "source": [
    "year_week = [(2022, w) for w in range(1, 9)]\n",
    "year_week += [(2021, 52)]"
   ]
  },
  {
   "cell_type": "code",
   "execution_count": 20,
   "metadata": {},
   "outputs": [
    {
     "name": "stdout",
     "output_type": "stream",
     "text": [
      "Wall time: 44.7 s\n"
     ]
    }
   ],
   "source": [
    "%%time\n",
    "df = pd.DataFrame()\n",
    "for year, week in year_week:\n",
    "    aux = download_sales(year, week, url=url_sales, body=body_sales, header=header_sales)\n",
    "    df = pd.concat([df, aux], axis=0)\n",
    "    sleep(20)"
   ]
  },
  {
   "cell_type": "code",
   "execution_count": 21,
   "metadata": {},
   "outputs": [
    {
     "data": {
      "text/plain": [
       "(615, 10)"
      ]
     },
     "execution_count": 21,
     "metadata": {},
     "output_type": "execute_result"
    }
   ],
   "source": [
    "df.shape"
   ]
  },
  {
   "cell_type": "code",
   "execution_count": 22,
   "metadata": {},
   "outputs": [
    {
     "data": {
      "text/plain": [
       "Semanas                  object\n",
       "Cadena                   object\n",
       "Sub Cadena               object\n",
       "Suc. ID                   int64\n",
       "Cad. ID                   int64\n",
       "EAN                       int64\n",
       "Descripción Producto     object\n",
       "Pro.Pst.ID                int64\n",
       "Unidades                float64\n",
       "Precio Lista             object\n",
       "dtype: object"
      ]
     },
     "execution_count": 22,
     "metadata": {},
     "output_type": "execute_result"
    }
   ],
   "source": [
    "df.dtypes"
   ]
  },
  {
   "cell_type": "code",
   "execution_count": 23,
   "metadata": {},
   "outputs": [
    {
     "data": {
      "text/html": [
       "<div>\n",
       "<style scoped>\n",
       "    .dataframe tbody tr th:only-of-type {\n",
       "        vertical-align: middle;\n",
       "    }\n",
       "\n",
       "    .dataframe tbody tr th {\n",
       "        vertical-align: top;\n",
       "    }\n",
       "\n",
       "    .dataframe thead th {\n",
       "        text-align: right;\n",
       "    }\n",
       "</style>\n",
       "<table border=\"1\" class=\"dataframe\">\n",
       "  <thead>\n",
       "    <tr style=\"text-align: right;\">\n",
       "      <th></th>\n",
       "      <th>Semanas</th>\n",
       "      <th>Cadena</th>\n",
       "      <th>Sub Cadena</th>\n",
       "      <th>Suc. ID</th>\n",
       "      <th>Cad. ID</th>\n",
       "      <th>EAN</th>\n",
       "      <th>Descripción Producto</th>\n",
       "      <th>Pro.Pst.ID</th>\n",
       "      <th>Unidades</th>\n",
       "      <th>Precio Lista</th>\n",
       "    </tr>\n",
       "  </thead>\n",
       "  <tbody>\n",
       "    <tr>\n",
       "      <th>0</th>\n",
       "      <td>Semana 01 03-01-2022 a 09-01-2022</td>\n",
       "      <td>Soriana</td>\n",
       "      <td>Soriana</td>\n",
       "      <td>1187</td>\n",
       "      <td>15</td>\n",
       "      <td>650240050398</td>\n",
       "      <td>Alliviax 20 Tabletas 550mg</td>\n",
       "      <td>8556</td>\n",
       "      <td>1.00</td>\n",
       "      <td>113.240000</td>\n",
       "    </tr>\n",
       "    <tr>\n",
       "      <th>1</th>\n",
       "      <td>Semana 01 03-01-2022 a 09-01-2022</td>\n",
       "      <td>Soriana</td>\n",
       "      <td>Soriana</td>\n",
       "      <td>1044</td>\n",
       "      <td>15</td>\n",
       "      <td>650240050398</td>\n",
       "      <td>Alliviax 20 Tabletas 550mg</td>\n",
       "      <td>8556</td>\n",
       "      <td>1.00</td>\n",
       "      <td>113.240000</td>\n",
       "    </tr>\n",
       "    <tr>\n",
       "      <th>2</th>\n",
       "      <td>Semana 01 03-01-2022 a 09-01-2022</td>\n",
       "      <td>Soriana</td>\n",
       "      <td>Soriana</td>\n",
       "      <td>73290</td>\n",
       "      <td>15</td>\n",
       "      <td>650240050398</td>\n",
       "      <td>Alliviax 20 Tabletas 550mg</td>\n",
       "      <td>8556</td>\n",
       "      <td>2.00</td>\n",
       "      <td>226.480000</td>\n",
       "    </tr>\n",
       "  </tbody>\n",
       "</table>\n",
       "</div>"
      ],
      "text/plain": [
       "                             Semanas   Cadena Sub Cadena  Suc. ID  Cad. ID  \\\n",
       "0  Semana 01 03-01-2022 a 09-01-2022  Soriana    Soriana     1187       15   \n",
       "1  Semana 01 03-01-2022 a 09-01-2022  Soriana    Soriana     1044       15   \n",
       "2  Semana 01 03-01-2022 a 09-01-2022  Soriana    Soriana    73290       15   \n",
       "\n",
       "            EAN        Descripción Producto  Pro.Pst.ID  Unidades Precio Lista  \n",
       "0  650240050398  Alliviax 20 Tabletas 550mg        8556      1.00   113.240000  \n",
       "1  650240050398  Alliviax 20 Tabletas 550mg        8556      1.00   113.240000  \n",
       "2  650240050398  Alliviax 20 Tabletas 550mg        8556      2.00   226.480000  "
      ]
     },
     "execution_count": 23,
     "metadata": {},
     "output_type": "execute_result"
    }
   ],
   "source": [
    "df[:3]"
   ]
  },
  {
   "cell_type": "code",
   "execution_count": null,
   "metadata": {},
   "outputs": [],
   "source": []
  }
 ],
 "metadata": {
  "kernelspec": {
   "display_name": "Python 3 (ipykernel)",
   "language": "python",
   "name": "python3"
  },
  "language_info": {
   "codemirror_mode": {
    "name": "ipython",
    "version": 3
   },
   "file_extension": ".py",
   "mimetype": "text/x-python",
   "name": "python",
   "nbconvert_exporter": "python",
   "pygments_lexer": "ipython3",
   "version": "3.8.10"
  },
  "toc": {
   "base_numbering": 1,
   "nav_menu": {},
   "number_sections": true,
   "sideBar": true,
   "skip_h1_title": false,
   "title_cell": "Table of Contents",
   "title_sidebar": "Contents",
   "toc_cell": false,
   "toc_position": {},
   "toc_section_display": true,
   "toc_window_display": false
  }
 },
 "nbformat": 4,
 "nbformat_minor": 4
}
