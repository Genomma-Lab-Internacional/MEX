{
 "cells": [
  {
   "cell_type": "markdown",
   "metadata": {},
   "source": [
    "# Libraries"
   ]
  },
  {
   "cell_type": "code",
   "execution_count": 1,
   "metadata": {},
   "outputs": [
    {
     "data": {
      "application/javascript": "if (!(\"Notification\" in window)) {\n    alert(\"This browser does not support desktop notifications, so the %%notify magic will not work.\");\n} else if (Notification.permission !== 'granted' && Notification.permission !== 'denied') {\n    Notification.requestPermission(function (permission) {\n        if(!('permission' in Notification)) {\n            Notification.permission = permission;\n        }\n    })\n}\n",
      "text/plain": [
       "<IPython.core.display.Javascript object>"
      ]
     },
     "metadata": {},
     "output_type": "display_data"
    }
   ],
   "source": [
    "import jupyternotify\n",
    "import requests\n",
    "import pandas as pd\n",
    "import calendar\n",
    "from io import BytesIO\n",
    "from zipfile import ZipFile\n",
    "from urllib.request import urlopen\n",
    "from datetime import datetime\n",
    "from datetime import timedelta\n",
    "from time import sleep\n",
    "import json\n",
    "import os\n",
    "\n",
    "ip = get_ipython()\n",
    "ip.register_magics(jupyternotify.JupyterNotifyMagics)\n",
    "pd.options.display.float_format = '{:,.2f}'.format"
   ]
  },
  {
   "cell_type": "markdown",
   "metadata": {},
   "source": [
    "# API Params"
   ]
  },
  {
   "cell_type": "markdown",
   "metadata": {},
   "source": [
    "Header de la API"
   ]
  },
  {
   "cell_type": "code",
   "execution_count": 2,
   "metadata": {},
   "outputs": [],
   "source": [
    "header_sales = {\n",
    "    'Content-Type': 'application/json',\n",
    "    'Authorization': 'ISVToken 682a99604c5a4cb4ab4cf222090ef79e'\n",
    "}"
   ]
  },
  {
   "cell_type": "markdown",
   "metadata": {},
   "source": [
    "URL para distinguir qué vamos a descargar"
   ]
  },
  {
   "cell_type": "code",
   "execution_count": 3,
   "metadata": {},
   "outputs": [],
   "source": [
    "url_sales = 'https://api.instoreview.cl/api/v2/download-zone/sales/'"
   ]
  },
  {
   "cell_type": "markdown",
   "metadata": {},
   "source": [
    "El body que indica las columnas cualitativas que ocuparemos"
   ]
  },
  {
   "cell_type": "code",
   "execution_count": 4,
   "metadata": {},
   "outputs": [],
   "source": [
    "body_sales = {\n",
    "    'view_type':'week',\n",
    "    'dates': [],\n",
    "    'views': ['Unidades', 'Precio Lista'],\n",
    "    'hierarchy':{\n",
    "        'Cadena': [],\n",
    "        'Sub Cadena': [],\n",
    "        'Suc. ID': [],\n",
    "        'EAN': [],\n",
    "        'Descripción Producto': [],\n",
    "        'Pro.Pst.ID': [],\n",
    "        'Cad. ID':[]\n",
    "    }\n",
    "}"
   ]
  },
  {
   "cell_type": "markdown",
   "metadata": {},
   "source": [
    "# Functiones"
   ]
  },
  {
   "cell_type": "markdown",
   "metadata": {},
   "source": [
    "Función para limpiar las columnas cuantitativas"
   ]
  },
  {
   "cell_type": "code",
   "execution_count": 5,
   "metadata": {},
   "outputs": [],
   "source": [
    "def clean_numbers(num):\n",
    "    try:\n",
    "        num + 0\n",
    "    except:\n",
    "        num = float(str(num).replace('.','').replace(',',''))/1000000\n",
    "    return num"
   ]
  },
  {
   "cell_type": "markdown",
   "metadata": {},
   "source": [
    "Función para descomprimir el archivo zip y leer el csv"
   ]
  },
  {
   "cell_type": "code",
   "execution_count": 6,
   "metadata": {},
   "outputs": [],
   "source": [
    "def unpack_file(response):\n",
    "    try:\n",
    "        file = urlopen(response.json()['download_url'])\n",
    "        zip_file = ZipFile(BytesIO(file.read()))\n",
    "        df = pd.read_csv(zip_file.open(zip_file.namelist()[0]), encoding='latin-1', sep=',')\n",
    "    except:\n",
    "        df = pd.DataFrame()\n",
    "    return df"
   ]
  },
  {
   "cell_type": "markdown",
   "metadata": {},
   "source": [
    "Función para validar si la descarga fue correcta"
   ]
  },
  {
   "cell_type": "code",
   "execution_count": 7,
   "metadata": {},
   "outputs": [],
   "source": [
    "def check_status(response, date):\n",
    "    status = response.status_code\n",
    "    if status != 200:\n",
    "        print(\"Problems in '{}':\".format(date), '\\n', 'Error {0}: {1}'.format(status, resp_sales.text))"
   ]
  },
  {
   "cell_type": "markdown",
   "metadata": {},
   "source": [
    "Función para descargar el sell out desde ISV"
   ]
  },
  {
   "cell_type": "code",
   "execution_count": 8,
   "metadata": {},
   "outputs": [],
   "source": [
    "def download_sales(year, num_week, url, header, body):\n",
    "    body[\"dates\"] = ['{0}-W{1}'.format(year, str(num_week).zfill(2))]\n",
    "    resp_sales = requests.post(url, data=json.dumps(body), headers=header)\n",
    "    check_status(resp_sales, body_sales[\"dates\"][0])\n",
    "    df = unpack_file(resp_sales)\n",
    "    return df"
   ]
  },
  {
   "cell_type": "markdown",
   "metadata": {},
   "source": [
    "Función para limpiar las columnas de *views*"
   ]
  },
  {
   "cell_type": "code",
   "execution_count": 9,
   "metadata": {},
   "outputs": [],
   "source": [
    "def clean_views(data, views):\n",
    "    for col in views:\n",
    "        data[col] = data[col].map(clean_numbers).copy()\n",
    "    return data"
   ]
  },
  {
   "cell_type": "markdown",
   "metadata": {},
   "source": [
    "Función para limpiar las columnas de *hierarchy*"
   ]
  },
  {
   "cell_type": "code",
   "execution_count": 10,
   "metadata": {},
   "outputs": [],
   "source": [
    "def clean_hierarchy(data, hierarchy):\n",
    "    import numpy as np\n",
    "    for col in hierarchy:\n",
    "        data.loc[data[col]=='No Definido', col] = np.nan\n",
    "    data['EAN'] = data['EAN'].astype(str)\n",
    "    return data"
   ]
  },
  {
   "cell_type": "markdown",
   "metadata": {},
   "source": [
    "Función que integra ambas funciones (clean_views y clean_hierarchy)"
   ]
  },
  {
   "cell_type": "code",
   "execution_count": 11,
   "metadata": {},
   "outputs": [],
   "source": [
    "def clean_sales(df, views, hierarchy):\n",
    "    data = df.copy()\n",
    "    df_views = clean_views(data[views], views)\n",
    "    df_hierarchy = clean_hierarchy(data[hierarchy], hierarchy)\n",
    "    return pd.concat([df_hierarchy, df_views], axis=1)"
   ]
  },
  {
   "cell_type": "markdown",
   "metadata": {},
   "source": [
    "# Main"
   ]
  },
  {
   "cell_type": "markdown",
   "metadata": {},
   "source": [
    "Los skus que vamos a descargar"
   ]
  },
  {
   "cell_type": "code",
   "execution_count": null,
   "metadata": {},
   "outputs": [],
   "source": [
    "ean_to_check = [\n",
    "    650240020803, \n",
    "    650240024306, \n",
    "    650240026591, \n",
    "    650240026607, \n",
    "    650240026614, \n",
    "    7501199407036, \n",
    "    650240053993, \n",
    "    650240054020, \n",
    "    650240054037, \n",
    "    650240054068\n",
    "]"
   ]
  },
  {
   "cell_type": "markdown",
   "metadata": {},
   "source": [
    "Agregamos en el body los EAN y el cliente"
   ]
  },
  {
   "cell_type": "code",
   "execution_count": 13,
   "metadata": {},
   "outputs": [],
   "source": [
    "body_sales['hierarchy']['EAN'] = ean_to_check\n",
    "\n",
    "body_sales['hierarchy']['Cadena'] = ['Soriana']"
   ]
  },
  {
   "cell_type": "markdown",
   "metadata": {},
   "source": [
    "Generamos una lista de tuplas por año, semana que consultaremos"
   ]
  },
  {
   "cell_type": "code",
   "execution_count": 14,
   "metadata": {},
   "outputs": [],
   "source": [
    "year_week = [(2022, w) for w in range(20, 24)]"
   ]
  },
  {
   "cell_type": "markdown",
   "metadata": {},
   "source": [
    "Descarga de datos de ISV"
   ]
  },
  {
   "cell_type": "code",
   "execution_count": 15,
   "metadata": {},
   "outputs": [
    {
     "name": "stdout",
     "output_type": "stream",
     "text": [
      "CPU times: total: 266 ms\n",
      "Wall time: 1min 46s\n"
     ]
    }
   ],
   "source": [
    "%%time\n",
    "df = pd.DataFrame()\n",
    "for year, week in year_week:\n",
    "    aux = download_sales(year, week, url=url_sales, body=body_sales, header=header_sales)\n",
    "    df = pd.concat([df, aux], axis=0)\n",
    "    # Detemos la consulta 20 segs\n",
    "    sleep(20)\n",
    "del aux"
   ]
  },
  {
   "cell_type": "markdown",
   "metadata": {},
   "source": [
    "# Validate Data"
   ]
  },
  {
   "cell_type": "code",
   "execution_count": 16,
   "metadata": {},
   "outputs": [
    {
     "data": {
      "text/plain": [
       "(115, 10)"
      ]
     },
     "execution_count": 16,
     "metadata": {},
     "output_type": "execute_result"
    }
   ],
   "source": [
    "df.shape"
   ]
  },
  {
   "cell_type": "code",
   "execution_count": 17,
   "metadata": {},
   "outputs": [
    {
     "data": {
      "text/plain": [
       "Semanas                  object\n",
       "Cadena                   object\n",
       "Sub Cadena               object\n",
       "Suc. ID                   int64\n",
       "Cad. ID                   int64\n",
       "EAN                       int64\n",
       "Descripción Producto     object\n",
       "Pro.Pst.ID                int64\n",
       "Unidades                float64\n",
       "Precio Lista            float64\n",
       "dtype: object"
      ]
     },
     "execution_count": 17,
     "metadata": {},
     "output_type": "execute_result"
    }
   ],
   "source": [
    "df.dtypes"
   ]
  },
  {
   "cell_type": "code",
   "execution_count": 25,
   "metadata": {},
   "outputs": [
    {
     "data": {
      "text/html": [
       "<div>\n",
       "<style scoped>\n",
       "    .dataframe tbody tr th:only-of-type {\n",
       "        vertical-align: middle;\n",
       "    }\n",
       "\n",
       "    .dataframe tbody tr th {\n",
       "        vertical-align: top;\n",
       "    }\n",
       "\n",
       "    .dataframe thead tr th {\n",
       "        text-align: left;\n",
       "    }\n",
       "\n",
       "    .dataframe thead tr:last-of-type th {\n",
       "        text-align: right;\n",
       "    }\n",
       "</style>\n",
       "<table border=\"1\" class=\"dataframe\">\n",
       "  <thead>\n",
       "    <tr>\n",
       "      <th></th>\n",
       "      <th colspan=\"4\" halign=\"left\">Unidades</th>\n",
       "    </tr>\n",
       "    <tr>\n",
       "      <th>Semanas</th>\n",
       "      <th>Semana 20 16-05-2022 a 22-05-2022</th>\n",
       "      <th>Semana 21 23-05-2022 a 29-05-2022</th>\n",
       "      <th>Semana 22 30-05-2022 a 05-06-2022</th>\n",
       "      <th>Semana 23 06-06-2022 a 12-06-2022</th>\n",
       "    </tr>\n",
       "    <tr>\n",
       "      <th>Descripción Producto</th>\n",
       "      <th></th>\n",
       "      <th></th>\n",
       "      <th></th>\n",
       "      <th></th>\n",
       "    </tr>\n",
       "  </thead>\n",
       "  <tbody>\n",
       "    <tr>\n",
       "      <th>Zanzusi Labial Lm Coral 03 1.6 grs</th>\n",
       "      <td>8.00</td>\n",
       "      <td>15.00</td>\n",
       "      <td>17.00</td>\n",
       "      <td>1.00</td>\n",
       "    </tr>\n",
       "    <tr>\n",
       "      <th>Zanzusi Labial Lm Lila Neon 07 1.6 grs</th>\n",
       "      <td>5.00</td>\n",
       "      <td>3.00</td>\n",
       "      <td>5.00</td>\n",
       "      <td>NaN</td>\n",
       "    </tr>\n",
       "    <tr>\n",
       "      <th>Zanzusi Labial Lm Rojo 04 1.6 grs</th>\n",
       "      <td>6.00</td>\n",
       "      <td>5.00</td>\n",
       "      <td>17.00</td>\n",
       "      <td>1.00</td>\n",
       "    </tr>\n",
       "    <tr>\n",
       "      <th>Zanzusi Labial Ss Beige 08 1.6 grs</th>\n",
       "      <td>6.00</td>\n",
       "      <td>14.00</td>\n",
       "      <td>18.00</td>\n",
       "      <td>NaN</td>\n",
       "    </tr>\n",
       "  </tbody>\n",
       "</table>\n",
       "</div>"
      ],
      "text/plain": [
       "                                                                Unidades  \\\n",
       "Semanas                                Semana 20 16-05-2022 a 22-05-2022   \n",
       "Descripción Producto                                                       \n",
       "Zanzusi Labial Lm Coral 03 1.6 grs                                  8.00   \n",
       "Zanzusi Labial Lm Lila Neon 07 1.6 grs                              5.00   \n",
       "Zanzusi Labial Lm Rojo 04 1.6 grs                                   6.00   \n",
       "Zanzusi Labial Ss Beige 08 1.6 grs                                  6.00   \n",
       "\n",
       "                                                                          \\\n",
       "Semanas                                Semana 21 23-05-2022 a 29-05-2022   \n",
       "Descripción Producto                                                       \n",
       "Zanzusi Labial Lm Coral 03 1.6 grs                                 15.00   \n",
       "Zanzusi Labial Lm Lila Neon 07 1.6 grs                              3.00   \n",
       "Zanzusi Labial Lm Rojo 04 1.6 grs                                   5.00   \n",
       "Zanzusi Labial Ss Beige 08 1.6 grs                                 14.00   \n",
       "\n",
       "                                                                          \\\n",
       "Semanas                                Semana 22 30-05-2022 a 05-06-2022   \n",
       "Descripción Producto                                                       \n",
       "Zanzusi Labial Lm Coral 03 1.6 grs                                 17.00   \n",
       "Zanzusi Labial Lm Lila Neon 07 1.6 grs                              5.00   \n",
       "Zanzusi Labial Lm Rojo 04 1.6 grs                                  17.00   \n",
       "Zanzusi Labial Ss Beige 08 1.6 grs                                 18.00   \n",
       "\n",
       "                                                                          \n",
       "Semanas                                Semana 23 06-06-2022 a 12-06-2022  \n",
       "Descripción Producto                                                      \n",
       "Zanzusi Labial Lm Coral 03 1.6 grs                                  1.00  \n",
       "Zanzusi Labial Lm Lila Neon 07 1.6 grs                               NaN  \n",
       "Zanzusi Labial Lm Rojo 04 1.6 grs                                   1.00  \n",
       "Zanzusi Labial Ss Beige 08 1.6 grs                                   NaN  "
      ]
     },
     "execution_count": 25,
     "metadata": {},
     "output_type": "execute_result"
    }
   ],
   "source": [
    "df.pivot_table(\n",
    "    index=['Descripción Producto'],\n",
    "    values=['Unidades'],\n",
    "    columns=['Semanas'],\n",
    "    aggfunc='sum'\n",
    ")"
   ]
  },
  {
   "cell_type": "code",
   "execution_count": null,
   "metadata": {},
   "outputs": [],
   "source": []
  }
 ],
 "metadata": {
  "interpreter": {
   "hash": "fe4feffa201cdf201c8a2af344ba7b0bb32861ea0c787625218332493d6906c2"
  },
  "kernelspec": {
   "display_name": "Python 3.8.10 ('base')",
   "language": "python",
   "name": "python3"
  },
  "language_info": {
   "codemirror_mode": {
    "name": "ipython",
    "version": 3
   },
   "file_extension": ".py",
   "mimetype": "text/x-python",
   "name": "python",
   "nbconvert_exporter": "python",
   "pygments_lexer": "ipython3",
   "version": "3.8.10"
  },
  "toc": {
   "base_numbering": 1,
   "nav_menu": {},
   "number_sections": true,
   "sideBar": true,
   "skip_h1_title": false,
   "title_cell": "Table of Contents",
   "title_sidebar": "Contents",
   "toc_cell": false,
   "toc_position": {},
   "toc_section_display": true,
   "toc_window_display": false
  }
 },
 "nbformat": 4,
 "nbformat_minor": 4
}
