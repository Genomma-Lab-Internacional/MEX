{
 "cells": [
  {
   "cell_type": "code",
   "execution_count": 1,
   "metadata": {},
   "outputs": [],
   "source": [
    "filename = 'FACTURACIÓN PENDIENTE NIC18 FEBRERO 20220419.xlsx'\n",
    "year = 2022"
   ]
  },
  {
   "cell_type": "markdown",
   "metadata": {},
   "source": [
    "# Libraries"
   ]
  },
  {
   "cell_type": "code",
   "execution_count": 2,
   "metadata": {},
   "outputs": [],
   "source": [
    "import pandas as pd\n",
    "import pyodbc\n",
    "import os\n",
    "from datetime import datetime\n",
    "\n",
    "pd.io.formats.excel.ExcelFormatter.header_style = None\n",
    "pd.options.display.float_format = '{:,.2f}'.format"
   ]
  },
  {
   "cell_type": "markdown",
   "metadata": {},
   "source": [
    "# Parameters"
   ]
  },
  {
   "cell_type": "code",
   "execution_count": 3,
   "metadata": {},
   "outputs": [],
   "source": [
    "path = r'\\\\NASPRO.infovisiontv.com\\DGI\\DGI Banco Central\\00 CIERRES SEMANALES\\{0}\\NIC18'\n",
    "path = path.format(year)"
   ]
  },
  {
   "cell_type": "markdown",
   "metadata": {},
   "source": [
    "# Import Data"
   ]
  },
  {
   "cell_type": "markdown",
   "metadata": {},
   "source": [
    "'Grupo de artículos'"
   ]
  },
  {
   "cell_type": "code",
   "execution_count": 4,
   "metadata": {},
   "outputs": [
    {
     "name": "stdout",
     "output_type": "stream",
     "text": [
      "Wall time: 3.81 s\n"
     ]
    }
   ],
   "source": [
    "%%time\n",
    "df = pd.read_excel(path + '\\\\' + filename, sheet_name='YOSAF', dtype={'Grupo de artículos':'str', 'Tp.cambio p.contab.':'str', 'Lote':'str'})"
   ]
  },
  {
   "cell_type": "markdown",
   "metadata": {},
   "source": [
    "df[['Grupo de artículos', 'Tp.cambio p.contab.', 'Lote']].dtypes"
   ]
  },
  {
   "cell_type": "code",
   "execution_count": 5,
   "metadata": {},
   "outputs": [
    {
     "data": {
      "text/plain": [
       "(1866, 47)"
      ]
     },
     "execution_count": 5,
     "metadata": {},
     "output_type": "execute_result"
    }
   ],
   "source": [
    "df.shape"
   ]
  },
  {
   "cell_type": "markdown",
   "metadata": {},
   "source": [
    "# Data Cleaning"
   ]
  },
  {
   "cell_type": "markdown",
   "metadata": {},
   "source": [
    "df = df[:df.shape[0]-6]"
   ]
  },
  {
   "cell_type": "code",
   "execution_count": 6,
   "metadata": {},
   "outputs": [
    {
     "data": {
      "text/plain": [
       "Cd.Barra                      136\n",
       "RFC                           322\n",
       "Nº cuenta anterior             61\n",
       "Motivo pedido                1866\n",
       "Descripción Motivo Pedido    1866\n",
       "dtype: int64"
      ]
     },
     "execution_count": 6,
     "metadata": {},
     "output_type": "execute_result"
    }
   ],
   "source": [
    "df.isnull().sum()[df.isnull().sum() > 0]"
   ]
  },
  {
   "cell_type": "code",
   "execution_count": 7,
   "metadata": {},
   "outputs": [],
   "source": [
    "new_cols = [\n",
    "     'Factura',\n",
    "     'Posicion',\n",
    "     'DocumentoVentas',\n",
    "     'PosicionDV',\n",
    "     'NumeroPedCliente',\n",
    "     'Material',\n",
    "     'CodigoBarras',\n",
    "     'Denominacion',\n",
    "     'Solicitante',\n",
    "     'Nombre',\n",
    "     'RFC',\n",
    "     'CNAC',\n",
    "     'GrupoCuentas',\n",
    "     'GrupoTesoreria',\n",
    "     'DestinatarioMcia',\n",
    "     'NombreDestinatario',\n",
    "     'CantidadFacturada',\n",
    "     'UnidadMedida',\n",
    "     'CtdFactUMB',\n",
    "     'UnidadMedidaBase',\n",
    "     'PrecioUnitario',\n",
    "     'ImpuestoBase',\n",
    "     'ImpuestoDescuento',\n",
    "     'ValorNeto',\n",
    "     'ImporteImpuesto',\n",
    "     'ImpuestoIEPS',\n",
    "     'ImpuestoTotal',\n",
    "     'CentroBeneficio',\n",
    "     'DescripcionCebe',\n",
    "     'TipoUnidades',\n",
    "     'FechaFactura',\n",
    "     'GrupoArticulos',\n",
    "     'DenominacionArticulos',\n",
    "     'ClaseFactura',\n",
    "     'DenominacionTipoDocto',\n",
    "     'CambioContable',\n",
    "     'Sociedad',\n",
    "     'Nombreempresa',\n",
    "     'OrganizacionVentas',\n",
    "     'Centro',\n",
    "     'Almacen',\n",
    "     'Lote',\n",
    "     'FechaCaducidad',\n",
    "     'MotivoPedido',\n",
    "     'DescMotivoPedido',\n",
    "     'ValorNetoAbs',\n",
    "     'Moneda'\n",
    "]"
   ]
  },
  {
   "cell_type": "code",
   "execution_count": 8,
   "metadata": {},
   "outputs": [],
   "source": [
    "df.columns = new_cols"
   ]
  },
  {
   "cell_type": "code",
   "execution_count": 9,
   "metadata": {},
   "outputs": [],
   "source": [
    "cols_nulls = [\n",
    "    'RFC', \n",
    "    'CNAC', \n",
    "    'Almacen', \n",
    "    'Lote', \n",
    "    'MotivoPedido', \n",
    "    'DescMotivoPedido'\n",
    "]\n",
    "\n",
    "for col in cols_nulls: \n",
    "    df[col].fillna('     ', inplace=True)"
   ]
  },
  {
   "cell_type": "code",
   "execution_count": 10,
   "metadata": {},
   "outputs": [
    {
     "data": {
      "text/plain": [
       "CodigoBarras    136\n",
       "dtype: int64"
      ]
     },
     "execution_count": 10,
     "metadata": {},
     "output_type": "execute_result"
    }
   ],
   "source": [
    "df.isnull().sum()[df.isnull().sum() > 0]"
   ]
  },
  {
   "cell_type": "code",
   "execution_count": 11,
   "metadata": {},
   "outputs": [],
   "source": [
    "cols_int = [\n",
    "    'Factura',\n",
    "    'Posicion',\n",
    "    'DocumentoVentas',\n",
    "    'PosicionDV',\n",
    "    'Material',\n",
    "    'Solicitante',\n",
    "    'CtdFactUMB',\n",
    "    'ImpuestoDescuento',\n",
    "    'ImpuestoIEPS',\n",
    "]"
   ]
  },
  {
   "cell_type": "code",
   "execution_count": 12,
   "metadata": {},
   "outputs": [],
   "source": [
    "for col in cols_int:\n",
    "    df[col] = df[col].map(int)"
   ]
  },
  {
   "cell_type": "code",
   "execution_count": 13,
   "metadata": {},
   "outputs": [
    {
     "data": {
      "text/plain": [
       "FechaCaducidad    datetime64[ns]\n",
       "FechaCaducidad    datetime64[ns]\n",
       "dtype: object"
      ]
     },
     "execution_count": 13,
     "metadata": {},
     "output_type": "execute_result"
    }
   ],
   "source": [
    "df[['FechaCaducidad', 'FechaCaducidad']].dtypes"
   ]
  },
  {
   "cell_type": "markdown",
   "metadata": {},
   "source": [
    "# Analysis"
   ]
  },
  {
   "cell_type": "code",
   "execution_count": 14,
   "metadata": {},
   "outputs": [
    {
     "name": "stdout",
     "output_type": "stream",
     "text": [
      "FechaFactura desde: 2022-02-28 00:00:00\n",
      "FechaFactura hasta: 2022-02-28 00:00:00\n"
     ]
    }
   ],
   "source": [
    "print('FechaFactura desde:', df['FechaFactura'].min())\n",
    "print('FechaFactura hasta:', df['FechaFactura'].max())"
   ]
  },
  {
   "cell_type": "code",
   "execution_count": 15,
   "metadata": {},
   "outputs": [
    {
     "name": "stdout",
     "output_type": "stream",
     "text": [
      "FechaCaducidad desde: 2022-09-30 00:00:00\n",
      "FechaCaducidad hasta: 2027-02-28 00:00:00\n"
     ]
    }
   ],
   "source": [
    "print('FechaCaducidad desde:', df['FechaCaducidad'].min())\n",
    "print('FechaCaducidad hasta:', df['FechaCaducidad'].max())"
   ]
  },
  {
   "cell_type": "markdown",
   "metadata": {},
   "source": [
    "# Export Data"
   ]
  },
  {
   "cell_type": "code",
   "execution_count": 16,
   "metadata": {},
   "outputs": [],
   "source": [
    "df.to_excel(path + '\\\\Cargar ' + filename.split('.')[0] + '.xlsx',\n",
    "            index=False,\n",
    "            sheet_name='carga')"
   ]
  },
  {
   "cell_type": "code",
   "execution_count": 17,
   "metadata": {},
   "outputs": [
    {
     "data": {
      "text/plain": [
       "(1866, 47)"
      ]
     },
     "execution_count": 17,
     "metadata": {},
     "output_type": "execute_result"
    }
   ],
   "source": [
    "df.shape"
   ]
  },
  {
   "cell_type": "markdown",
   "metadata": {},
   "source": [
    "# Validations"
   ]
  },
  {
   "cell_type": "code",
   "execution_count": 18,
   "metadata": {},
   "outputs": [],
   "source": [
    "conn = pyodbc.connect('Driver={SQL Server};'\n",
    "                     'Server=SFEDWH01;'\n",
    "                     'Trusted_Connection=yes;')"
   ]
  },
  {
   "cell_type": "code",
   "execution_count": 19,
   "metadata": {},
   "outputs": [],
   "source": [
    "qtime = '''SELECT DISTINCT \n",
    "                TmpFecha,\n",
    "                TmpSemanaAnioGenomma AS SemanaGL,\n",
    "                TmpAnioSemanaGenomma AS AnioGL\n",
    "            FROM Gnm_DWH.dbo.Dim_Tiempo'''"
   ]
  },
  {
   "cell_type": "code",
   "execution_count": 20,
   "metadata": {},
   "outputs": [],
   "source": [
    "dtime = pd.read_sql(qtime, conn)"
   ]
  },
  {
   "cell_type": "code",
   "execution_count": 21,
   "metadata": {},
   "outputs": [],
   "source": [
    "df = df.merge(dtime, left_on='FechaFactura', right_on='TmpFecha', how='left')"
   ]
  },
  {
   "cell_type": "code",
   "execution_count": 22,
   "metadata": {},
   "outputs": [
    {
     "data": {
      "text/html": [
       "<div>\n",
       "<style scoped>\n",
       "    .dataframe tbody tr th:only-of-type {\n",
       "        vertical-align: middle;\n",
       "    }\n",
       "\n",
       "    .dataframe tbody tr th {\n",
       "        vertical-align: top;\n",
       "    }\n",
       "\n",
       "    .dataframe thead th {\n",
       "        text-align: right;\n",
       "    }\n",
       "</style>\n",
       "<table border=\"1\" class=\"dataframe\">\n",
       "  <thead>\n",
       "    <tr style=\"text-align: right;\">\n",
       "      <th></th>\n",
       "      <th>ValorNeto</th>\n",
       "    </tr>\n",
       "    <tr>\n",
       "      <th>SemanaGL</th>\n",
       "      <th></th>\n",
       "    </tr>\n",
       "  </thead>\n",
       "  <tbody>\n",
       "    <tr>\n",
       "      <th>10</th>\n",
       "      <td>44,240,996.99</td>\n",
       "    </tr>\n",
       "  </tbody>\n",
       "</table>\n",
       "</div>"
      ],
      "text/plain": [
       "             ValorNeto\n",
       "SemanaGL              \n",
       "10       44,240,996.99"
      ]
     },
     "execution_count": 22,
     "metadata": {},
     "output_type": "execute_result"
    }
   ],
   "source": [
    "df.pivot_table(\n",
    "    index='SemanaGL', \n",
    "    values=['ValorNeto'],\n",
    "    aggfunc='sum'\n",
    ")"
   ]
  },
  {
   "cell_type": "code",
   "execution_count": 23,
   "metadata": {},
   "outputs": [
    {
     "data": {
      "text/html": [
       "<div>\n",
       "<style scoped>\n",
       "    .dataframe tbody tr th:only-of-type {\n",
       "        vertical-align: middle;\n",
       "    }\n",
       "\n",
       "    .dataframe tbody tr th {\n",
       "        vertical-align: top;\n",
       "    }\n",
       "\n",
       "    .dataframe thead th {\n",
       "        text-align: right;\n",
       "    }\n",
       "</style>\n",
       "<table border=\"1\" class=\"dataframe\">\n",
       "  <thead>\n",
       "    <tr style=\"text-align: right;\">\n",
       "      <th></th>\n",
       "      <th>Factura</th>\n",
       "    </tr>\n",
       "    <tr>\n",
       "      <th>SemanaGL</th>\n",
       "      <th></th>\n",
       "    </tr>\n",
       "  </thead>\n",
       "  <tbody>\n",
       "    <tr>\n",
       "      <th>10</th>\n",
       "      <td>1866</td>\n",
       "    </tr>\n",
       "    <tr>\n",
       "      <th>All</th>\n",
       "      <td>1866</td>\n",
       "    </tr>\n",
       "  </tbody>\n",
       "</table>\n",
       "</div>"
      ],
      "text/plain": [
       "          Factura\n",
       "SemanaGL         \n",
       "10           1866\n",
       "All          1866"
      ]
     },
     "execution_count": 23,
     "metadata": {},
     "output_type": "execute_result"
    }
   ],
   "source": [
    "df.pivot_table(\n",
    "    index='SemanaGL', \n",
    "    values='Factura',\n",
    "    aggfunc='count',\n",
    "    margins=True\n",
    ")"
   ]
  },
  {
   "cell_type": "code",
   "execution_count": 24,
   "metadata": {},
   "outputs": [
    {
     "data": {
      "text/html": [
       "<div>\n",
       "<style scoped>\n",
       "    .dataframe tbody tr th:only-of-type {\n",
       "        vertical-align: middle;\n",
       "    }\n",
       "\n",
       "    .dataframe tbody tr th {\n",
       "        vertical-align: top;\n",
       "    }\n",
       "\n",
       "    .dataframe thead th {\n",
       "        text-align: right;\n",
       "    }\n",
       "</style>\n",
       "<table border=\"1\" class=\"dataframe\">\n",
       "  <thead>\n",
       "    <tr style=\"text-align: right;\">\n",
       "      <th></th>\n",
       "      <th>Factura</th>\n",
       "    </tr>\n",
       "    <tr>\n",
       "      <th>FechaFactura</th>\n",
       "      <th></th>\n",
       "    </tr>\n",
       "  </thead>\n",
       "  <tbody>\n",
       "    <tr>\n",
       "      <th>2022-02-28 00:00:00</th>\n",
       "      <td>1866</td>\n",
       "    </tr>\n",
       "    <tr>\n",
       "      <th>All</th>\n",
       "      <td>1866</td>\n",
       "    </tr>\n",
       "  </tbody>\n",
       "</table>\n",
       "</div>"
      ],
      "text/plain": [
       "                     Factura\n",
       "FechaFactura                \n",
       "2022-02-28 00:00:00     1866\n",
       "All                     1866"
      ]
     },
     "execution_count": 24,
     "metadata": {},
     "output_type": "execute_result"
    }
   ],
   "source": [
    "df.pivot_table(\n",
    "    index='FechaFactura', \n",
    "    values='Factura',\n",
    "    aggfunc='count',\n",
    "    margins=True\n",
    ")"
   ]
  },
  {
   "cell_type": "code",
   "execution_count": 25,
   "metadata": {},
   "outputs": [
    {
     "data": {
      "text/html": [
       "<div>\n",
       "<style scoped>\n",
       "    .dataframe tbody tr th:only-of-type {\n",
       "        vertical-align: middle;\n",
       "    }\n",
       "\n",
       "    .dataframe tbody tr th {\n",
       "        vertical-align: top;\n",
       "    }\n",
       "\n",
       "    .dataframe thead th {\n",
       "        text-align: right;\n",
       "    }\n",
       "</style>\n",
       "<table border=\"1\" class=\"dataframe\">\n",
       "  <thead>\n",
       "    <tr style=\"text-align: right;\">\n",
       "      <th></th>\n",
       "      <th>ValorNeto</th>\n",
       "    </tr>\n",
       "    <tr>\n",
       "      <th>MotivoPedido</th>\n",
       "      <th></th>\n",
       "    </tr>\n",
       "  </thead>\n",
       "  <tbody>\n",
       "    <tr>\n",
       "      <th></th>\n",
       "      <td>44,240,996.99</td>\n",
       "    </tr>\n",
       "  </tbody>\n",
       "</table>\n",
       "</div>"
      ],
      "text/plain": [
       "                 ValorNeto\n",
       "MotivoPedido              \n",
       "             44,240,996.99"
      ]
     },
     "execution_count": 25,
     "metadata": {},
     "output_type": "execute_result"
    }
   ],
   "source": [
    "df.pivot_table(\n",
    "    index='MotivoPedido', \n",
    "    values='ValorNeto', \n",
    "    aggfunc='sum'\n",
    ")"
   ]
  },
  {
   "cell_type": "code",
   "execution_count": null,
   "metadata": {},
   "outputs": [],
   "source": []
  },
  {
   "cell_type": "code",
   "execution_count": null,
   "metadata": {},
   "outputs": [],
   "source": []
  }
 ],
 "metadata": {
  "kernelspec": {
   "display_name": "Python 3 (ipykernel)",
   "language": "python",
   "name": "python3"
  },
  "language_info": {
   "codemirror_mode": {
    "name": "ipython",
    "version": 3
   },
   "file_extension": ".py",
   "mimetype": "text/x-python",
   "name": "python",
   "nbconvert_exporter": "python",
   "pygments_lexer": "ipython3",
   "version": "3.8.10"
  },
  "toc": {
   "base_numbering": 1,
   "nav_menu": {},
   "number_sections": true,
   "sideBar": true,
   "skip_h1_title": false,
   "title_cell": "Table of Contents",
   "title_sidebar": "Contents",
   "toc_cell": false,
   "toc_position": {},
   "toc_section_display": true,
   "toc_window_display": false
  }
 },
 "nbformat": 4,
 "nbformat_minor": 4
}
