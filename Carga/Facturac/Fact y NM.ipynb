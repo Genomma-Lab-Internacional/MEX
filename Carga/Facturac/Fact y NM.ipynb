{
 "cells": [
  {
   "cell_type": "code",
   "execution_count": 1,
   "metadata": {},
   "outputs": [],
   "source": [
    "filename = '2022-06 06 Fact 30-May al 05-Jun.xlsx'\n",
    "year = 2022\n",
    "week = 23"
   ]
  },
  {
   "cell_type": "markdown",
   "metadata": {},
   "source": [
    "# Libraries"
   ]
  },
  {
   "cell_type": "code",
   "execution_count": 2,
   "metadata": {},
   "outputs": [],
   "source": [
    "import pandas as pd\n",
    "import pyodbc\n",
    "import os\n",
    "from datetime import datetime\n",
    "\n",
    "pd.io.formats.excel.ExcelFormatter.header_style = None\n",
    "pd.options.display.float_format = '{:,.2f}'.format"
   ]
  },
  {
   "cell_type": "markdown",
   "metadata": {},
   "source": [
    "# Parameters"
   ]
  },
  {
   "cell_type": "code",
   "execution_count": 3,
   "metadata": {},
   "outputs": [],
   "source": [
    "path = r'\\\\NASPRO.infovisiontv.com\\DGI\\DGI Banco Central\\00 CIERRES SEMANALES\\{0}\\{0} {1}'\n",
    "path = path.format(year, str(week).zfill(2))"
   ]
  },
  {
   "cell_type": "markdown",
   "metadata": {},
   "source": [
    "# Import Data"
   ]
  },
  {
   "cell_type": "markdown",
   "metadata": {},
   "source": [
    "'Grupo de artículos'"
   ]
  },
  {
   "cell_type": "code",
   "execution_count": 4,
   "metadata": {},
   "outputs": [
    {
     "name": "stdout",
     "output_type": "stream",
     "text": [
      "CPU times: total: 13.7 s\n",
      "Wall time: 17.8 s\n"
     ]
    }
   ],
   "source": [
    "%%time\n",
    "#df = pd.read_excel(path + '\\\\' + filename, sheet_name='YOSAF', dtype={'Grupo de artículos':'str', 'Tp.cambio p.contab.':'str', 'Lote':'str'})\n",
    "df = pd.read_excel(path + '\\\\' + filename, dtype={'Grupo de artículos':'str', 'Tp.cambio p.contab.':'str', 'Lote':'str'})"
   ]
  },
  {
   "cell_type": "markdown",
   "metadata": {},
   "source": [
    "df[['Grupo de artículos', 'Tp.cambio p.contab.', 'Lote']].dtypes"
   ]
  },
  {
   "cell_type": "code",
   "execution_count": 5,
   "metadata": {},
   "outputs": [
    {
     "data": {
      "text/plain": [
       "(14571, 47)"
      ]
     },
     "execution_count": 5,
     "metadata": {},
     "output_type": "execute_result"
    }
   ],
   "source": [
    "df.shape"
   ]
  },
  {
   "cell_type": "code",
   "execution_count": 6,
   "metadata": {},
   "outputs": [
    {
     "data": {
      "text/html": [
       "<div>\n",
       "<style scoped>\n",
       "    .dataframe tbody tr th:only-of-type {\n",
       "        vertical-align: middle;\n",
       "    }\n",
       "\n",
       "    .dataframe tbody tr th {\n",
       "        vertical-align: top;\n",
       "    }\n",
       "\n",
       "    .dataframe thead th {\n",
       "        text-align: right;\n",
       "    }\n",
       "</style>\n",
       "<table border=\"1\" class=\"dataframe\">\n",
       "  <thead>\n",
       "    <tr style=\"text-align: right;\">\n",
       "      <th></th>\n",
       "      <th>Doc.fact.</th>\n",
       "      <th>Posición</th>\n",
       "      <th>Documento de ventas</th>\n",
       "      <th>Posición.1</th>\n",
       "      <th>Referencia cliente</th>\n",
       "      <th>Material</th>\n",
       "      <th>Cd.Barra</th>\n",
       "      <th>Denomin.posición</th>\n",
       "      <th>Solicitante</th>\n",
       "      <th>Nombre</th>\n",
       "      <th>...</th>\n",
       "      <th>Nombre empresa</th>\n",
       "      <th>Organización ventas</th>\n",
       "      <th>Centro</th>\n",
       "      <th>Almacén</th>\n",
       "      <th>Lote</th>\n",
       "      <th>FeCaduc/FePreferCons</th>\n",
       "      <th>Motivo pedido</th>\n",
       "      <th>Descripción Motivo Pedido</th>\n",
       "      <th>Valor neto.1</th>\n",
       "      <th>Moneda del documento</th>\n",
       "    </tr>\n",
       "  </thead>\n",
       "  <tbody>\n",
       "    <tr>\n",
       "      <th>14561</th>\n",
       "      <td>196,272,914.00</td>\n",
       "      <td>11.00</td>\n",
       "      <td>15,324,024.00</td>\n",
       "      <td>10.00</td>\n",
       "      <td>XL3 Extra Recup  1</td>\n",
       "      <td>8,100,001,422.00</td>\n",
       "      <td>NaN</td>\n",
       "      <td>XL3 XTRA CAJA CON 12 CAPSULAS</td>\n",
       "      <td>1,100,034.00</td>\n",
       "      <td>REPRESENTACIONES JMP SA DE CV</td>\n",
       "      <td>...</td>\n",
       "      <td>GIBART</td>\n",
       "      <td>VGIB</td>\n",
       "      <td>MX06</td>\n",
       "      <td>MX06</td>\n",
       "      <td>2091020742</td>\n",
       "      <td>2024-04-30</td>\n",
       "      <td>NaN</td>\n",
       "      <td>NaN</td>\n",
       "      <td>82,998.30</td>\n",
       "      <td>MXN</td>\n",
       "    </tr>\n",
       "    <tr>\n",
       "      <th>14562</th>\n",
       "      <td>196,272,914.00</td>\n",
       "      <td>12.00</td>\n",
       "      <td>15,324,024.00</td>\n",
       "      <td>10.00</td>\n",
       "      <td>XL3 Extra Recup  1</td>\n",
       "      <td>8,100,001,422.00</td>\n",
       "      <td>NaN</td>\n",
       "      <td>XL3 XTRA CAJA CON 12 CAPSULAS</td>\n",
       "      <td>1,100,034.00</td>\n",
       "      <td>REPRESENTACIONES JMP SA DE CV</td>\n",
       "      <td>...</td>\n",
       "      <td>GIBART</td>\n",
       "      <td>VGIB</td>\n",
       "      <td>MX06</td>\n",
       "      <td>MX06</td>\n",
       "      <td>2091020743</td>\n",
       "      <td>2024-04-30</td>\n",
       "      <td>NaN</td>\n",
       "      <td>NaN</td>\n",
       "      <td>1,506,185.60</td>\n",
       "      <td>MXN</td>\n",
       "    </tr>\n",
       "    <tr>\n",
       "      <th>14563</th>\n",
       "      <td>196,272,914.00</td>\n",
       "      <td>13.00</td>\n",
       "      <td>15,324,024.00</td>\n",
       "      <td>10.00</td>\n",
       "      <td>XL3 Extra Recup  1</td>\n",
       "      <td>8,100,001,422.00</td>\n",
       "      <td>NaN</td>\n",
       "      <td>XL3 XTRA CAJA CON 12 CAPSULAS</td>\n",
       "      <td>1,100,034.00</td>\n",
       "      <td>REPRESENTACIONES JMP SA DE CV</td>\n",
       "      <td>...</td>\n",
       "      <td>GIBART</td>\n",
       "      <td>VGIB</td>\n",
       "      <td>MX06</td>\n",
       "      <td>MX06</td>\n",
       "      <td>2094020744</td>\n",
       "      <td>2024-04-30</td>\n",
       "      <td>NaN</td>\n",
       "      <td>NaN</td>\n",
       "      <td>1,724,640.00</td>\n",
       "      <td>MXN</td>\n",
       "    </tr>\n",
       "    <tr>\n",
       "      <th>14564</th>\n",
       "      <td>196,272,915.00</td>\n",
       "      <td>10.00</td>\n",
       "      <td>15,324,028.00</td>\n",
       "      <td>10.00</td>\n",
       "      <td>Recup Faltantes Ferm</td>\n",
       "      <td>8,100,005,255.00</td>\n",
       "      <td>650240026201</td>\n",
       "      <td>FERMODYL ENER REPAR AMPOS 4X15 ML/12</td>\n",
       "      <td>1,100,034.00</td>\n",
       "      <td>REPRESENTACIONES JMP SA DE CV</td>\n",
       "      <td>...</td>\n",
       "      <td>GIBART</td>\n",
       "      <td>VGIB</td>\n",
       "      <td>MX06</td>\n",
       "      <td>MX06</td>\n",
       "      <td>M21Y10A</td>\n",
       "      <td>2024-11-30</td>\n",
       "      <td>NaN</td>\n",
       "      <td>NaN</td>\n",
       "      <td>3,184.80</td>\n",
       "      <td>MXN</td>\n",
       "    </tr>\n",
       "    <tr>\n",
       "      <th>14565</th>\n",
       "      <td>NaN</td>\n",
       "      <td>NaN</td>\n",
       "      <td>NaN</td>\n",
       "      <td>NaN</td>\n",
       "      <td>NaN</td>\n",
       "      <td>NaN</td>\n",
       "      <td>NaN</td>\n",
       "      <td>NaN</td>\n",
       "      <td>NaN</td>\n",
       "      <td>NaN</td>\n",
       "      <td>...</td>\n",
       "      <td>NaN</td>\n",
       "      <td>NaN</td>\n",
       "      <td>NaN</td>\n",
       "      <td>NaN</td>\n",
       "      <td>NaN</td>\n",
       "      <td>NaT</td>\n",
       "      <td>NaN</td>\n",
       "      <td>NaN</td>\n",
       "      <td>6,106.44</td>\n",
       "      <td>EUR</td>\n",
       "    </tr>\n",
       "    <tr>\n",
       "      <th>14566</th>\n",
       "      <td>NaN</td>\n",
       "      <td>NaN</td>\n",
       "      <td>NaN</td>\n",
       "      <td>NaN</td>\n",
       "      <td>NaN</td>\n",
       "      <td>NaN</td>\n",
       "      <td>NaN</td>\n",
       "      <td>NaN</td>\n",
       "      <td>NaN</td>\n",
       "      <td>NaN</td>\n",
       "      <td>...</td>\n",
       "      <td>NaN</td>\n",
       "      <td>NaN</td>\n",
       "      <td>NaN</td>\n",
       "      <td>NaN</td>\n",
       "      <td>NaN</td>\n",
       "      <td>NaT</td>\n",
       "      <td>NaN</td>\n",
       "      <td>NaN</td>\n",
       "      <td>263,211,112.58</td>\n",
       "      <td>MXN</td>\n",
       "    </tr>\n",
       "    <tr>\n",
       "      <th>14567</th>\n",
       "      <td>NaN</td>\n",
       "      <td>NaN</td>\n",
       "      <td>NaN</td>\n",
       "      <td>NaN</td>\n",
       "      <td>NaN</td>\n",
       "      <td>NaN</td>\n",
       "      <td>NaN</td>\n",
       "      <td>NaN</td>\n",
       "      <td>NaN</td>\n",
       "      <td>NaN</td>\n",
       "      <td>...</td>\n",
       "      <td>NaN</td>\n",
       "      <td>NaN</td>\n",
       "      <td>NaN</td>\n",
       "      <td>NaN</td>\n",
       "      <td>NaN</td>\n",
       "      <td>NaT</td>\n",
       "      <td>NaN</td>\n",
       "      <td>NaN</td>\n",
       "      <td>3,297,158.85</td>\n",
       "      <td>USD</td>\n",
       "    </tr>\n",
       "    <tr>\n",
       "      <th>14568</th>\n",
       "      <td>NaN</td>\n",
       "      <td>NaN</td>\n",
       "      <td>NaN</td>\n",
       "      <td>NaN</td>\n",
       "      <td>NaN</td>\n",
       "      <td>NaN</td>\n",
       "      <td>NaN</td>\n",
       "      <td>NaN</td>\n",
       "      <td>NaN</td>\n",
       "      <td>NaN</td>\n",
       "      <td>...</td>\n",
       "      <td>NaN</td>\n",
       "      <td>NaN</td>\n",
       "      <td>NaN</td>\n",
       "      <td>NaN</td>\n",
       "      <td>NaN</td>\n",
       "      <td>NaT</td>\n",
       "      <td>NaN</td>\n",
       "      <td>NaN</td>\n",
       "      <td>NaN</td>\n",
       "      <td>NaN</td>\n",
       "    </tr>\n",
       "    <tr>\n",
       "      <th>14569</th>\n",
       "      <td>NaN</td>\n",
       "      <td>NaN</td>\n",
       "      <td>NaN</td>\n",
       "      <td>NaN</td>\n",
       "      <td>NaN</td>\n",
       "      <td>NaN</td>\n",
       "      <td>NaN</td>\n",
       "      <td>NaN</td>\n",
       "      <td>NaN</td>\n",
       "      <td>NaN</td>\n",
       "      <td>...</td>\n",
       "      <td>NaN</td>\n",
       "      <td>NaN</td>\n",
       "      <td>NaN</td>\n",
       "      <td>NaN</td>\n",
       "      <td>NaN</td>\n",
       "      <td>NaT</td>\n",
       "      <td>NaN</td>\n",
       "      <td>NaN</td>\n",
       "      <td>NaN</td>\n",
       "      <td>NaN</td>\n",
       "    </tr>\n",
       "    <tr>\n",
       "      <th>14570</th>\n",
       "      <td>NaN</td>\n",
       "      <td>NaN</td>\n",
       "      <td>NaN</td>\n",
       "      <td>NaN</td>\n",
       "      <td>NaN</td>\n",
       "      <td>NaN</td>\n",
       "      <td>NaN</td>\n",
       "      <td>NaN</td>\n",
       "      <td>NaN</td>\n",
       "      <td>NaN</td>\n",
       "      <td>...</td>\n",
       "      <td>NaN</td>\n",
       "      <td>NaN</td>\n",
       "      <td>NaN</td>\n",
       "      <td>NaN</td>\n",
       "      <td>NaN</td>\n",
       "      <td>NaT</td>\n",
       "      <td>NaN</td>\n",
       "      <td>NaN</td>\n",
       "      <td>NaN</td>\n",
       "      <td>NaN</td>\n",
       "    </tr>\n",
       "  </tbody>\n",
       "</table>\n",
       "<p>10 rows × 47 columns</p>\n",
       "</div>"
      ],
      "text/plain": [
       "           Doc.fact.  Posición  Documento de ventas  Posición.1  \\\n",
       "14561 196,272,914.00     11.00        15,324,024.00       10.00   \n",
       "14562 196,272,914.00     12.00        15,324,024.00       10.00   \n",
       "14563 196,272,914.00     13.00        15,324,024.00       10.00   \n",
       "14564 196,272,915.00     10.00        15,324,028.00       10.00   \n",
       "14565            NaN       NaN                  NaN         NaN   \n",
       "14566            NaN       NaN                  NaN         NaN   \n",
       "14567            NaN       NaN                  NaN         NaN   \n",
       "14568            NaN       NaN                  NaN         NaN   \n",
       "14569            NaN       NaN                  NaN         NaN   \n",
       "14570            NaN       NaN                  NaN         NaN   \n",
       "\n",
       "         Referencia cliente         Material      Cd.Barra  \\\n",
       "14561    XL3 Extra Recup  1 8,100,001,422.00           NaN   \n",
       "14562    XL3 Extra Recup  1 8,100,001,422.00           NaN   \n",
       "14563    XL3 Extra Recup  1 8,100,001,422.00           NaN   \n",
       "14564  Recup Faltantes Ferm 8,100,005,255.00  650240026201   \n",
       "14565                   NaN              NaN           NaN   \n",
       "14566                   NaN              NaN           NaN   \n",
       "14567                   NaN              NaN           NaN   \n",
       "14568                   NaN              NaN           NaN   \n",
       "14569                   NaN              NaN           NaN   \n",
       "14570                   NaN              NaN           NaN   \n",
       "\n",
       "                           Denomin.posición  Solicitante  \\\n",
       "14561         XL3 XTRA CAJA CON 12 CAPSULAS 1,100,034.00   \n",
       "14562         XL3 XTRA CAJA CON 12 CAPSULAS 1,100,034.00   \n",
       "14563         XL3 XTRA CAJA CON 12 CAPSULAS 1,100,034.00   \n",
       "14564  FERMODYL ENER REPAR AMPOS 4X15 ML/12 1,100,034.00   \n",
       "14565                                   NaN          NaN   \n",
       "14566                                   NaN          NaN   \n",
       "14567                                   NaN          NaN   \n",
       "14568                                   NaN          NaN   \n",
       "14569                                   NaN          NaN   \n",
       "14570                                   NaN          NaN   \n",
       "\n",
       "                              Nombre  ... Nombre empresa Organización ventas  \\\n",
       "14561  REPRESENTACIONES JMP SA DE CV  ...         GIBART                VGIB   \n",
       "14562  REPRESENTACIONES JMP SA DE CV  ...         GIBART                VGIB   \n",
       "14563  REPRESENTACIONES JMP SA DE CV  ...         GIBART                VGIB   \n",
       "14564  REPRESENTACIONES JMP SA DE CV  ...         GIBART                VGIB   \n",
       "14565                            NaN  ...            NaN                 NaN   \n",
       "14566                            NaN  ...            NaN                 NaN   \n",
       "14567                            NaN  ...            NaN                 NaN   \n",
       "14568                            NaN  ...            NaN                 NaN   \n",
       "14569                            NaN  ...            NaN                 NaN   \n",
       "14570                            NaN  ...            NaN                 NaN   \n",
       "\n",
       "      Centro Almacén        Lote FeCaduc/FePreferCons  Motivo pedido  \\\n",
       "14561   MX06    MX06  2091020742           2024-04-30            NaN   \n",
       "14562   MX06    MX06  2091020743           2024-04-30            NaN   \n",
       "14563   MX06    MX06  2094020744           2024-04-30            NaN   \n",
       "14564   MX06    MX06     M21Y10A           2024-11-30            NaN   \n",
       "14565    NaN     NaN         NaN                  NaT            NaN   \n",
       "14566    NaN     NaN         NaN                  NaT            NaN   \n",
       "14567    NaN     NaN         NaN                  NaT            NaN   \n",
       "14568    NaN     NaN         NaN                  NaT            NaN   \n",
       "14569    NaN     NaN         NaN                  NaT            NaN   \n",
       "14570    NaN     NaN         NaN                  NaT            NaN   \n",
       "\n",
       "      Descripción Motivo Pedido   Valor neto.1 Moneda del documento  \n",
       "14561                       NaN      82,998.30                  MXN  \n",
       "14562                       NaN   1,506,185.60                  MXN  \n",
       "14563                       NaN   1,724,640.00                  MXN  \n",
       "14564                       NaN       3,184.80                  MXN  \n",
       "14565                       NaN       6,106.44                  EUR  \n",
       "14566                       NaN 263,211,112.58                  MXN  \n",
       "14567                       NaN   3,297,158.85                  USD  \n",
       "14568                       NaN            NaN                  NaN  \n",
       "14569                       NaN            NaN                  NaN  \n",
       "14570                       NaN            NaN                  NaN  \n",
       "\n",
       "[10 rows x 47 columns]"
      ]
     },
     "execution_count": 6,
     "metadata": {},
     "output_type": "execute_result"
    }
   ],
   "source": [
    "df.tail(10)"
   ]
  },
  {
   "cell_type": "markdown",
   "metadata": {},
   "source": [
    "# Data Cleaning"
   ]
  },
  {
   "cell_type": "markdown",
   "metadata": {},
   "source": [
    "En esta línea omitimos las 6 filas nulas:"
   ]
  },
  {
   "cell_type": "code",
   "execution_count": 7,
   "metadata": {},
   "outputs": [],
   "source": [
    "df = df[:df.shape[0]-6]"
   ]
  },
  {
   "cell_type": "code",
   "execution_count": 8,
   "metadata": {},
   "outputs": [
    {
     "data": {
      "text/plain": [
       "Referencia cliente             246\n",
       "Cd.Barra                      3302\n",
       "RFC                           3977\n",
       "Nº cuenta anterior            2090\n",
       "Destinatario mcía.             246\n",
       "Nombre.1                       246\n",
       "Descripción CeBe               246\n",
       "Almacén                       1278\n",
       "Lote                          1301\n",
       "FeCaduc/FePreferCons          1301\n",
       "Motivo pedido                13178\n",
       "Descripción Motivo Pedido    13178\n",
       "dtype: int64"
      ]
     },
     "execution_count": 8,
     "metadata": {},
     "output_type": "execute_result"
    }
   ],
   "source": [
    "df.isnull().sum()[df.isnull().sum() > 0]"
   ]
  },
  {
   "cell_type": "markdown",
   "metadata": {},
   "source": [
    "Aquí renombraremos las columnas:"
   ]
  },
  {
   "cell_type": "code",
   "execution_count": 9,
   "metadata": {},
   "outputs": [],
   "source": [
    "new_cols = [\n",
    "     'Factura',\n",
    "     'Posicion',\n",
    "     'DocumentoVentas',\n",
    "     'PosicionDV',\n",
    "     'NumeroPedCliente',\n",
    "     'Material',\n",
    "     'CodigoBarras',\n",
    "     'Denominacion',\n",
    "     'Solicitante',\n",
    "     'Nombre',\n",
    "     'RFC',\n",
    "     'CNAC',\n",
    "     'GrupoCuentas',\n",
    "     'GrupoTesoreria',\n",
    "     'DestinatarioMcia',\n",
    "     'NombreDestinatario',\n",
    "     'CantidadFacturada',\n",
    "     'UnidadMedida',\n",
    "     'CtdFactUMB',\n",
    "     'UnidadMedidaBase',\n",
    "     'PrecioUnitario',\n",
    "     'ImpuestoBase',\n",
    "     'ImpuestoDescuento',\n",
    "     'ValorNeto',\n",
    "     'ImporteImpuesto',\n",
    "     'ImpuestoIEPS',\n",
    "     'ImpuestoTotal',\n",
    "     'CentroBeneficio',\n",
    "     'DescripcionCebe',\n",
    "     'TipoUnidades',\n",
    "     'FechaFactura',\n",
    "     'GrupoArticulos',\n",
    "     'DenominacionArticulos',\n",
    "     'ClaseFactura',\n",
    "     'DenominacionTipoDocto',\n",
    "     'CambioContable',\n",
    "     'Sociedad',\n",
    "     'Nombreempresa',\n",
    "     'OrganizacionVentas',\n",
    "     'Centro',\n",
    "     'Almacen',\n",
    "     'Lote',\n",
    "     'FechaCaducidad',\n",
    "     'MotivoPedido',\n",
    "     'DescMotivoPedido',\n",
    "     'ValorNetoAbs',\n",
    "     'Moneda'\n",
    "]"
   ]
  },
  {
   "cell_type": "code",
   "execution_count": 10,
   "metadata": {},
   "outputs": [],
   "source": [
    "df.columns = new_cols"
   ]
  },
  {
   "cell_type": "markdown",
   "metadata": {},
   "source": [
    "Estas columnas en vez de tener nulos, deben ser 5 espacios vacío, sino se cumple esto, no se verá reflajada la data de facturación:"
   ]
  },
  {
   "cell_type": "code",
   "execution_count": 11,
   "metadata": {},
   "outputs": [],
   "source": [
    "cols_nulls = ['RFC', 'CNAC', 'Almacen', 'Lote', 'MotivoPedido', 'DescMotivoPedido']\n",
    "for col in cols_nulls: \n",
    "    df[col].fillna('     ', inplace=True)"
   ]
  },
  {
   "cell_type": "code",
   "execution_count": 12,
   "metadata": {},
   "outputs": [
    {
     "data": {
      "text/plain": [
       "NumeroPedCliente       246\n",
       "CodigoBarras          3302\n",
       "DestinatarioMcia       246\n",
       "NombreDestinatario     246\n",
       "DescripcionCebe        246\n",
       "FechaCaducidad        1301\n",
       "dtype: int64"
      ]
     },
     "execution_count": 12,
     "metadata": {},
     "output_type": "execute_result"
    }
   ],
   "source": [
    "df.isnull().sum()[df.isnull().sum() > 0]"
   ]
  },
  {
   "cell_type": "markdown",
   "metadata": {},
   "source": [
    "Transformamos de decimales a enteros las siguientes columnas:"
   ]
  },
  {
   "cell_type": "code",
   "execution_count": 13,
   "metadata": {},
   "outputs": [],
   "source": [
    "cols_int = [\n",
    "    'Factura',\n",
    "    'Posicion',\n",
    "    'DocumentoVentas',\n",
    "    'PosicionDV',\n",
    "    'Material',\n",
    "    'Solicitante',\n",
    "    'CtdFactUMB',\n",
    "    'ImpuestoDescuento',\n",
    "    'ImpuestoIEPS',\n",
    "]"
   ]
  },
  {
   "cell_type": "code",
   "execution_count": 14,
   "metadata": {},
   "outputs": [],
   "source": [
    "for col in cols_int:\n",
    "    df[col] = df[col].map(int)"
   ]
  },
  {
   "cell_type": "markdown",
   "metadata": {},
   "source": [
    "Verificamos que estas dos columnas sean fechas (sino lo son pues hay que convertirlas):"
   ]
  },
  {
   "cell_type": "code",
   "execution_count": 15,
   "metadata": {},
   "outputs": [
    {
     "data": {
      "text/plain": [
       "FechaCaducidad    datetime64[ns]\n",
       "FechaCaducidad    datetime64[ns]\n",
       "dtype: object"
      ]
     },
     "execution_count": 15,
     "metadata": {},
     "output_type": "execute_result"
    }
   ],
   "source": [
    "df[['FechaCaducidad', 'FechaCaducidad']].dtypes"
   ]
  },
  {
   "cell_type": "markdown",
   "metadata": {},
   "source": [
    "Verificar que las fechas de factura y caducidad tengan sentido (por ejemplo que no caduque en el año 9999):"
   ]
  },
  {
   "cell_type": "code",
   "execution_count": 16,
   "metadata": {},
   "outputs": [
    {
     "name": "stdout",
     "output_type": "stream",
     "text": [
      "FechaFactura desde: 2022-05-30 00:00:00\n",
      "FechaFactura hasta: 2022-06-05 00:00:00\n"
     ]
    }
   ],
   "source": [
    "print('FechaFactura desde:', df['FechaFactura'].min())\n",
    "print('FechaFactura hasta:', df['FechaFactura'].max())"
   ]
  },
  {
   "cell_type": "code",
   "execution_count": 17,
   "metadata": {},
   "outputs": [
    {
     "name": "stdout",
     "output_type": "stream",
     "text": [
      "FechaCaducidad desde: 2022-02-09 00:00:00\n",
      "FechaCaducidad hasta: 2030-03-10 00:00:00\n"
     ]
    }
   ],
   "source": [
    "print('FechaCaducidad desde:', df['FechaCaducidad'].min())\n",
    "print('FechaCaducidad hasta:', df['FechaCaducidad'].max())"
   ]
  },
  {
   "cell_type": "markdown",
   "metadata": {},
   "source": [
    "# Export Data"
   ]
  },
  {
   "cell_type": "markdown",
   "metadata": {},
   "source": [
    "Exportamos la información a la misma carpeta que la cargamos:"
   ]
  },
  {
   "cell_type": "code",
   "execution_count": 18,
   "metadata": {},
   "outputs": [],
   "source": [
    "df.to_excel(path + '\\\\Cargar ' + filename.split('.')[0] + '.xlsx',\n",
    "            index=False,\n",
    "            sheet_name='carga')"
   ]
  },
  {
   "cell_type": "code",
   "execution_count": 19,
   "metadata": {},
   "outputs": [
    {
     "data": {
      "text/plain": [
       "(14565, 47)"
      ]
     },
     "execution_count": 19,
     "metadata": {},
     "output_type": "execute_result"
    }
   ],
   "source": [
    "df.shape"
   ]
  },
  {
   "cell_type": "markdown",
   "metadata": {},
   "source": [
    "# Validations"
   ]
  },
  {
   "cell_type": "code",
   "execution_count": 20,
   "metadata": {},
   "outputs": [],
   "source": [
    "conn = pyodbc.connect('Driver={SQL Server};'\n",
    "                     'Server=SFEDWH01;'\n",
    "                     'Trusted_Connection=yes;')"
   ]
  },
  {
   "cell_type": "code",
   "execution_count": 21,
   "metadata": {},
   "outputs": [],
   "source": [
    "qtime = '''SELECT DISTINCT \n",
    "                TmpFecha,\n",
    "                TmpSemanaAnioGenomma AS SemanaGL,\n",
    "                TmpAnioSemanaGenomma AS AnioGL\n",
    "            FROM Gnm_DWH.dbo.Dim_Tiempo'''"
   ]
  },
  {
   "cell_type": "code",
   "execution_count": 22,
   "metadata": {},
   "outputs": [
    {
     "name": "stderr",
     "output_type": "stream",
     "text": [
      "c:\\Users\\jshernandezm\\Anaconda3\\lib\\site-packages\\pandas\\io\\sql.py:761: UserWarning: pandas only support SQLAlchemy connectable(engine/connection) ordatabase string URI or sqlite3 DBAPI2 connectionother DBAPI2 objects are not tested, please consider using SQLAlchemy\n",
      "  warnings.warn(\n"
     ]
    }
   ],
   "source": [
    "dtime = pd.read_sql(qtime, conn)"
   ]
  },
  {
   "cell_type": "code",
   "execution_count": 23,
   "metadata": {},
   "outputs": [],
   "source": [
    "df = df.merge(dtime, left_on='FechaFactura', right_on='TmpFecha', how='left')"
   ]
  },
  {
   "cell_type": "code",
   "execution_count": 24,
   "metadata": {},
   "outputs": [
    {
     "data": {
      "text/html": [
       "<div>\n",
       "<style scoped>\n",
       "    .dataframe tbody tr th:only-of-type {\n",
       "        vertical-align: middle;\n",
       "    }\n",
       "\n",
       "    .dataframe tbody tr th {\n",
       "        vertical-align: top;\n",
       "    }\n",
       "\n",
       "    .dataframe thead th {\n",
       "        text-align: right;\n",
       "    }\n",
       "</style>\n",
       "<table border=\"1\" class=\"dataframe\">\n",
       "  <thead>\n",
       "    <tr style=\"text-align: right;\">\n",
       "      <th></th>\n",
       "      <th>ValorNeto</th>\n",
       "    </tr>\n",
       "    <tr>\n",
       "      <th>SemanaGL</th>\n",
       "      <th></th>\n",
       "    </tr>\n",
       "  </thead>\n",
       "  <tbody>\n",
       "    <tr>\n",
       "      <th>23</th>\n",
       "      <td>213,123,805.19</td>\n",
       "    </tr>\n",
       "  </tbody>\n",
       "</table>\n",
       "</div>"
      ],
      "text/plain": [
       "              ValorNeto\n",
       "SemanaGL               \n",
       "23       213,123,805.19"
      ]
     },
     "execution_count": 24,
     "metadata": {},
     "output_type": "execute_result"
    }
   ],
   "source": [
    "df.pivot_table(\n",
    "    index='SemanaGL', \n",
    "    values=['ValorNeto'],\n",
    "    aggfunc='sum'\n",
    ")"
   ]
  },
  {
   "cell_type": "code",
   "execution_count": 25,
   "metadata": {},
   "outputs": [
    {
     "data": {
      "text/html": [
       "<div>\n",
       "<style scoped>\n",
       "    .dataframe tbody tr th:only-of-type {\n",
       "        vertical-align: middle;\n",
       "    }\n",
       "\n",
       "    .dataframe tbody tr th {\n",
       "        vertical-align: top;\n",
       "    }\n",
       "\n",
       "    .dataframe thead th {\n",
       "        text-align: right;\n",
       "    }\n",
       "</style>\n",
       "<table border=\"1\" class=\"dataframe\">\n",
       "  <thead>\n",
       "    <tr style=\"text-align: right;\">\n",
       "      <th></th>\n",
       "      <th>Factura</th>\n",
       "    </tr>\n",
       "    <tr>\n",
       "      <th>SemanaGL</th>\n",
       "      <th></th>\n",
       "    </tr>\n",
       "  </thead>\n",
       "  <tbody>\n",
       "    <tr>\n",
       "      <th>23</th>\n",
       "      <td>14565</td>\n",
       "    </tr>\n",
       "    <tr>\n",
       "      <th>All</th>\n",
       "      <td>14565</td>\n",
       "    </tr>\n",
       "  </tbody>\n",
       "</table>\n",
       "</div>"
      ],
      "text/plain": [
       "          Factura\n",
       "SemanaGL         \n",
       "23          14565\n",
       "All         14565"
      ]
     },
     "execution_count": 25,
     "metadata": {},
     "output_type": "execute_result"
    }
   ],
   "source": [
    "df.pivot_table(\n",
    "    index='SemanaGL', \n",
    "    values='Factura',\n",
    "    aggfunc='count',\n",
    "    margins=True\n",
    ")"
   ]
  },
  {
   "cell_type": "code",
   "execution_count": 26,
   "metadata": {},
   "outputs": [
    {
     "data": {
      "text/html": [
       "<div>\n",
       "<style scoped>\n",
       "    .dataframe tbody tr th:only-of-type {\n",
       "        vertical-align: middle;\n",
       "    }\n",
       "\n",
       "    .dataframe tbody tr th {\n",
       "        vertical-align: top;\n",
       "    }\n",
       "\n",
       "    .dataframe thead th {\n",
       "        text-align: right;\n",
       "    }\n",
       "</style>\n",
       "<table border=\"1\" class=\"dataframe\">\n",
       "  <thead>\n",
       "    <tr style=\"text-align: right;\">\n",
       "      <th></th>\n",
       "      <th>Factura</th>\n",
       "    </tr>\n",
       "    <tr>\n",
       "      <th>FechaFactura</th>\n",
       "      <th></th>\n",
       "    </tr>\n",
       "  </thead>\n",
       "  <tbody>\n",
       "    <tr>\n",
       "      <th>2022-05-30 00:00:00</th>\n",
       "      <td>2679</td>\n",
       "    </tr>\n",
       "    <tr>\n",
       "      <th>2022-05-31 00:00:00</th>\n",
       "      <td>3308</td>\n",
       "    </tr>\n",
       "    <tr>\n",
       "      <th>2022-06-01 00:00:00</th>\n",
       "      <td>2147</td>\n",
       "    </tr>\n",
       "    <tr>\n",
       "      <th>2022-06-02 00:00:00</th>\n",
       "      <td>2075</td>\n",
       "    </tr>\n",
       "    <tr>\n",
       "      <th>2022-06-03 00:00:00</th>\n",
       "      <td>1100</td>\n",
       "    </tr>\n",
       "    <tr>\n",
       "      <th>2022-06-04 00:00:00</th>\n",
       "      <td>1565</td>\n",
       "    </tr>\n",
       "    <tr>\n",
       "      <th>2022-06-05 00:00:00</th>\n",
       "      <td>1691</td>\n",
       "    </tr>\n",
       "    <tr>\n",
       "      <th>All</th>\n",
       "      <td>14565</td>\n",
       "    </tr>\n",
       "  </tbody>\n",
       "</table>\n",
       "</div>"
      ],
      "text/plain": [
       "                     Factura\n",
       "FechaFactura                \n",
       "2022-05-30 00:00:00     2679\n",
       "2022-05-31 00:00:00     3308\n",
       "2022-06-01 00:00:00     2147\n",
       "2022-06-02 00:00:00     2075\n",
       "2022-06-03 00:00:00     1100\n",
       "2022-06-04 00:00:00     1565\n",
       "2022-06-05 00:00:00     1691\n",
       "All                    14565"
      ]
     },
     "execution_count": 26,
     "metadata": {},
     "output_type": "execute_result"
    }
   ],
   "source": [
    "df.pivot_table(\n",
    "    index='FechaFactura', \n",
    "    values='Factura',\n",
    "    aggfunc='count',\n",
    "    margins=True\n",
    ")"
   ]
  },
  {
   "cell_type": "code",
   "execution_count": 27,
   "metadata": {},
   "outputs": [
    {
     "data": {
      "text/html": [
       "<div>\n",
       "<style scoped>\n",
       "    .dataframe tbody tr th:only-of-type {\n",
       "        vertical-align: middle;\n",
       "    }\n",
       "\n",
       "    .dataframe tbody tr th {\n",
       "        vertical-align: top;\n",
       "    }\n",
       "\n",
       "    .dataframe thead th {\n",
       "        text-align: right;\n",
       "    }\n",
       "</style>\n",
       "<table border=\"1\" class=\"dataframe\">\n",
       "  <thead>\n",
       "    <tr style=\"text-align: right;\">\n",
       "      <th></th>\n",
       "      <th>ValorNeto</th>\n",
       "    </tr>\n",
       "    <tr>\n",
       "      <th>MotivoPedido</th>\n",
       "      <th></th>\n",
       "    </tr>\n",
       "  </thead>\n",
       "  <tbody>\n",
       "    <tr>\n",
       "      <th></th>\n",
       "      <td>251,913,448.70</td>\n",
       "    </tr>\n",
       "    <tr>\n",
       "      <th>M03</th>\n",
       "      <td>-1,824.00</td>\n",
       "    </tr>\n",
       "    <tr>\n",
       "      <th>M05</th>\n",
       "      <td>-91,688.67</td>\n",
       "    </tr>\n",
       "    <tr>\n",
       "      <th>M07</th>\n",
       "      <td>-243,921.68</td>\n",
       "    </tr>\n",
       "    <tr>\n",
       "      <th>M08</th>\n",
       "      <td>-664,446.81</td>\n",
       "    </tr>\n",
       "    <tr>\n",
       "      <th>M09</th>\n",
       "      <td>-368,501.17</td>\n",
       "    </tr>\n",
       "    <tr>\n",
       "      <th>M13</th>\n",
       "      <td>-71,503.56</td>\n",
       "    </tr>\n",
       "    <tr>\n",
       "      <th>M14</th>\n",
       "      <td>-44,580.32</td>\n",
       "    </tr>\n",
       "    <tr>\n",
       "      <th>M19</th>\n",
       "      <td>-68,536.32</td>\n",
       "    </tr>\n",
       "    <tr>\n",
       "      <th>X1</th>\n",
       "      <td>-34,497,237.07</td>\n",
       "    </tr>\n",
       "    <tr>\n",
       "      <th>Y01</th>\n",
       "      <td>-2,737,403.91</td>\n",
       "    </tr>\n",
       "  </tbody>\n",
       "</table>\n",
       "</div>"
      ],
      "text/plain": [
       "                  ValorNeto\n",
       "MotivoPedido               \n",
       "             251,913,448.70\n",
       "M03               -1,824.00\n",
       "M05              -91,688.67\n",
       "M07             -243,921.68\n",
       "M08             -664,446.81\n",
       "M09             -368,501.17\n",
       "M13              -71,503.56\n",
       "M14              -44,580.32\n",
       "M19              -68,536.32\n",
       "X1           -34,497,237.07\n",
       "Y01           -2,737,403.91"
      ]
     },
     "execution_count": 27,
     "metadata": {},
     "output_type": "execute_result"
    }
   ],
   "source": [
    "df.pivot_table(\n",
    "    index='MotivoPedido', \n",
    "    values='ValorNeto', \n",
    "    aggfunc='sum'\n",
    ")"
   ]
  },
  {
   "cell_type": "code",
   "execution_count": null,
   "metadata": {},
   "outputs": [],
   "source": []
  }
 ],
 "metadata": {
  "interpreter": {
   "hash": "fe4feffa201cdf201c8a2af344ba7b0bb32861ea0c787625218332493d6906c2"
  },
  "kernelspec": {
   "display_name": "Python 3.8.10 ('base')",
   "language": "python",
   "name": "python3"
  },
  "language_info": {
   "codemirror_mode": {
    "name": "ipython",
    "version": 3
   },
   "file_extension": ".py",
   "mimetype": "text/x-python",
   "name": "python",
   "nbconvert_exporter": "python",
   "pygments_lexer": "ipython3",
   "version": "3.8.10"
  },
  "toc": {
   "base_numbering": 1,
   "nav_menu": {},
   "number_sections": true,
   "sideBar": true,
   "skip_h1_title": false,
   "title_cell": "Table of Contents",
   "title_sidebar": "Contents",
   "toc_cell": false,
   "toc_position": {},
   "toc_section_display": true,
   "toc_window_display": false
  }
 },
 "nbformat": 4,
 "nbformat_minor": 4
}
