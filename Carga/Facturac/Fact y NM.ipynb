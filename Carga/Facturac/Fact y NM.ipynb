{
 "cells": [
  {
   "cell_type": "code",
   "execution_count": 1,
   "metadata": {},
   "outputs": [],
   "source": [
    "filename = '2022-05 16 Fact 9-May al 15-May.xlsx'\n",
    "year = 2022\n",
    "week = 20"
   ]
  },
  {
   "cell_type": "markdown",
   "metadata": {},
   "source": [
    "# Libraries"
   ]
  },
  {
   "cell_type": "code",
   "execution_count": 2,
   "metadata": {},
   "outputs": [],
   "source": [
    "import pandas as pd\n",
    "import pyodbc\n",
    "import os\n",
    "from datetime import datetime\n",
    "\n",
    "pd.io.formats.excel.ExcelFormatter.header_style = None\n",
    "pd.options.display.float_format = '{:,.2f}'.format"
   ]
  },
  {
   "cell_type": "markdown",
   "metadata": {},
   "source": [
    "# Parameters"
   ]
  },
  {
   "cell_type": "code",
   "execution_count": 3,
   "metadata": {},
   "outputs": [],
   "source": [
    "path = r'\\\\NASPRO.infovisiontv.com\\DGI\\DGI Banco Central\\00 CIERRES SEMANALES\\{0}\\{0} {1}'\n",
    "path = path.format(year, str(week).zfill(2))"
   ]
  },
  {
   "cell_type": "markdown",
   "metadata": {},
   "source": [
    "# Import Data"
   ]
  },
  {
   "cell_type": "markdown",
   "metadata": {},
   "source": [
    "'Grupo de artículos'"
   ]
  },
  {
   "cell_type": "code",
   "execution_count": 4,
   "metadata": {},
   "outputs": [
    {
     "name": "stdout",
     "output_type": "stream",
     "text": [
      "Wall time: 16.9 s\n"
     ]
    }
   ],
   "source": [
    "%%time\n",
    "#df = pd.read_excel(path + '\\\\' + filename, sheet_name='YOSAF', dtype={'Grupo de artículos':'str', 'Tp.cambio p.contab.':'str', 'Lote':'str'})\n",
    "df = pd.read_excel(path + '\\\\' + filename, dtype={'Grupo de artículos':'str', 'Tp.cambio p.contab.':'str', 'Lote':'str'})"
   ]
  },
  {
   "cell_type": "markdown",
   "metadata": {},
   "source": [
    "df[['Grupo de artículos', 'Tp.cambio p.contab.', 'Lote']].dtypes"
   ]
  },
  {
   "cell_type": "code",
   "execution_count": 5,
   "metadata": {},
   "outputs": [
    {
     "data": {
      "text/plain": [
       "(14022, 47)"
      ]
     },
     "execution_count": 5,
     "metadata": {},
     "output_type": "execute_result"
    }
   ],
   "source": [
    "df.shape"
   ]
  },
  {
   "cell_type": "code",
   "execution_count": 6,
   "metadata": {},
   "outputs": [
    {
     "data": {
      "text/html": [
       "<div>\n",
       "<style scoped>\n",
       "    .dataframe tbody tr th:only-of-type {\n",
       "        vertical-align: middle;\n",
       "    }\n",
       "\n",
       "    .dataframe tbody tr th {\n",
       "        vertical-align: top;\n",
       "    }\n",
       "\n",
       "    .dataframe thead th {\n",
       "        text-align: right;\n",
       "    }\n",
       "</style>\n",
       "<table border=\"1\" class=\"dataframe\">\n",
       "  <thead>\n",
       "    <tr style=\"text-align: right;\">\n",
       "      <th></th>\n",
       "      <th>Doc.fact.</th>\n",
       "      <th>Posición</th>\n",
       "      <th>Documento de ventas</th>\n",
       "      <th>Posición.1</th>\n",
       "      <th>Referencia cliente</th>\n",
       "      <th>Material</th>\n",
       "      <th>Cd.Barra</th>\n",
       "      <th>Denomin.posición</th>\n",
       "      <th>Solicitante</th>\n",
       "      <th>Nombre</th>\n",
       "      <th>...</th>\n",
       "      <th>Nombre empresa</th>\n",
       "      <th>Organización ventas</th>\n",
       "      <th>Centro</th>\n",
       "      <th>Almacén</th>\n",
       "      <th>Lote</th>\n",
       "      <th>FeCaduc/FePreferCons</th>\n",
       "      <th>Motivo pedido</th>\n",
       "      <th>Descripción Motivo Pedido</th>\n",
       "      <th>Valor neto.1</th>\n",
       "      <th>Moneda del documento</th>\n",
       "    </tr>\n",
       "  </thead>\n",
       "  <tbody>\n",
       "    <tr>\n",
       "      <th>14012</th>\n",
       "      <td>196,269,544.00</td>\n",
       "      <td>260.00</td>\n",
       "      <td>15,320,229.00</td>\n",
       "      <td>260.00</td>\n",
       "      <td>TRC-72902</td>\n",
       "      <td>8,100,003,234.00</td>\n",
       "      <td>650,240,013,850.00</td>\n",
       "      <td>TEATRICAL CRM SLD LANOLINA AZUL 52G 0917</td>\n",
       "      <td>1,100,885.00</td>\n",
       "      <td>DIFARMER SA DE CV</td>\n",
       "      <td>...</td>\n",
       "      <td>GLI GENOMMA LAB INT</td>\n",
       "      <td>VNMX</td>\n",
       "      <td>MX01</td>\n",
       "      <td>MX16</td>\n",
       "      <td>2084005205</td>\n",
       "      <td>2024-03-30</td>\n",
       "      <td>NaN</td>\n",
       "      <td>NaN</td>\n",
       "      <td>1,334.16</td>\n",
       "      <td>MXN</td>\n",
       "    </tr>\n",
       "    <tr>\n",
       "      <th>14013</th>\n",
       "      <td>196,269,544.00</td>\n",
       "      <td>270.00</td>\n",
       "      <td>15,320,229.00</td>\n",
       "      <td>270.00</td>\n",
       "      <td>TRC-72902</td>\n",
       "      <td>8,100,000,888.00</td>\n",
       "      <td>650,240,010,507.00</td>\n",
       "      <td>ULTRA BENGUE AZUL 35 G</td>\n",
       "      <td>1,100,885.00</td>\n",
       "      <td>DIFARMER SA DE CV</td>\n",
       "      <td>...</td>\n",
       "      <td>GLI GENOMMA LAB INT</td>\n",
       "      <td>VNMX</td>\n",
       "      <td>MX01</td>\n",
       "      <td>MX16</td>\n",
       "      <td>M22056</td>\n",
       "      <td>2024-02-28</td>\n",
       "      <td>NaN</td>\n",
       "      <td>NaN</td>\n",
       "      <td>3,840.00</td>\n",
       "      <td>MXN</td>\n",
       "    </tr>\n",
       "    <tr>\n",
       "      <th>14014</th>\n",
       "      <td>196,269,544.00</td>\n",
       "      <td>280.00</td>\n",
       "      <td>15,320,229.00</td>\n",
       "      <td>280.00</td>\n",
       "      <td>TRC-72902</td>\n",
       "      <td>8,100,000,881.00</td>\n",
       "      <td>650,240,006,647.00</td>\n",
       "      <td>ULTRA BENGUE 35GR NUEVO ARTE</td>\n",
       "      <td>1,100,885.00</td>\n",
       "      <td>DIFARMER SA DE CV</td>\n",
       "      <td>...</td>\n",
       "      <td>GLI GENOMMA LAB INT</td>\n",
       "      <td>VNMX</td>\n",
       "      <td>MX01</td>\n",
       "      <td>MX16</td>\n",
       "      <td>M21362</td>\n",
       "      <td>2023-11-30</td>\n",
       "      <td>NaN</td>\n",
       "      <td>NaN</td>\n",
       "      <td>7,680.00</td>\n",
       "      <td>MXN</td>\n",
       "    </tr>\n",
       "    <tr>\n",
       "      <th>14015</th>\n",
       "      <td>196,269,544.00</td>\n",
       "      <td>300.00</td>\n",
       "      <td>15,320,229.00</td>\n",
       "      <td>300.00</td>\n",
       "      <td>TRC-72902</td>\n",
       "      <td>8,100,003,489.00</td>\n",
       "      <td>650,240,017,117.00</td>\n",
       "      <td>XL3 ANTIGRIPAL 8TAB 0518</td>\n",
       "      <td>1,100,885.00</td>\n",
       "      <td>DIFARMER SA DE CV</td>\n",
       "      <td>...</td>\n",
       "      <td>GLI GENOMMA LAB INT</td>\n",
       "      <td>VNMX</td>\n",
       "      <td>MX01</td>\n",
       "      <td>MX16</td>\n",
       "      <td>1389</td>\n",
       "      <td>2023-11-30</td>\n",
       "      <td>NaN</td>\n",
       "      <td>NaN</td>\n",
       "      <td>6,692.00</td>\n",
       "      <td>MXN</td>\n",
       "    </tr>\n",
       "    <tr>\n",
       "      <th>14016</th>\n",
       "      <td>NaN</td>\n",
       "      <td>NaN</td>\n",
       "      <td>NaN</td>\n",
       "      <td>NaN</td>\n",
       "      <td>NaN</td>\n",
       "      <td>NaN</td>\n",
       "      <td>NaN</td>\n",
       "      <td>NaN</td>\n",
       "      <td>NaN</td>\n",
       "      <td>NaN</td>\n",
       "      <td>...</td>\n",
       "      <td>NaN</td>\n",
       "      <td>NaN</td>\n",
       "      <td>NaN</td>\n",
       "      <td>NaN</td>\n",
       "      <td>NaN</td>\n",
       "      <td>NaT</td>\n",
       "      <td>NaN</td>\n",
       "      <td>NaN</td>\n",
       "      <td>172,571,075.93</td>\n",
       "      <td>MXN</td>\n",
       "    </tr>\n",
       "    <tr>\n",
       "      <th>14017</th>\n",
       "      <td>NaN</td>\n",
       "      <td>NaN</td>\n",
       "      <td>NaN</td>\n",
       "      <td>NaN</td>\n",
       "      <td>NaN</td>\n",
       "      <td>NaN</td>\n",
       "      <td>NaN</td>\n",
       "      <td>NaN</td>\n",
       "      <td>NaN</td>\n",
       "      <td>NaN</td>\n",
       "      <td>...</td>\n",
       "      <td>NaN</td>\n",
       "      <td>NaN</td>\n",
       "      <td>NaN</td>\n",
       "      <td>NaN</td>\n",
       "      <td>NaN</td>\n",
       "      <td>NaT</td>\n",
       "      <td>NaN</td>\n",
       "      <td>NaN</td>\n",
       "      <td>1,760,945.41</td>\n",
       "      <td>USD</td>\n",
       "    </tr>\n",
       "    <tr>\n",
       "      <th>14018</th>\n",
       "      <td>NaN</td>\n",
       "      <td>NaN</td>\n",
       "      <td>NaN</td>\n",
       "      <td>NaN</td>\n",
       "      <td>NaN</td>\n",
       "      <td>NaN</td>\n",
       "      <td>NaN</td>\n",
       "      <td>NaN</td>\n",
       "      <td>NaN</td>\n",
       "      <td>NaN</td>\n",
       "      <td>...</td>\n",
       "      <td>NaN</td>\n",
       "      <td>NaN</td>\n",
       "      <td>NaN</td>\n",
       "      <td>NaN</td>\n",
       "      <td>NaN</td>\n",
       "      <td>NaT</td>\n",
       "      <td>NaN</td>\n",
       "      <td>NaN</td>\n",
       "      <td>NaN</td>\n",
       "      <td>NaN</td>\n",
       "    </tr>\n",
       "    <tr>\n",
       "      <th>14019</th>\n",
       "      <td>NaN</td>\n",
       "      <td>NaN</td>\n",
       "      <td>NaN</td>\n",
       "      <td>NaN</td>\n",
       "      <td>NaN</td>\n",
       "      <td>NaN</td>\n",
       "      <td>NaN</td>\n",
       "      <td>NaN</td>\n",
       "      <td>NaN</td>\n",
       "      <td>NaN</td>\n",
       "      <td>...</td>\n",
       "      <td>NaN</td>\n",
       "      <td>NaN</td>\n",
       "      <td>NaN</td>\n",
       "      <td>NaN</td>\n",
       "      <td>NaN</td>\n",
       "      <td>NaT</td>\n",
       "      <td>NaN</td>\n",
       "      <td>NaN</td>\n",
       "      <td>NaN</td>\n",
       "      <td>NaN</td>\n",
       "    </tr>\n",
       "    <tr>\n",
       "      <th>14020</th>\n",
       "      <td>NaN</td>\n",
       "      <td>NaN</td>\n",
       "      <td>NaN</td>\n",
       "      <td>NaN</td>\n",
       "      <td>NaN</td>\n",
       "      <td>NaN</td>\n",
       "      <td>NaN</td>\n",
       "      <td>NaN</td>\n",
       "      <td>NaN</td>\n",
       "      <td>NaN</td>\n",
       "      <td>...</td>\n",
       "      <td>NaN</td>\n",
       "      <td>NaN</td>\n",
       "      <td>NaN</td>\n",
       "      <td>NaN</td>\n",
       "      <td>NaN</td>\n",
       "      <td>NaT</td>\n",
       "      <td>NaN</td>\n",
       "      <td>NaN</td>\n",
       "      <td>NaN</td>\n",
       "      <td>NaN</td>\n",
       "    </tr>\n",
       "    <tr>\n",
       "      <th>14021</th>\n",
       "      <td>NaN</td>\n",
       "      <td>NaN</td>\n",
       "      <td>NaN</td>\n",
       "      <td>NaN</td>\n",
       "      <td>NaN</td>\n",
       "      <td>NaN</td>\n",
       "      <td>NaN</td>\n",
       "      <td>NaN</td>\n",
       "      <td>NaN</td>\n",
       "      <td>NaN</td>\n",
       "      <td>...</td>\n",
       "      <td>NaN</td>\n",
       "      <td>NaN</td>\n",
       "      <td>NaN</td>\n",
       "      <td>NaN</td>\n",
       "      <td>NaN</td>\n",
       "      <td>NaT</td>\n",
       "      <td>NaN</td>\n",
       "      <td>NaN</td>\n",
       "      <td>NaN</td>\n",
       "      <td>NaN</td>\n",
       "    </tr>\n",
       "  </tbody>\n",
       "</table>\n",
       "<p>10 rows × 47 columns</p>\n",
       "</div>"
      ],
      "text/plain": [
       "           Doc.fact.  Posición  Documento de ventas  Posición.1  \\\n",
       "14012 196,269,544.00    260.00        15,320,229.00      260.00   \n",
       "14013 196,269,544.00    270.00        15,320,229.00      270.00   \n",
       "14014 196,269,544.00    280.00        15,320,229.00      280.00   \n",
       "14015 196,269,544.00    300.00        15,320,229.00      300.00   \n",
       "14016            NaN       NaN                  NaN         NaN   \n",
       "14017            NaN       NaN                  NaN         NaN   \n",
       "14018            NaN       NaN                  NaN         NaN   \n",
       "14019            NaN       NaN                  NaN         NaN   \n",
       "14020            NaN       NaN                  NaN         NaN   \n",
       "14021            NaN       NaN                  NaN         NaN   \n",
       "\n",
       "      Referencia cliente         Material           Cd.Barra  \\\n",
       "14012          TRC-72902 8,100,003,234.00 650,240,013,850.00   \n",
       "14013          TRC-72902 8,100,000,888.00 650,240,010,507.00   \n",
       "14014          TRC-72902 8,100,000,881.00 650,240,006,647.00   \n",
       "14015          TRC-72902 8,100,003,489.00 650,240,017,117.00   \n",
       "14016                NaN              NaN                NaN   \n",
       "14017                NaN              NaN                NaN   \n",
       "14018                NaN              NaN                NaN   \n",
       "14019                NaN              NaN                NaN   \n",
       "14020                NaN              NaN                NaN   \n",
       "14021                NaN              NaN                NaN   \n",
       "\n",
       "                               Denomin.posición  Solicitante  \\\n",
       "14012  TEATRICAL CRM SLD LANOLINA AZUL 52G 0917 1,100,885.00   \n",
       "14013                    ULTRA BENGUE AZUL 35 G 1,100,885.00   \n",
       "14014              ULTRA BENGUE 35GR NUEVO ARTE 1,100,885.00   \n",
       "14015                  XL3 ANTIGRIPAL 8TAB 0518 1,100,885.00   \n",
       "14016                                       NaN          NaN   \n",
       "14017                                       NaN          NaN   \n",
       "14018                                       NaN          NaN   \n",
       "14019                                       NaN          NaN   \n",
       "14020                                       NaN          NaN   \n",
       "14021                                       NaN          NaN   \n",
       "\n",
       "                  Nombre  ...       Nombre empresa Organización ventas Centro  \\\n",
       "14012  DIFARMER SA DE CV  ...  GLI GENOMMA LAB INT                VNMX   MX01   \n",
       "14013  DIFARMER SA DE CV  ...  GLI GENOMMA LAB INT                VNMX   MX01   \n",
       "14014  DIFARMER SA DE CV  ...  GLI GENOMMA LAB INT                VNMX   MX01   \n",
       "14015  DIFARMER SA DE CV  ...  GLI GENOMMA LAB INT                VNMX   MX01   \n",
       "14016                NaN  ...                  NaN                 NaN    NaN   \n",
       "14017                NaN  ...                  NaN                 NaN    NaN   \n",
       "14018                NaN  ...                  NaN                 NaN    NaN   \n",
       "14019                NaN  ...                  NaN                 NaN    NaN   \n",
       "14020                NaN  ...                  NaN                 NaN    NaN   \n",
       "14021                NaN  ...                  NaN                 NaN    NaN   \n",
       "\n",
       "      Almacén        Lote FeCaduc/FePreferCons  Motivo pedido  \\\n",
       "14012    MX16  2084005205           2024-03-30            NaN   \n",
       "14013    MX16      M22056           2024-02-28            NaN   \n",
       "14014    MX16      M21362           2023-11-30            NaN   \n",
       "14015    MX16        1389           2023-11-30            NaN   \n",
       "14016     NaN         NaN                  NaT            NaN   \n",
       "14017     NaN         NaN                  NaT            NaN   \n",
       "14018     NaN         NaN                  NaT            NaN   \n",
       "14019     NaN         NaN                  NaT            NaN   \n",
       "14020     NaN         NaN                  NaT            NaN   \n",
       "14021     NaN         NaN                  NaT            NaN   \n",
       "\n",
       "      Descripción Motivo Pedido   Valor neto.1 Moneda del documento  \n",
       "14012                       NaN       1,334.16                  MXN  \n",
       "14013                       NaN       3,840.00                  MXN  \n",
       "14014                       NaN       7,680.00                  MXN  \n",
       "14015                       NaN       6,692.00                  MXN  \n",
       "14016                       NaN 172,571,075.93                  MXN  \n",
       "14017                       NaN   1,760,945.41                  USD  \n",
       "14018                       NaN            NaN                  NaN  \n",
       "14019                       NaN            NaN                  NaN  \n",
       "14020                       NaN            NaN                  NaN  \n",
       "14021                       NaN            NaN                  NaN  \n",
       "\n",
       "[10 rows x 47 columns]"
      ]
     },
     "execution_count": 6,
     "metadata": {},
     "output_type": "execute_result"
    }
   ],
   "source": [
    "df.tail(10)"
   ]
  },
  {
   "cell_type": "markdown",
   "metadata": {},
   "source": [
    "# Data Cleaning"
   ]
  },
  {
   "cell_type": "code",
   "execution_count": 7,
   "metadata": {},
   "outputs": [],
   "source": [
    "df = df[:df.shape[0]-6]"
   ]
  },
  {
   "cell_type": "code",
   "execution_count": 8,
   "metadata": {},
   "outputs": [
    {
     "data": {
      "text/plain": [
       "Referencia cliente             257\n",
       "Cd.Barra                      1623\n",
       "RFC                           3522\n",
       "Nº cuenta anterior            1456\n",
       "Destinatario mcía.             257\n",
       "Nombre.1                       257\n",
       "Descripción CeBe               257\n",
       "Almacén                        312\n",
       "Lote                           446\n",
       "FeCaduc/FePreferCons           446\n",
       "Motivo pedido                13018\n",
       "Descripción Motivo Pedido    13018\n",
       "dtype: int64"
      ]
     },
     "execution_count": 8,
     "metadata": {},
     "output_type": "execute_result"
    }
   ],
   "source": [
    "df.isnull().sum()[df.isnull().sum() > 0]"
   ]
  },
  {
   "cell_type": "code",
   "execution_count": 9,
   "metadata": {},
   "outputs": [],
   "source": [
    "new_cols = [\n",
    "     'Factura',\n",
    "     'Posicion',\n",
    "     'DocumentoVentas',\n",
    "     'PosicionDV',\n",
    "     'NumeroPedCliente',\n",
    "     'Material',\n",
    "     'CodigoBarras',\n",
    "     'Denominacion',\n",
    "     'Solicitante',\n",
    "     'Nombre',\n",
    "     'RFC',\n",
    "     'CNAC',\n",
    "     'GrupoCuentas',\n",
    "     'GrupoTesoreria',\n",
    "     'DestinatarioMcia',\n",
    "     'NombreDestinatario',\n",
    "     'CantidadFacturada',\n",
    "     'UnidadMedida',\n",
    "     'CtdFactUMB',\n",
    "     'UnidadMedidaBase',\n",
    "     'PrecioUnitario',\n",
    "     'ImpuestoBase',\n",
    "     'ImpuestoDescuento',\n",
    "     'ValorNeto',\n",
    "     'ImporteImpuesto',\n",
    "     'ImpuestoIEPS',\n",
    "     'ImpuestoTotal',\n",
    "     'CentroBeneficio',\n",
    "     'DescripcionCebe',\n",
    "     'TipoUnidades',\n",
    "     'FechaFactura',\n",
    "     'GrupoArticulos',\n",
    "     'DenominacionArticulos',\n",
    "     'ClaseFactura',\n",
    "     'DenominacionTipoDocto',\n",
    "     'CambioContable',\n",
    "     'Sociedad',\n",
    "     'Nombreempresa',\n",
    "     'OrganizacionVentas',\n",
    "     'Centro',\n",
    "     'Almacen',\n",
    "     'Lote',\n",
    "     'FechaCaducidad',\n",
    "     'MotivoPedido',\n",
    "     'DescMotivoPedido',\n",
    "     'ValorNetoAbs',\n",
    "     'Moneda'\n",
    "]"
   ]
  },
  {
   "cell_type": "code",
   "execution_count": 10,
   "metadata": {},
   "outputs": [],
   "source": [
    "df.columns = new_cols"
   ]
  },
  {
   "cell_type": "code",
   "execution_count": 11,
   "metadata": {},
   "outputs": [],
   "source": [
    "cols_nulls = ['RFC', 'CNAC', 'Almacen', 'Lote', 'MotivoPedido', 'DescMotivoPedido']\n",
    "for col in cols_nulls: \n",
    "    df[col].fillna('     ', inplace=True)"
   ]
  },
  {
   "cell_type": "code",
   "execution_count": 12,
   "metadata": {},
   "outputs": [
    {
     "data": {
      "text/plain": [
       "NumeroPedCliente       257\n",
       "CodigoBarras          1623\n",
       "DestinatarioMcia       257\n",
       "NombreDestinatario     257\n",
       "DescripcionCebe        257\n",
       "FechaCaducidad         446\n",
       "dtype: int64"
      ]
     },
     "execution_count": 12,
     "metadata": {},
     "output_type": "execute_result"
    }
   ],
   "source": [
    "df.isnull().sum()[df.isnull().sum() > 0]"
   ]
  },
  {
   "cell_type": "code",
   "execution_count": 13,
   "metadata": {},
   "outputs": [],
   "source": [
    "cols_int = [\n",
    "    'Factura',\n",
    "    'Posicion',\n",
    "    'DocumentoVentas',\n",
    "    'PosicionDV',\n",
    "    'Material',\n",
    "    'Solicitante',\n",
    "    'CtdFactUMB',\n",
    "    'ImpuestoDescuento',\n",
    "    'ImpuestoIEPS',\n",
    "]"
   ]
  },
  {
   "cell_type": "code",
   "execution_count": 14,
   "metadata": {},
   "outputs": [],
   "source": [
    "for col in cols_int:\n",
    "    df[col] = df[col].map(int)"
   ]
  },
  {
   "cell_type": "code",
   "execution_count": 15,
   "metadata": {},
   "outputs": [
    {
     "data": {
      "text/plain": [
       "FechaCaducidad    datetime64[ns]\n",
       "FechaCaducidad    datetime64[ns]\n",
       "dtype: object"
      ]
     },
     "execution_count": 15,
     "metadata": {},
     "output_type": "execute_result"
    }
   ],
   "source": [
    "df[['FechaCaducidad', 'FechaCaducidad']].dtypes"
   ]
  },
  {
   "cell_type": "markdown",
   "metadata": {},
   "source": [
    "# Analysis"
   ]
  },
  {
   "cell_type": "code",
   "execution_count": 16,
   "metadata": {},
   "outputs": [
    {
     "name": "stdout",
     "output_type": "stream",
     "text": [
      "FechaFactura desde: 2022-05-09 00:00:00\n",
      "FechaFactura hasta: 2022-05-15 00:00:00\n"
     ]
    }
   ],
   "source": [
    "print('FechaFactura desde:', df['FechaFactura'].min())\n",
    "print('FechaFactura hasta:', df['FechaFactura'].max())"
   ]
  },
  {
   "cell_type": "code",
   "execution_count": 17,
   "metadata": {},
   "outputs": [
    {
     "name": "stdout",
     "output_type": "stream",
     "text": [
      "FechaCaducidad desde: 2020-11-30 00:00:00\n",
      "FechaCaducidad hasta: 2031-06-14 00:00:00\n"
     ]
    }
   ],
   "source": [
    "print('FechaCaducidad desde:', df['FechaCaducidad'].min())\n",
    "print('FechaCaducidad hasta:', df['FechaCaducidad'].max())"
   ]
  },
  {
   "cell_type": "markdown",
   "metadata": {},
   "source": [
    "# Export Data"
   ]
  },
  {
   "cell_type": "code",
   "execution_count": 18,
   "metadata": {},
   "outputs": [],
   "source": [
    "df.to_excel(path + '\\\\Cargar ' + filename.split('.')[0] + '.xlsx',\n",
    "            index=False,\n",
    "            sheet_name='carga')"
   ]
  },
  {
   "cell_type": "code",
   "execution_count": 19,
   "metadata": {},
   "outputs": [
    {
     "data": {
      "text/plain": [
       "(14016, 47)"
      ]
     },
     "execution_count": 19,
     "metadata": {},
     "output_type": "execute_result"
    }
   ],
   "source": [
    "df.shape"
   ]
  },
  {
   "cell_type": "markdown",
   "metadata": {},
   "source": [
    "# Validations"
   ]
  },
  {
   "cell_type": "code",
   "execution_count": 20,
   "metadata": {},
   "outputs": [],
   "source": [
    "conn = pyodbc.connect('Driver={SQL Server};'\n",
    "                     'Server=SFEDWH01;'\n",
    "                     'Trusted_Connection=yes;')"
   ]
  },
  {
   "cell_type": "code",
   "execution_count": 21,
   "metadata": {},
   "outputs": [],
   "source": [
    "qtime = '''SELECT DISTINCT \n",
    "                TmpFecha,\n",
    "                TmpSemanaAnioGenomma AS SemanaGL,\n",
    "                TmpAnioSemanaGenomma AS AnioGL\n",
    "            FROM Gnm_DWH.dbo.Dim_Tiempo'''"
   ]
  },
  {
   "cell_type": "code",
   "execution_count": 22,
   "metadata": {},
   "outputs": [],
   "source": [
    "dtime = pd.read_sql(qtime, conn)"
   ]
  },
  {
   "cell_type": "code",
   "execution_count": 23,
   "metadata": {},
   "outputs": [],
   "source": [
    "df = df.merge(dtime, left_on='FechaFactura', right_on='TmpFecha', how='left')"
   ]
  },
  {
   "cell_type": "code",
   "execution_count": 24,
   "metadata": {},
   "outputs": [
    {
     "data": {
      "text/html": [
       "<div>\n",
       "<style scoped>\n",
       "    .dataframe tbody tr th:only-of-type {\n",
       "        vertical-align: middle;\n",
       "    }\n",
       "\n",
       "    .dataframe tbody tr th {\n",
       "        vertical-align: top;\n",
       "    }\n",
       "\n",
       "    .dataframe thead th {\n",
       "        text-align: right;\n",
       "    }\n",
       "</style>\n",
       "<table border=\"1\" class=\"dataframe\">\n",
       "  <thead>\n",
       "    <tr style=\"text-align: right;\">\n",
       "      <th></th>\n",
       "      <th>ValorNeto</th>\n",
       "    </tr>\n",
       "    <tr>\n",
       "      <th>SemanaGL</th>\n",
       "      <th></th>\n",
       "    </tr>\n",
       "  </thead>\n",
       "  <tbody>\n",
       "    <tr>\n",
       "      <th>20</th>\n",
       "      <td>163,725,401.95</td>\n",
       "    </tr>\n",
       "  </tbody>\n",
       "</table>\n",
       "</div>"
      ],
      "text/plain": [
       "              ValorNeto\n",
       "SemanaGL               \n",
       "20       163,725,401.95"
      ]
     },
     "execution_count": 24,
     "metadata": {},
     "output_type": "execute_result"
    }
   ],
   "source": [
    "df.pivot_table(\n",
    "    index='SemanaGL', \n",
    "    values=['ValorNeto'],\n",
    "    aggfunc='sum'\n",
    ")"
   ]
  },
  {
   "cell_type": "code",
   "execution_count": 25,
   "metadata": {},
   "outputs": [
    {
     "data": {
      "text/html": [
       "<div>\n",
       "<style scoped>\n",
       "    .dataframe tbody tr th:only-of-type {\n",
       "        vertical-align: middle;\n",
       "    }\n",
       "\n",
       "    .dataframe tbody tr th {\n",
       "        vertical-align: top;\n",
       "    }\n",
       "\n",
       "    .dataframe thead th {\n",
       "        text-align: right;\n",
       "    }\n",
       "</style>\n",
       "<table border=\"1\" class=\"dataframe\">\n",
       "  <thead>\n",
       "    <tr style=\"text-align: right;\">\n",
       "      <th></th>\n",
       "      <th>Factura</th>\n",
       "    </tr>\n",
       "    <tr>\n",
       "      <th>SemanaGL</th>\n",
       "      <th></th>\n",
       "    </tr>\n",
       "  </thead>\n",
       "  <tbody>\n",
       "    <tr>\n",
       "      <th>20</th>\n",
       "      <td>14016</td>\n",
       "    </tr>\n",
       "    <tr>\n",
       "      <th>All</th>\n",
       "      <td>14016</td>\n",
       "    </tr>\n",
       "  </tbody>\n",
       "</table>\n",
       "</div>"
      ],
      "text/plain": [
       "          Factura\n",
       "SemanaGL         \n",
       "20          14016\n",
       "All         14016"
      ]
     },
     "execution_count": 25,
     "metadata": {},
     "output_type": "execute_result"
    }
   ],
   "source": [
    "df.pivot_table(\n",
    "    index='SemanaGL', \n",
    "    values='Factura',\n",
    "    aggfunc='count',\n",
    "    margins=True\n",
    ")"
   ]
  },
  {
   "cell_type": "code",
   "execution_count": 26,
   "metadata": {},
   "outputs": [
    {
     "data": {
      "text/html": [
       "<div>\n",
       "<style scoped>\n",
       "    .dataframe tbody tr th:only-of-type {\n",
       "        vertical-align: middle;\n",
       "    }\n",
       "\n",
       "    .dataframe tbody tr th {\n",
       "        vertical-align: top;\n",
       "    }\n",
       "\n",
       "    .dataframe thead th {\n",
       "        text-align: right;\n",
       "    }\n",
       "</style>\n",
       "<table border=\"1\" class=\"dataframe\">\n",
       "  <thead>\n",
       "    <tr style=\"text-align: right;\">\n",
       "      <th></th>\n",
       "      <th>Factura</th>\n",
       "    </tr>\n",
       "    <tr>\n",
       "      <th>FechaFactura</th>\n",
       "      <th></th>\n",
       "    </tr>\n",
       "  </thead>\n",
       "  <tbody>\n",
       "    <tr>\n",
       "      <th>2022-05-09 00:00:00</th>\n",
       "      <td>2597</td>\n",
       "    </tr>\n",
       "    <tr>\n",
       "      <th>2022-05-10 00:00:00</th>\n",
       "      <td>2388</td>\n",
       "    </tr>\n",
       "    <tr>\n",
       "      <th>2022-05-11 00:00:00</th>\n",
       "      <td>2660</td>\n",
       "    </tr>\n",
       "    <tr>\n",
       "      <th>2022-05-12 00:00:00</th>\n",
       "      <td>1674</td>\n",
       "    </tr>\n",
       "    <tr>\n",
       "      <th>2022-05-13 00:00:00</th>\n",
       "      <td>1366</td>\n",
       "    </tr>\n",
       "    <tr>\n",
       "      <th>2022-05-14 00:00:00</th>\n",
       "      <td>1484</td>\n",
       "    </tr>\n",
       "    <tr>\n",
       "      <th>2022-05-15 00:00:00</th>\n",
       "      <td>1847</td>\n",
       "    </tr>\n",
       "    <tr>\n",
       "      <th>All</th>\n",
       "      <td>14016</td>\n",
       "    </tr>\n",
       "  </tbody>\n",
       "</table>\n",
       "</div>"
      ],
      "text/plain": [
       "                     Factura\n",
       "FechaFactura                \n",
       "2022-05-09 00:00:00     2597\n",
       "2022-05-10 00:00:00     2388\n",
       "2022-05-11 00:00:00     2660\n",
       "2022-05-12 00:00:00     1674\n",
       "2022-05-13 00:00:00     1366\n",
       "2022-05-14 00:00:00     1484\n",
       "2022-05-15 00:00:00     1847\n",
       "All                    14016"
      ]
     },
     "execution_count": 26,
     "metadata": {},
     "output_type": "execute_result"
    }
   ],
   "source": [
    "df.pivot_table(\n",
    "    index='FechaFactura', \n",
    "    values='Factura',\n",
    "    aggfunc='count',\n",
    "    margins=True\n",
    ")"
   ]
  },
  {
   "cell_type": "code",
   "execution_count": 27,
   "metadata": {},
   "outputs": [
    {
     "data": {
      "text/html": [
       "<div>\n",
       "<style scoped>\n",
       "    .dataframe tbody tr th:only-of-type {\n",
       "        vertical-align: middle;\n",
       "    }\n",
       "\n",
       "    .dataframe tbody tr th {\n",
       "        vertical-align: top;\n",
       "    }\n",
       "\n",
       "    .dataframe thead th {\n",
       "        text-align: right;\n",
       "    }\n",
       "</style>\n",
       "<table border=\"1\" class=\"dataframe\">\n",
       "  <thead>\n",
       "    <tr style=\"text-align: right;\">\n",
       "      <th></th>\n",
       "      <th>ValorNeto</th>\n",
       "    </tr>\n",
       "    <tr>\n",
       "      <th>MotivoPedido</th>\n",
       "      <th></th>\n",
       "    </tr>\n",
       "  </thead>\n",
       "  <tbody>\n",
       "    <tr>\n",
       "      <th></th>\n",
       "      <td>175,960,434.45</td>\n",
       "    </tr>\n",
       "    <tr>\n",
       "      <th>M03</th>\n",
       "      <td>-927,632.78</td>\n",
       "    </tr>\n",
       "    <tr>\n",
       "      <th>M05</th>\n",
       "      <td>-38,959.40</td>\n",
       "    </tr>\n",
       "    <tr>\n",
       "      <th>M06</th>\n",
       "      <td>-28,695.65</td>\n",
       "    </tr>\n",
       "    <tr>\n",
       "      <th>M07</th>\n",
       "      <td>-438,454.75</td>\n",
       "    </tr>\n",
       "    <tr>\n",
       "      <th>M08</th>\n",
       "      <td>-2,205,495.43</td>\n",
       "    </tr>\n",
       "    <tr>\n",
       "      <th>M09</th>\n",
       "      <td>-466,265.81</td>\n",
       "    </tr>\n",
       "    <tr>\n",
       "      <th>M11</th>\n",
       "      <td>-96,242.40</td>\n",
       "    </tr>\n",
       "    <tr>\n",
       "      <th>M13</th>\n",
       "      <td>-280,553.95</td>\n",
       "    </tr>\n",
       "    <tr>\n",
       "      <th>M14</th>\n",
       "      <td>-95,305.60</td>\n",
       "    </tr>\n",
       "    <tr>\n",
       "      <th>M27</th>\n",
       "      <td>-1,168,249.65</td>\n",
       "    </tr>\n",
       "    <tr>\n",
       "      <th>X1</th>\n",
       "      <td>-5,674,800.96</td>\n",
       "    </tr>\n",
       "    <tr>\n",
       "      <th>Y01</th>\n",
       "      <td>-814,376.12</td>\n",
       "    </tr>\n",
       "  </tbody>\n",
       "</table>\n",
       "</div>"
      ],
      "text/plain": [
       "                  ValorNeto\n",
       "MotivoPedido               \n",
       "             175,960,434.45\n",
       "M03             -927,632.78\n",
       "M05              -38,959.40\n",
       "M06              -28,695.65\n",
       "M07             -438,454.75\n",
       "M08           -2,205,495.43\n",
       "M09             -466,265.81\n",
       "M11              -96,242.40\n",
       "M13             -280,553.95\n",
       "M14              -95,305.60\n",
       "M27           -1,168,249.65\n",
       "X1            -5,674,800.96\n",
       "Y01             -814,376.12"
      ]
     },
     "execution_count": 27,
     "metadata": {},
     "output_type": "execute_result"
    }
   ],
   "source": [
    "df.pivot_table(\n",
    "    index='MotivoPedido', \n",
    "    values='ValorNeto', \n",
    "    aggfunc='sum'\n",
    ")"
   ]
  },
  {
   "cell_type": "code",
   "execution_count": null,
   "metadata": {},
   "outputs": [],
   "source": []
  }
 ],
 "metadata": {
  "interpreter": {
   "hash": "fe4feffa201cdf201c8a2af344ba7b0bb32861ea0c787625218332493d6906c2"
  },
  "kernelspec": {
   "display_name": "Python 3.8.10 ('base')",
   "language": "python",
   "name": "python3"
  },
  "language_info": {
   "codemirror_mode": {
    "name": "ipython",
    "version": 3
   },
   "file_extension": ".py",
   "mimetype": "text/x-python",
   "name": "python",
   "nbconvert_exporter": "python",
   "pygments_lexer": "ipython3",
   "version": "3.8.10"
  },
  "toc": {
   "base_numbering": 1,
   "nav_menu": {},
   "number_sections": true,
   "sideBar": true,
   "skip_h1_title": false,
   "title_cell": "Table of Contents",
   "title_sidebar": "Contents",
   "toc_cell": false,
   "toc_position": {},
   "toc_section_display": true,
   "toc_window_display": false
  }
 },
 "nbformat": 4,
 "nbformat_minor": 4
}
