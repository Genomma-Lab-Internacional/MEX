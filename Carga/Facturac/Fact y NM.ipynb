{
 "cells": [
  {
   "cell_type": "code",
   "execution_count": 1,
   "metadata": {},
   "outputs": [],
   "source": [
    "filename = 'FACTURACIÓN SEM 10 (01 A 06 DE MARZO) 20220307.xlsx'"
   ]
  },
  {
   "cell_type": "markdown",
   "metadata": {},
   "source": [
    "# Libraries"
   ]
  },
  {
   "cell_type": "code",
   "execution_count": 2,
   "metadata": {},
   "outputs": [],
   "source": [
    "import pandas as pd\n",
    "import pyodbc\n",
    "import os\n",
    "from datetime import datetime\n",
    "\n",
    "pd.io.formats.excel.ExcelFormatter.header_style = None"
   ]
  },
  {
   "cell_type": "markdown",
   "metadata": {},
   "source": [
    "# Parameters"
   ]
  },
  {
   "cell_type": "code",
   "execution_count": 3,
   "metadata": {},
   "outputs": [],
   "source": [
    "path = r'\\\\NASPRO.infovisiontv.com\\DGI\\DGI Banco Central\\00 CIERRES SEMANALES\\{0} {1}'\n",
    "year = datetime.today().year\n",
    "week = datetime.today().isocalendar()[1]\n",
    "path = path.format(year, str(week).zfill(2))"
   ]
  },
  {
   "cell_type": "markdown",
   "metadata": {},
   "source": [
    "# Import Data"
   ]
  },
  {
   "cell_type": "code",
   "execution_count": 4,
   "metadata": {},
   "outputs": [
    {
     "name": "stdout",
     "output_type": "stream",
     "text": [
      "Wall time: 11.5 s\n"
     ]
    }
   ],
   "source": [
    "%%time\n",
    "df = pd.read_excel(path + '\\\\' + filename, sheet_name='YOSAF')"
   ]
  },
  {
   "cell_type": "code",
   "execution_count": 5,
   "metadata": {},
   "outputs": [
    {
     "data": {
      "text/plain": [
       "(7777, 47)"
      ]
     },
     "execution_count": 5,
     "metadata": {},
     "output_type": "execute_result"
    }
   ],
   "source": [
    "df.shape"
   ]
  },
  {
   "cell_type": "code",
   "execution_count": 6,
   "metadata": {},
   "outputs": [
    {
     "data": {
      "text/html": [
       "<div>\n",
       "<style scoped>\n",
       "    .dataframe tbody tr th:only-of-type {\n",
       "        vertical-align: middle;\n",
       "    }\n",
       "\n",
       "    .dataframe tbody tr th {\n",
       "        vertical-align: top;\n",
       "    }\n",
       "\n",
       "    .dataframe thead th {\n",
       "        text-align: right;\n",
       "    }\n",
       "</style>\n",
       "<table border=\"1\" class=\"dataframe\">\n",
       "  <thead>\n",
       "    <tr style=\"text-align: right;\">\n",
       "      <th></th>\n",
       "      <th>Doc.fact.</th>\n",
       "      <th>Posición</th>\n",
       "      <th>Documento de ventas</th>\n",
       "      <th>Posición.1</th>\n",
       "      <th>Referencia cliente</th>\n",
       "      <th>Material</th>\n",
       "      <th>Cd.Barra</th>\n",
       "      <th>Denomin.posición</th>\n",
       "      <th>Solicitante</th>\n",
       "      <th>Nombre</th>\n",
       "      <th>...</th>\n",
       "      <th>Nombre empresa</th>\n",
       "      <th>Organización ventas</th>\n",
       "      <th>Centro</th>\n",
       "      <th>Almacén</th>\n",
       "      <th>Lote</th>\n",
       "      <th>FeCaduc/FePreferCons</th>\n",
       "      <th>Motivo pedido</th>\n",
       "      <th>Descripción Motivo Pedido</th>\n",
       "      <th>Valor neto.1</th>\n",
       "      <th>Moneda del documento</th>\n",
       "    </tr>\n",
       "  </thead>\n",
       "  <tbody>\n",
       "    <tr>\n",
       "      <th>7772</th>\n",
       "      <td>196260036</td>\n",
       "      <td>141</td>\n",
       "      <td>15310350</td>\n",
       "      <td>140</td>\n",
       "      <td>50</td>\n",
       "      <td>8100004723</td>\n",
       "      <td>6.502400e+11</td>\n",
       "      <td>SUEROX ADUL 8IONES COCO 630 ML 1020</td>\n",
       "      <td>1100813</td>\n",
       "      <td>ABARROTES SAN JUAN HEHE SA DE CV</td>\n",
       "      <td>...</td>\n",
       "      <td>GLI GENOMMA LAB INT</td>\n",
       "      <td>VNMX</td>\n",
       "      <td>MX01</td>\n",
       "      <td>MX16</td>\n",
       "      <td>2059023111</td>\n",
       "      <td>2023-08-30</td>\n",
       "      <td>NaN</td>\n",
       "      <td>NaN</td>\n",
       "      <td>1556.40</td>\n",
       "      <td>MXN</td>\n",
       "    </tr>\n",
       "    <tr>\n",
       "      <th>7773</th>\n",
       "      <td>196260036</td>\n",
       "      <td>142</td>\n",
       "      <td>15310350</td>\n",
       "      <td>140</td>\n",
       "      <td>50</td>\n",
       "      <td>8100004723</td>\n",
       "      <td>6.502400e+11</td>\n",
       "      <td>SUEROX ADUL 8IONES COCO 630 ML 1020</td>\n",
       "      <td>1100813</td>\n",
       "      <td>ABARROTES SAN JUAN HEHE SA DE CV</td>\n",
       "      <td>...</td>\n",
       "      <td>GLI GENOMMA LAB INT</td>\n",
       "      <td>VNMX</td>\n",
       "      <td>MX01</td>\n",
       "      <td>MX16</td>\n",
       "      <td>2036023146</td>\n",
       "      <td>2023-08-30</td>\n",
       "      <td>NaN</td>\n",
       "      <td>NaN</td>\n",
       "      <td>45291.24</td>\n",
       "      <td>MXN</td>\n",
       "    </tr>\n",
       "    <tr>\n",
       "      <th>7774</th>\n",
       "      <td>196260036</td>\n",
       "      <td>143</td>\n",
       "      <td>15310350</td>\n",
       "      <td>140</td>\n",
       "      <td>50</td>\n",
       "      <td>8100004723</td>\n",
       "      <td>6.502400e+11</td>\n",
       "      <td>SUEROX ADUL 8IONES COCO 630 ML 1020</td>\n",
       "      <td>1100813</td>\n",
       "      <td>ABARROTES SAN JUAN HEHE SA DE CV</td>\n",
       "      <td>...</td>\n",
       "      <td>GLI GENOMMA LAB INT</td>\n",
       "      <td>VNMX</td>\n",
       "      <td>MX01</td>\n",
       "      <td>MX16</td>\n",
       "      <td>2036023145</td>\n",
       "      <td>2023-08-30</td>\n",
       "      <td>NaN</td>\n",
       "      <td>NaN</td>\n",
       "      <td>4202.28</td>\n",
       "      <td>MXN</td>\n",
       "    </tr>\n",
       "    <tr>\n",
       "      <th>7775</th>\n",
       "      <td>196260036</td>\n",
       "      <td>150</td>\n",
       "      <td>15310350</td>\n",
       "      <td>150</td>\n",
       "      <td>50</td>\n",
       "      <td>8100004861</td>\n",
       "      <td>6.502401e+11</td>\n",
       "      <td>SUEROX ADUL 8IONES SABILA 630ML DIC20/12</td>\n",
       "      <td>1100813</td>\n",
       "      <td>ABARROTES SAN JUAN HEHE SA DE CV</td>\n",
       "      <td>...</td>\n",
       "      <td>GLI GENOMMA LAB INT</td>\n",
       "      <td>VNMX</td>\n",
       "      <td>MX01</td>\n",
       "      <td>MX16</td>\n",
       "      <td>2032022202</td>\n",
       "      <td>2023-07-26</td>\n",
       "      <td>NaN</td>\n",
       "      <td>NaN</td>\n",
       "      <td>39376.92</td>\n",
       "      <td>MXN</td>\n",
       "    </tr>\n",
       "    <tr>\n",
       "      <th>7776</th>\n",
       "      <td>196260036</td>\n",
       "      <td>151</td>\n",
       "      <td>15310350</td>\n",
       "      <td>150</td>\n",
       "      <td>50</td>\n",
       "      <td>8100004861</td>\n",
       "      <td>6.502401e+11</td>\n",
       "      <td>SUEROX ADUL 8IONES SABILA 630ML DIC20/12</td>\n",
       "      <td>1100813</td>\n",
       "      <td>ABARROTES SAN JUAN HEHE SA DE CV</td>\n",
       "      <td>...</td>\n",
       "      <td>GLI GENOMMA LAB INT</td>\n",
       "      <td>VNMX</td>\n",
       "      <td>MX01</td>\n",
       "      <td>MX16</td>\n",
       "      <td>2034022204</td>\n",
       "      <td>2023-07-26</td>\n",
       "      <td>NaN</td>\n",
       "      <td>NaN</td>\n",
       "      <td>15097.08</td>\n",
       "      <td>MXN</td>\n",
       "    </tr>\n",
       "  </tbody>\n",
       "</table>\n",
       "<p>5 rows × 47 columns</p>\n",
       "</div>"
      ],
      "text/plain": [
       "      Doc.fact.  Posición  Documento de ventas  Posición.1 Referencia cliente  \\\n",
       "7772  196260036       141             15310350         140                 50   \n",
       "7773  196260036       142             15310350         140                 50   \n",
       "7774  196260036       143             15310350         140                 50   \n",
       "7775  196260036       150             15310350         150                 50   \n",
       "7776  196260036       151             15310350         150                 50   \n",
       "\n",
       "        Material      Cd.Barra                          Denomin.posición  \\\n",
       "7772  8100004723  6.502400e+11       SUEROX ADUL 8IONES COCO 630 ML 1020   \n",
       "7773  8100004723  6.502400e+11       SUEROX ADUL 8IONES COCO 630 ML 1020   \n",
       "7774  8100004723  6.502400e+11       SUEROX ADUL 8IONES COCO 630 ML 1020   \n",
       "7775  8100004861  6.502401e+11  SUEROX ADUL 8IONES SABILA 630ML DIC20/12   \n",
       "7776  8100004861  6.502401e+11  SUEROX ADUL 8IONES SABILA 630ML DIC20/12   \n",
       "\n",
       "      Solicitante                            Nombre  ...       Nombre empresa  \\\n",
       "7772      1100813  ABARROTES SAN JUAN HEHE SA DE CV  ...  GLI GENOMMA LAB INT   \n",
       "7773      1100813  ABARROTES SAN JUAN HEHE SA DE CV  ...  GLI GENOMMA LAB INT   \n",
       "7774      1100813  ABARROTES SAN JUAN HEHE SA DE CV  ...  GLI GENOMMA LAB INT   \n",
       "7775      1100813  ABARROTES SAN JUAN HEHE SA DE CV  ...  GLI GENOMMA LAB INT   \n",
       "7776      1100813  ABARROTES SAN JUAN HEHE SA DE CV  ...  GLI GENOMMA LAB INT   \n",
       "\n",
       "     Organización ventas Centro Almacén        Lote FeCaduc/FePreferCons  \\\n",
       "7772                VNMX   MX01    MX16  2059023111           2023-08-30   \n",
       "7773                VNMX   MX01    MX16  2036023146           2023-08-30   \n",
       "7774                VNMX   MX01    MX16  2036023145           2023-08-30   \n",
       "7775                VNMX   MX01    MX16  2032022202           2023-07-26   \n",
       "7776                VNMX   MX01    MX16  2034022204           2023-07-26   \n",
       "\n",
       "      Motivo pedido Descripción Motivo Pedido  Valor neto.1  \\\n",
       "7772            NaN                       NaN       1556.40   \n",
       "7773            NaN                       NaN      45291.24   \n",
       "7774            NaN                       NaN       4202.28   \n",
       "7775            NaN                       NaN      39376.92   \n",
       "7776            NaN                       NaN      15097.08   \n",
       "\n",
       "     Moneda del documento  \n",
       "7772                  MXN  \n",
       "7773                  MXN  \n",
       "7774                  MXN  \n",
       "7775                  MXN  \n",
       "7776                  MXN  \n",
       "\n",
       "[5 rows x 47 columns]"
      ]
     },
     "execution_count": 6,
     "metadata": {},
     "output_type": "execute_result"
    }
   ],
   "source": [
    "df.tail()"
   ]
  },
  {
   "cell_type": "markdown",
   "metadata": {},
   "source": [
    "# Data Cleaning"
   ]
  },
  {
   "cell_type": "markdown",
   "metadata": {},
   "source": [
    "df = df[:df.shape[0]-6]"
   ]
  },
  {
   "cell_type": "code",
   "execution_count": 7,
   "metadata": {},
   "outputs": [
    {
     "data": {
      "text/plain": [
       "Doc.fact.                       0\n",
       "Posición                        0\n",
       "Documento de ventas             0\n",
       "Posición.1                      0\n",
       "Referencia cliente              0\n",
       "Material                        0\n",
       "Cd.Barra                      712\n",
       "Denomin.posición                0\n",
       "Solicitante                     0\n",
       "Nombre                          0\n",
       "RFC                          2231\n",
       "Nº cuenta anterior            754\n",
       "Grupo de cuentas                0\n",
       "Grupo de tesorería              0\n",
       "Destinatario mcía.              0\n",
       "Nombre.1                        0\n",
       "Cantidad facturada              0\n",
       "Un.medida venta                 0\n",
       "Ctd.Fct.UMB                     0\n",
       "Un.Med.Base                     0\n",
       "Prc.Unitario                    0\n",
       "Imp.Base                        0\n",
       "Imp.Descuento                   0\n",
       "Valor neto                      0\n",
       "Imp.Impuesto                    0\n",
       "Imp.IEPS                        0\n",
       "Imp.Total                       0\n",
       "Centro de beneficio             0\n",
       "Descripción CeBe                0\n",
       "Tp.Unidades                     0\n",
       "Fecha factura                   0\n",
       "Grupo de artículos              0\n",
       "Denom.gr-artículos              0\n",
       "Clase de factura                0\n",
       "Denominación                    0\n",
       "Tp.cambio p.contab.             0\n",
       "Sociedad                        0\n",
       "Nombre empresa                  0\n",
       "Organización ventas             0\n",
       "Centro                          0\n",
       "Almacén                         0\n",
       "Lote                            6\n",
       "FeCaduc/FePreferCons            6\n",
       "Motivo pedido                7774\n",
       "Descripción Motivo Pedido    7774\n",
       "Valor neto.1                    0\n",
       "Moneda del documento            0\n",
       "dtype: int64"
      ]
     },
     "execution_count": 7,
     "metadata": {},
     "output_type": "execute_result"
    }
   ],
   "source": [
    "df.isnull().sum()"
   ]
  },
  {
   "cell_type": "code",
   "execution_count": 8,
   "metadata": {},
   "outputs": [],
   "source": [
    "new_cols = [\n",
    "     'Factura',\n",
    "     'Posicion',\n",
    "     'DocumentoVentas',\n",
    "     'PosicionDV',\n",
    "     'NumeroPedCliente',\n",
    "     'Material',\n",
    "     'CodigoBarras',\n",
    "     'Denominacion',\n",
    "     'Solicitante',\n",
    "     'Nombre',\n",
    "     'RFC',\n",
    "     'CNAC',\n",
    "     'GrupoCuentas',\n",
    "     'GrupoTesoreria',\n",
    "     'DestinatarioMcia',\n",
    "     'NombreDestinatario',\n",
    "     'CantidadFacturada',\n",
    "     'UnidadMedida',\n",
    "     'CtdFactUMB',\n",
    "     'UnidadMedidaBase',\n",
    "     'PrecioUnitario',\n",
    "     'ImpuestoBase',\n",
    "     'ImpuestoDescuento',\n",
    "     'ValorNeto',\n",
    "     'ImporteImpuesto',\n",
    "     'ImpuestoIEPS',\n",
    "     'ImpuestoTotal',\n",
    "     'CentroBeneficio',\n",
    "     'DescripcionCebe',\n",
    "     'TipoUnidades',\n",
    "     'FechaFactura',\n",
    "     'GrupoArticulos',\n",
    "     'DenominacionArticulos',\n",
    "     'ClaseFactura',\n",
    "     'DenominacionTipoDocto',\n",
    "     'CambioContable',\n",
    "     'Sociedad',\n",
    "     'Nombreempresa',\n",
    "     'OrganizacionVentas',\n",
    "     'Centro',\n",
    "     'Almacen',\n",
    "     'Lote',\n",
    "     'FechaCaducidad',\n",
    "     'MotivoPedido',\n",
    "     'DescMotivoPedido',\n",
    "     'ValorNetoAbs',\n",
    "     'Moneda'\n",
    "]"
   ]
  },
  {
   "cell_type": "code",
   "execution_count": 9,
   "metadata": {},
   "outputs": [],
   "source": [
    "df.columns = new_cols"
   ]
  },
  {
   "cell_type": "code",
   "execution_count": 10,
   "metadata": {},
   "outputs": [],
   "source": [
    "cols_int = [\n",
    "    'Factura',\n",
    "    'Posicion',\n",
    "    'DocumentoVentas',\n",
    "    'PosicionDV',\n",
    "    'Material',\n",
    "    'Solicitante',\n",
    "    'CtdFactUMB',\n",
    "    'ImpuestoDescuento',\n",
    "    'ImpuestoIEPS',\n",
    "    'GrupoArticulos'\n",
    "]"
   ]
  },
  {
   "cell_type": "code",
   "execution_count": 11,
   "metadata": {},
   "outputs": [],
   "source": [
    "for col in cols_int:\n",
    "    df[col] = df[col].map(int)"
   ]
  },
  {
   "cell_type": "code",
   "execution_count": 12,
   "metadata": {},
   "outputs": [
    {
     "data": {
      "text/plain": [
       "FechaCaducidad    datetime64[ns]\n",
       "FechaCaducidad    datetime64[ns]\n",
       "dtype: object"
      ]
     },
     "execution_count": 12,
     "metadata": {},
     "output_type": "execute_result"
    }
   ],
   "source": [
    "df[['FechaCaducidad', 'FechaCaducidad']].dtypes"
   ]
  },
  {
   "cell_type": "markdown",
   "metadata": {},
   "source": [
    "# Analysis"
   ]
  },
  {
   "cell_type": "code",
   "execution_count": 13,
   "metadata": {},
   "outputs": [
    {
     "data": {
      "text/plain": [
       "FechaCaducidad   2022-06-30\n",
       "FechaCaducidad   2022-06-30\n",
       "dtype: datetime64[ns]"
      ]
     },
     "execution_count": 13,
     "metadata": {},
     "output_type": "execute_result"
    }
   ],
   "source": [
    "df[['FechaCaducidad', 'FechaCaducidad']].min()"
   ]
  },
  {
   "cell_type": "code",
   "execution_count": 14,
   "metadata": {},
   "outputs": [
    {
     "data": {
      "text/plain": [
       "FechaCaducidad   2027-02-28\n",
       "FechaCaducidad   2027-02-28\n",
       "dtype: datetime64[ns]"
      ]
     },
     "execution_count": 14,
     "metadata": {},
     "output_type": "execute_result"
    }
   ],
   "source": [
    "df[['FechaCaducidad', 'FechaCaducidad']].max()"
   ]
  },
  {
   "cell_type": "markdown",
   "metadata": {},
   "source": [
    "# Export Data"
   ]
  },
  {
   "cell_type": "code",
   "execution_count": 15,
   "metadata": {},
   "outputs": [],
   "source": [
    "df.to_excel(path + '\\\\Cargar ' + filename.split('.')[0] + '.xlsx',\n",
    "            index=False,\n",
    "            sheet_name='carga')"
   ]
  },
  {
   "cell_type": "code",
   "execution_count": 16,
   "metadata": {},
   "outputs": [
    {
     "data": {
      "text/plain": [
       "(7777, 47)"
      ]
     },
     "execution_count": 16,
     "metadata": {},
     "output_type": "execute_result"
    }
   ],
   "source": [
    "df.shape"
   ]
  },
  {
   "cell_type": "markdown",
   "metadata": {},
   "source": [
    "# Homologar productos:"
   ]
  },
  {
   "cell_type": "code",
   "execution_count": 17,
   "metadata": {},
   "outputs": [],
   "source": [
    "material_ean = [\n",
    "    (8100004127, 650240052580), \n",
    "    (8100005449, 650240055870)\n",
    "]"
   ]
  },
  {
   "cell_type": "code",
   "execution_count": 18,
   "metadata": {},
   "outputs": [],
   "source": [
    "material_ean = {\n",
    "    'Material':[8100004127, 8100005449], \n",
    "    'EAN':[650240052580, 650240055870]\n",
    "}"
   ]
  },
  {
   "cell_type": "code",
   "execution_count": 19,
   "metadata": {},
   "outputs": [
    {
     "data": {
      "text/html": [
       "<div>\n",
       "<style scoped>\n",
       "    .dataframe tbody tr th:only-of-type {\n",
       "        vertical-align: middle;\n",
       "    }\n",
       "\n",
       "    .dataframe tbody tr th {\n",
       "        vertical-align: top;\n",
       "    }\n",
       "\n",
       "    .dataframe thead th {\n",
       "        text-align: right;\n",
       "    }\n",
       "</style>\n",
       "<table border=\"1\" class=\"dataframe\">\n",
       "  <thead>\n",
       "    <tr style=\"text-align: right;\">\n",
       "      <th></th>\n",
       "      <th>Material</th>\n",
       "      <th>Nombre</th>\n",
       "      <th>Denominacion</th>\n",
       "    </tr>\n",
       "  </thead>\n",
       "  <tbody>\n",
       "    <tr>\n",
       "      <th>166</th>\n",
       "      <td>8100005449</td>\n",
       "      <td>CASA MARZAM SA DE CV</td>\n",
       "      <td>GOICO DOBLE MENTOL GLB 0721 400ML/12</td>\n",
       "    </tr>\n",
       "    <tr>\n",
       "      <th>1165</th>\n",
       "      <td>8100005449</td>\n",
       "      <td>WAL MART SUPERCENTER SUPERCENTER</td>\n",
       "      <td>GOICO DOBLE MENTOL GLB 0721 400ML/12</td>\n",
       "    </tr>\n",
       "    <tr>\n",
       "      <th>2197</th>\n",
       "      <td>8100005449</td>\n",
       "      <td>FUXS DISTRIBUCIONES SA DE CV</td>\n",
       "      <td>GOICO DOBLE MENTOL GLB 0721 400ML/12</td>\n",
       "    </tr>\n",
       "    <tr>\n",
       "      <th>2427</th>\n",
       "      <td>8100005449</td>\n",
       "      <td>SUPERMERCADOS INTERNACIONALES HEB S</td>\n",
       "      <td>GOICO DOBLE MENTOL GLB 0721 400ML/12</td>\n",
       "    </tr>\n",
       "    <tr>\n",
       "      <th>3458</th>\n",
       "      <td>8100005449</td>\n",
       "      <td>TIENDAS CHEDRAUI S.A. DE C.V.</td>\n",
       "      <td>GOICO DOBLE MENTOL GLB 0721 400ML/12</td>\n",
       "    </tr>\n",
       "    <tr>\n",
       "      <th>5072</th>\n",
       "      <td>8100005449</td>\n",
       "      <td>GRUPO COMERCIAL DSW SA DE CV</td>\n",
       "      <td>GOICO DOBLE MENTOL GLB 0721 400ML/12</td>\n",
       "    </tr>\n",
       "    <tr>\n",
       "      <th>5248</th>\n",
       "      <td>8100005449</td>\n",
       "      <td>RAMA FARMACEUTICA SA DE CV</td>\n",
       "      <td>GOICO DOBLE MENTOL GLB 0721 400ML/12</td>\n",
       "    </tr>\n",
       "    <tr>\n",
       "      <th>6076</th>\n",
       "      <td>8100005449</td>\n",
       "      <td>FARMACIA GUADALAJARA S.A. DE C.V.</td>\n",
       "      <td>GOICO DOBLE MENTOL GLB 0721 400ML/12</td>\n",
       "    </tr>\n",
       "    <tr>\n",
       "      <th>6366</th>\n",
       "      <td>8100005449</td>\n",
       "      <td>TIENDAS SORIANA S.A. DE C.V.</td>\n",
       "      <td>GOICO DOBLE MENTOL GLB 0721 400ML/12</td>\n",
       "    </tr>\n",
       "  </tbody>\n",
       "</table>\n",
       "</div>"
      ],
      "text/plain": [
       "        Material                               Nombre  \\\n",
       "166   8100005449                 CASA MARZAM SA DE CV   \n",
       "1165  8100005449     WAL MART SUPERCENTER SUPERCENTER   \n",
       "2197  8100005449         FUXS DISTRIBUCIONES SA DE CV   \n",
       "2427  8100005449  SUPERMERCADOS INTERNACIONALES HEB S   \n",
       "3458  8100005449        TIENDAS CHEDRAUI S.A. DE C.V.   \n",
       "5072  8100005449         GRUPO COMERCIAL DSW SA DE CV   \n",
       "5248  8100005449           RAMA FARMACEUTICA SA DE CV   \n",
       "6076  8100005449    FARMACIA GUADALAJARA S.A. DE C.V.   \n",
       "6366  8100005449         TIENDAS SORIANA S.A. DE C.V.   \n",
       "\n",
       "                              Denominacion  \n",
       "166   GOICO DOBLE MENTOL GLB 0721 400ML/12  \n",
       "1165  GOICO DOBLE MENTOL GLB 0721 400ML/12  \n",
       "2197  GOICO DOBLE MENTOL GLB 0721 400ML/12  \n",
       "2427  GOICO DOBLE MENTOL GLB 0721 400ML/12  \n",
       "3458  GOICO DOBLE MENTOL GLB 0721 400ML/12  \n",
       "5072  GOICO DOBLE MENTOL GLB 0721 400ML/12  \n",
       "5248  GOICO DOBLE MENTOL GLB 0721 400ML/12  \n",
       "6076  GOICO DOBLE MENTOL GLB 0721 400ML/12  \n",
       "6366  GOICO DOBLE MENTOL GLB 0721 400ML/12  "
      ]
     },
     "execution_count": 19,
     "metadata": {},
     "output_type": "execute_result"
    }
   ],
   "source": [
    "df[['Material', 'Nombre', 'Denominacion']][df['Material'].isin(material_ean['Material'])].drop_duplicates()"
   ]
  },
  {
   "cell_type": "code",
   "execution_count": 20,
   "metadata": {},
   "outputs": [
    {
     "data": {
      "text/plain": [
       "Index(['Factura', 'Posicion', 'DocumentoVentas', 'PosicionDV',\n",
       "       'NumeroPedCliente', 'Material', 'CodigoBarras', 'Denominacion',\n",
       "       'Solicitante', 'Nombre', 'RFC', 'CNAC', 'GrupoCuentas',\n",
       "       'GrupoTesoreria', 'DestinatarioMcia', 'NombreDestinatario',\n",
       "       'CantidadFacturada', 'UnidadMedida', 'CtdFactUMB', 'UnidadMedidaBase',\n",
       "       'PrecioUnitario', 'ImpuestoBase', 'ImpuestoDescuento', 'ValorNeto',\n",
       "       'ImporteImpuesto', 'ImpuestoIEPS', 'ImpuestoTotal', 'CentroBeneficio',\n",
       "       'DescripcionCebe', 'TipoUnidades', 'FechaFactura', 'GrupoArticulos',\n",
       "       'DenominacionArticulos', 'ClaseFactura', 'DenominacionTipoDocto',\n",
       "       'CambioContable', 'Sociedad', 'Nombreempresa', 'OrganizacionVentas',\n",
       "       'Centro', 'Almacen', 'Lote', 'FechaCaducidad', 'MotivoPedido',\n",
       "       'DescMotivoPedido', 'ValorNetoAbs', 'Moneda'],\n",
       "      dtype='object')"
      ]
     },
     "execution_count": 20,
     "metadata": {},
     "output_type": "execute_result"
    }
   ],
   "source": [
    "df.columns"
   ]
  },
  {
   "cell_type": "code",
   "execution_count": 21,
   "metadata": {},
   "outputs": [
    {
     "data": {
      "text/html": [
       "<div>\n",
       "<style scoped>\n",
       "    .dataframe tbody tr th:only-of-type {\n",
       "        vertical-align: middle;\n",
       "    }\n",
       "\n",
       "    .dataframe tbody tr th {\n",
       "        vertical-align: top;\n",
       "    }\n",
       "\n",
       "    .dataframe thead th {\n",
       "        text-align: right;\n",
       "    }\n",
       "</style>\n",
       "<table border=\"1\" class=\"dataframe\">\n",
       "  <thead>\n",
       "    <tr style=\"text-align: right;\">\n",
       "      <th></th>\n",
       "      <th>Material</th>\n",
       "      <th>Nombre</th>\n",
       "      <th>Denominacion</th>\n",
       "      <th>PrecioUnitario</th>\n",
       "    </tr>\n",
       "  </thead>\n",
       "  <tbody>\n",
       "    <tr>\n",
       "      <th>166</th>\n",
       "      <td>8100005449</td>\n",
       "      <td>CASA MARZAM SA DE CV</td>\n",
       "      <td>GOICO DOBLE MENTOL GLB 0721 400ML/12</td>\n",
       "      <td>65.94</td>\n",
       "    </tr>\n",
       "    <tr>\n",
       "      <th>1165</th>\n",
       "      <td>8100005449</td>\n",
       "      <td>WAL MART SUPERCENTER SUPERCENTER</td>\n",
       "      <td>GOICO DOBLE MENTOL GLB 0721 400ML/12</td>\n",
       "      <td>59.69</td>\n",
       "    </tr>\n",
       "    <tr>\n",
       "      <th>2197</th>\n",
       "      <td>8100005449</td>\n",
       "      <td>FUXS DISTRIBUCIONES SA DE CV</td>\n",
       "      <td>GOICO DOBLE MENTOL GLB 0721 400ML/12</td>\n",
       "      <td>64.40</td>\n",
       "    </tr>\n",
       "    <tr>\n",
       "      <th>2427</th>\n",
       "      <td>8100005449</td>\n",
       "      <td>SUPERMERCADOS INTERNACIONALES HEB S</td>\n",
       "      <td>GOICO DOBLE MENTOL GLB 0721 400ML/12</td>\n",
       "      <td>70.59</td>\n",
       "    </tr>\n",
       "    <tr>\n",
       "      <th>3458</th>\n",
       "      <td>8100005449</td>\n",
       "      <td>TIENDAS CHEDRAUI S.A. DE C.V.</td>\n",
       "      <td>GOICO DOBLE MENTOL GLB 0721 400ML/12</td>\n",
       "      <td>70.59</td>\n",
       "    </tr>\n",
       "    <tr>\n",
       "      <th>5072</th>\n",
       "      <td>8100005449</td>\n",
       "      <td>GRUPO COMERCIAL DSW SA DE CV</td>\n",
       "      <td>GOICO DOBLE MENTOL GLB 0721 400ML/12</td>\n",
       "      <td>65.18</td>\n",
       "    </tr>\n",
       "    <tr>\n",
       "      <th>5248</th>\n",
       "      <td>8100005449</td>\n",
       "      <td>RAMA FARMACEUTICA SA DE CV</td>\n",
       "      <td>GOICO DOBLE MENTOL GLB 0721 400ML/12</td>\n",
       "      <td>73.31</td>\n",
       "    </tr>\n",
       "    <tr>\n",
       "      <th>6076</th>\n",
       "      <td>8100005449</td>\n",
       "      <td>FARMACIA GUADALAJARA S.A. DE C.V.</td>\n",
       "      <td>GOICO DOBLE MENTOL GLB 0721 400ML/12</td>\n",
       "      <td>69.51</td>\n",
       "    </tr>\n",
       "    <tr>\n",
       "      <th>6366</th>\n",
       "      <td>8100005449</td>\n",
       "      <td>TIENDAS SORIANA S.A. DE C.V.</td>\n",
       "      <td>GOICO DOBLE MENTOL GLB 0721 400ML/12</td>\n",
       "      <td>70.59</td>\n",
       "    </tr>\n",
       "    <tr>\n",
       "      <th>6638</th>\n",
       "      <td>8100005449</td>\n",
       "      <td>WAL MART SUPERCENTER SUPERCENTER</td>\n",
       "      <td>GOICO DOBLE MENTOL GLB 0721 400ML/12</td>\n",
       "      <td>53.70</td>\n",
       "    </tr>\n",
       "  </tbody>\n",
       "</table>\n",
       "</div>"
      ],
      "text/plain": [
       "        Material                               Nombre  \\\n",
       "166   8100005449                 CASA MARZAM SA DE CV   \n",
       "1165  8100005449     WAL MART SUPERCENTER SUPERCENTER   \n",
       "2197  8100005449         FUXS DISTRIBUCIONES SA DE CV   \n",
       "2427  8100005449  SUPERMERCADOS INTERNACIONALES HEB S   \n",
       "3458  8100005449        TIENDAS CHEDRAUI S.A. DE C.V.   \n",
       "5072  8100005449         GRUPO COMERCIAL DSW SA DE CV   \n",
       "5248  8100005449           RAMA FARMACEUTICA SA DE CV   \n",
       "6076  8100005449    FARMACIA GUADALAJARA S.A. DE C.V.   \n",
       "6366  8100005449         TIENDAS SORIANA S.A. DE C.V.   \n",
       "6638  8100005449     WAL MART SUPERCENTER SUPERCENTER   \n",
       "\n",
       "                              Denominacion  PrecioUnitario  \n",
       "166   GOICO DOBLE MENTOL GLB 0721 400ML/12           65.94  \n",
       "1165  GOICO DOBLE MENTOL GLB 0721 400ML/12           59.69  \n",
       "2197  GOICO DOBLE MENTOL GLB 0721 400ML/12           64.40  \n",
       "2427  GOICO DOBLE MENTOL GLB 0721 400ML/12           70.59  \n",
       "3458  GOICO DOBLE MENTOL GLB 0721 400ML/12           70.59  \n",
       "5072  GOICO DOBLE MENTOL GLB 0721 400ML/12           65.18  \n",
       "5248  GOICO DOBLE MENTOL GLB 0721 400ML/12           73.31  \n",
       "6076  GOICO DOBLE MENTOL GLB 0721 400ML/12           69.51  \n",
       "6366  GOICO DOBLE MENTOL GLB 0721 400ML/12           70.59  \n",
       "6638  GOICO DOBLE MENTOL GLB 0721 400ML/12           53.70  "
      ]
     },
     "execution_count": 21,
     "metadata": {},
     "output_type": "execute_result"
    }
   ],
   "source": [
    "df[['Material', 'Nombre', 'Denominacion', 'PrecioUnitario']][df['Material'].isin(material_ean['Material'])].drop_duplicates()"
   ]
  },
  {
   "cell_type": "code",
   "execution_count": 22,
   "metadata": {},
   "outputs": [
    {
     "ename": "SyntaxError",
     "evalue": "invalid syntax (Temp/ipykernel_12872/2470223518.py, line 11)",
     "output_type": "error",
     "traceback": [
      "\u001b[1;36m  File \u001b[1;32m\"C:\\Users\\JSHERN~1\\AppData\\Local\\Temp/ipykernel_12872/2470223518.py\"\u001b[1;36m, line \u001b[1;32m11\u001b[0m\n\u001b[1;33m    SELECT Material FROM [APPSGL].[Gnm_CatMaestros].[dbo].[GnmHomologaMaterialSAP]\u001b[0m\n\u001b[1;37m           ^\u001b[0m\n\u001b[1;31mSyntaxError\u001b[0m\u001b[1;31m:\u001b[0m invalid syntax\n"
     ]
    }
   ],
   "source": [
    "conn_appsgl = pyodbc.connect('Driver={SQL Server};'\n",
    "                      'Server=APPSGL;'\n",
    "                      'Database=Gnm_CatMaestros;'\n",
    "                      'Trusted_Connection=yes;')\n",
    "\n",
    "conn_appsgl = pyodbc.connect('Driver={SQL Server};'\n",
    "                      'Server=APPSGL;'\n",
    "                      'Database=Gnm_CatMaestros;'\n",
    "                      'Trusted_Connection=yes;')\n",
    "\n",
    "SELECT Material FROM [APPSGL].[Gnm_CatMaestros].[dbo].[GnmHomologaMaterialSAP]"
   ]
  },
  {
   "cell_type": "code",
   "execution_count": null,
   "metadata": {},
   "outputs": [],
   "source": [
    "query = '''INSERT INTO GnmHomologaMaterialSAP\n",
    "           ([Material]\n",
    "           ,[ProPstID]\n",
    "           ,[Denominacion]\n",
    "           ,[CodigoBarras]\n",
    "           ,[FechaAudit])\n",
    "     VALUES\n",
    "           (8100004127\n",
    "           ,{1}\n",
    "           ,{2}\n",
    "           ,650240052580\n",
    "           ,{4})\n",
    "        '''"
   ]
  },
  {
   "cell_type": "markdown",
   "metadata": {},
   "source": [
    "# Homologar clientes"
   ]
  },
  {
   "cell_type": "code",
   "execution_count": null,
   "metadata": {},
   "outputs": [],
   "source": []
  },
  {
   "cell_type": "code",
   "execution_count": null,
   "metadata": {},
   "outputs": [],
   "source": []
  },
  {
   "cell_type": "code",
   "execution_count": null,
   "metadata": {},
   "outputs": [],
   "source": []
  }
 ],
 "metadata": {
  "kernelspec": {
   "display_name": "Python 3 (ipykernel)",
   "language": "python",
   "name": "python3"
  },
  "language_info": {
   "codemirror_mode": {
    "name": "ipython",
    "version": 3
   },
   "file_extension": ".py",
   "mimetype": "text/x-python",
   "name": "python",
   "nbconvert_exporter": "python",
   "pygments_lexer": "ipython3",
   "version": "3.8.10"
  },
  "toc": {
   "base_numbering": 1,
   "nav_menu": {},
   "number_sections": true,
   "sideBar": true,
   "skip_h1_title": false,
   "title_cell": "Table of Contents",
   "title_sidebar": "Contents",
   "toc_cell": false,
   "toc_position": {},
   "toc_section_display": true,
   "toc_window_display": false
  }
 },
 "nbformat": 4,
 "nbformat_minor": 4
}
