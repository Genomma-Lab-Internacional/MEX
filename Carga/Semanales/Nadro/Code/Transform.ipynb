{
 "cells": [
  {
   "cell_type": "code",
   "execution_count": 1,
   "metadata": {},
   "outputs": [],
   "source": [
    "month = 'Febrero'\n",
    "filename = '2022_09_Nadro.xlsx'"
   ]
  },
  {
   "cell_type": "markdown",
   "metadata": {},
   "source": [
    "# Libraries"
   ]
  },
  {
   "cell_type": "code",
   "execution_count": 2,
   "metadata": {},
   "outputs": [],
   "source": [
    "import pandas as pd\n",
    "from datetime import datetime"
   ]
  },
  {
   "cell_type": "markdown",
   "metadata": {},
   "source": [
    "# Parameters"
   ]
  },
  {
   "cell_type": "code",
   "execution_count": 6,
   "metadata": {},
   "outputs": [],
   "source": [
    "year = datetime.today().year\n",
    "#week = datetime.today().isocalendar()[1]\n",
    "week = 9\n",
    "\n",
    "path_export = r'\\\\NASPRO.infovisiontv.com\\Respaldo_Operacion_Cargas\\Nadro\\{0}\\Layout Diario'\n",
    "path_export = path_export.format(year)\n",
    "\n",
    "path_backup = r'\\\\NASPRO.infovisiontv.com\\Respaldo_Operacion_Cargas\\Nadro\\{0}'\n",
    "path_backup = path_backup.format(year)\n",
    "\n",
    "path_load = r'C:\\Users\\jshernandezm\\OneDrive - genommalabinternacional\\MEX\\Carga\\Semanales\\Nadro\\Data\\{0}\\2. {2}\\S {1}'\n",
    "path_load = path_load.format(year, str(week).zfill(2), month)\n",
    "\n",
    " = r'\\\\NASPRO.infovisiontv.com\\Respaldo_Operacion_Cargas\\Nadro\\Catalogos.xlsx'\n",
    "path_inv = r'\\\\NASPRO.infovisiontv.com\\Respaldo_Operacion_Cargas\\Nadro\\Catalogos.xlsx'"
   ]
  },
  {
   "cell_type": "markdown",
   "metadata": {},
   "source": [
    "# Load Data"
   ]
  },
  {
   "cell_type": "code",
   "execution_count": 4,
   "metadata": {},
   "outputs": [],
   "source": [
    "df = pd.read_excel(path_load + '\\\\' + filename)"
   ]
  },
  {
   "cell_type": "code",
   "execution_count": 9,
   "metadata": {},
   "outputs": [],
   "source": [
    "dsucs = pd.read_excel(path_sucs, sheet_name='Sucursales', names=['Suc', 'Suc_Num', 'Nombre', 'SUCURSAL'])"
   ]
  },
  {
   "cell_type": "code",
   "execution_count": 12,
   "metadata": {},
   "outputs": [],
   "source": [
    "dinv = pd.read_excel(r'\\\\NASPRO.infovisiontv.com\\Respaldo_Operacion_Cargas\\Nadro\\Catalogos.xlsx', sheet_name='Inventarios')"
   ]
  },
  {
   "cell_type": "markdown",
   "metadata": {},
   "source": [
    "# Data Cleaning"
   ]
  },
  {
   "cell_type": "markdown",
   "metadata": {},
   "source": [
    "## Remove data"
   ]
  },
  {
   "cell_type": "code",
   "execution_count": 5,
   "metadata": {},
   "outputs": [],
   "source": [
    "del df['TRANSF']\n",
    "del df['PRON']\n",
    "\n",
    "df = df[:-1]"
   ]
  },
  {
   "cell_type": "code",
   "execution_count": 15,
   "metadata": {},
   "outputs": [
    {
     "data": {
      "text/plain": [
       "Index(['EAN', 'SAP', 'MATERIAL', 'MARCA', 'EMPQ', 'PFCIA', 'PPUB', 'CS',\n",
       "       'CTRO', 'SUCURSAL', 'DEMANDA', 'EXIS', 'TRANS', 'LUNES 21', 'MARTES 22',\n",
       "       'MIERCOLES 23', 'JUEVES 24', 'VIERNES 25', 'DOMINGO 27', 'TOT PZAS',\n",
       "       'TOT VTA P FCIA'],\n",
       "      dtype='object')"
      ]
     },
     "execution_count": 15,
     "metadata": {},
     "output_type": "execute_result"
    }
   ],
   "source": [
    "df.columns"
   ]
  },
  {
   "cell_type": "markdown",
   "metadata": {},
   "source": [
    "rename_cols = {\n",
    "    'MATERIAL': 'DESCRIPCION',\n",
    "    'CTRO': 'SUCURSAL',\n",
    "    'SUCURSAL': 'DSC_SUCURSAL',\n",
    "    'SAP': 'CODIGO',\n",
    "    'EMPQ': 'EMPAQUE',\n",
    "    'EXIS': 'EXISTENCIA',\n",
    "    'TRANS': 'TRANSITO'\n",
    "    }"
   ]
  },
  {
   "cell_type": "markdown",
   "metadata": {},
   "source": [
    "df.rename(rename_cols, axis=1, inplace=True)"
   ]
  },
  {
   "cell_type": "markdown",
   "metadata": {},
   "source": [
    "df['DES_CS'] = 'Disponible'"
   ]
  },
  {
   "cell_type": "markdown",
   "metadata": {},
   "source": [
    "sort_cols = [\n",
    "    'EAN',\n",
    "    'DESCRIPCION',\n",
    "    'MARCA',\n",
    "    'SUCURSAL',\n",
    "    'DSC_SUCURSAL',\n",
    "    'CODIGO',\n",
    "    'CS',\n",
    "    'DES_CS',\n",
    "    'EMPAQUE',\n",
    "    'PFCIA',\n",
    "    'PPUB',\n",
    "    'EXISTENCIA',\n",
    "    'TRANSITO',\n",
    "    'DEMANDA'\n",
    "    ]"
   ]
  },
  {
   "cell_type": "code",
   "execution_count": null,
   "metadata": {},
   "outputs": [],
   "source": []
  }
 ],
 "metadata": {
  "interpreter": {
   "hash": "8517f3e7e53f8964ccb37c76b9649d71f1b5b080f0cd17a0a1c63227e7ee36f6"
  },
  "kernelspec": {
   "display_name": "Python 3.8.10 ('base': conda)",
   "language": "python",
   "name": "python3"
  },
  "language_info": {
   "codemirror_mode": {
    "name": "ipython",
    "version": 3
   },
   "file_extension": ".py",
   "mimetype": "text/x-python",
   "name": "python",
   "nbconvert_exporter": "python",
   "pygments_lexer": "ipython3",
   "version": "3.8.10"
  },
  "orig_nbformat": 4
 },
 "nbformat": 4,
 "nbformat_minor": 2
}
