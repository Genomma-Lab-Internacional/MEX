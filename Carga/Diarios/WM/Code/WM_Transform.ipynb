{
 "cells": [
  {
   "cell_type": "markdown",
   "metadata": {},
   "source": [
    "# Parameters"
   ]
  },
  {
   "cell_type": "code",
   "execution_count": 1,
   "metadata": {},
   "outputs": [],
   "source": [
    "year = 2022\n",
    "week = 22\n",
    "\n",
    "# Nombre del archivo a importar de Sell Out\n",
    "file_import_so = 'Walmartnuevo_05062022.zip'\n",
    "# Nombre del archivo a importar de Stock\n",
    "file_import_stock = 'WalmartStapleStock_01042022.xls'\n",
    "# Nombre del archivo a exportar de Sell Out\n",
    "file_export_so = 'Walmartnuevo.txt'\n",
    "# Nombre del archivo a exportar de Stock\n",
    "file_export_stock = 'WalmartStapleStock.txt'"
   ]
  },
  {
   "cell_type": "code",
   "execution_count": 2,
   "metadata": {},
   "outputs": [],
   "source": [
    "# Directorio de donde se importarán los archivos\n",
    "dir_files_wm = r'C:\\Users\\jshernandezm\\OneDrive - genommalabinternacional\\MEX\\Carga\\Diarios\\WM\\Data\\{0}\\{1}\\Raw'\n",
    "\n",
    "# Directorio donde se exportará el output\n",
    "dir_backup = r'C:\\Users\\jshernandezm\\OneDrive - genommalabinternacional\\MEX\\Carga\\Diarios\\WM\\Data\\{0}\\{1}\\Output'"
   ]
  },
  {
   "cell_type": "markdown",
   "metadata": {},
   "source": [
    "# Libraries"
   ]
  },
  {
   "cell_type": "code",
   "execution_count": 3,
   "metadata": {},
   "outputs": [],
   "source": [
    "from zipfile import ZipFile\n",
    "import pandas as pd\n",
    "import os\n"
   ]
  },
  {
   "cell_type": "markdown",
   "metadata": {},
   "source": [
    "# Zip File"
   ]
  },
  {
   "cell_type": "markdown",
   "metadata": {},
   "source": [
    "Descomprimimos el archivo Sell Out y guardamos el txt en la misma ruta:"
   ]
  },
  {
   "cell_type": "code",
   "execution_count": 4,
   "metadata": {},
   "outputs": [],
   "source": [
    "# Agregamos el año y ruta en el directorio\n",
    "dir_files_wm = dir_files_wm.format(year, str(week).zfill(2))\n",
    "# Extracción de archivo\n",
    "with ZipFile(dir_files_wm + '\\\\' + file_import_so, 'r') as zip_ref:\n",
    "    zip_ref.extractall(dir_files_wm)\n",
    "# Removemos el objeto zip_ref\n",
    "del zip_ref"
   ]
  },
  {
   "cell_type": "markdown",
   "metadata": {},
   "source": [
    "Obtenemos el nombre del archivo que acabamos de descomprimir:"
   ]
  },
  {
   "cell_type": "code",
   "execution_count": 5,
   "metadata": {},
   "outputs": [],
   "source": [
    "file_import_so = [file for file in os.listdir(dir_files_wm) if file.endswith('.txt')][0]"
   ]
  },
  {
   "cell_type": "markdown",
   "metadata": {},
   "source": [
    "# Import Data"
   ]
  },
  {
   "cell_type": "markdown",
   "metadata": {},
   "source": [
    "Cargamos el archivo de Sell Out para quitarle los caracteres raros ()"
   ]
  },
  {
   "cell_type": "code",
   "execution_count": 6,
   "metadata": {},
   "outputs": [],
   "source": [
    "df_so = pd.read_csv(\n",
    "    dir_files_wm + '\\\\' + file_import_so, \n",
    "    sep='\\t', \n",
    "    encoding='windows-1252',\n",
    "    header=None,\n",
    "    dtype={0:str}\n",
    ")"
   ]
  },
  {
   "cell_type": "markdown",
   "metadata": {},
   "source": [
    "# Data Cleaning"
   ]
  },
  {
   "cell_type": "markdown",
   "metadata": {},
   "source": [
    "Removemos los caracteres de interés:"
   ]
  },
  {
   "cell_type": "code",
   "execution_count": 7,
   "metadata": {},
   "outputs": [],
   "source": [
    "df_so[4] = df_so[4].apply(lambda x: x.replace('AÂ¨AÂ¨', ''))\n",
    "df_so[4] = df_so[4].apply(lambda x: x.replace('Â', ''))\n",
    "df_so[4] = df_so[4].apply(lambda x: x.replace('ï¿½', ''))"
   ]
  },
  {
   "cell_type": "markdown",
   "metadata": {},
   "source": [
    "Y también quitamos aquellos registros que contengan *216pc* o *234PCGOICOECHEA ANT*:"
   ]
  },
  {
   "cell_type": "code",
   "execution_count": 21,
   "metadata": {},
   "outputs": [],
   "source": [
    "mask = df_so[4].apply(lambda x: ('216pc' in x) or ('234PCGOICOECHEA ANT' in x))\n",
    "df_so = df_so[~mask]"
   ]
  },
  {
   "cell_type": "markdown",
   "metadata": {},
   "source": [
    "Transformamos las últimas 7 columnas a string con 6 decimales:"
   ]
  },
  {
   "cell_type": "code",
   "execution_count": 22,
   "metadata": {},
   "outputs": [
    {
     "name": "stderr",
     "output_type": "stream",
     "text": [
      "C:\\Users\\jshernandezm\\AppData\\Local\\Temp\\ipykernel_19320\\2794966775.py:3: SettingWithCopyWarning: \n",
      "A value is trying to be set on a copy of a slice from a DataFrame.\n",
      "Try using .loc[row_indexer,col_indexer] = value instead\n",
      "\n",
      "See the caveats in the documentation: https://pandas.pydata.org/pandas-docs/stable/user_guide/indexing.html#returning-a-view-versus-a-copy\n",
      "  df_so[col] = df_so[col].apply(lambda x: '%.6f'%(x))\n"
     ]
    }
   ],
   "source": [
    "cols = range(11, 18)\n",
    "for col in cols:\n",
    "    df_so[col] = df_so[col].apply(lambda x: '%.6f'%(x))"
   ]
  },
  {
   "cell_type": "markdown",
   "metadata": {},
   "source": [
    "Generamos una función para quedarnos con la parte entera y respete las filas nulas"
   ]
  },
  {
   "cell_type": "code",
   "execution_count": 23,
   "metadata": {},
   "outputs": [],
   "source": [
    "def get_integers(num):\n",
    "    try:\n",
    "        return '%.0f'%(num)\n",
    "    except:\n",
    "        return num"
   ]
  },
  {
   "cell_type": "code",
   "execution_count": 24,
   "metadata": {},
   "outputs": [
    {
     "name": "stderr",
     "output_type": "stream",
     "text": [
      "C:\\Users\\jshernandezm\\AppData\\Local\\Temp\\ipykernel_19320\\262723946.py:1: SettingWithCopyWarning: \n",
      "A value is trying to be set on a copy of a slice from a DataFrame.\n",
      "Try using .loc[row_indexer,col_indexer] = value instead\n",
      "\n",
      "See the caveats in the documentation: https://pandas.pydata.org/pandas-docs/stable/user_guide/indexing.html#returning-a-view-versus-a-copy\n",
      "  df_so[9] = df_so[9].map(get_integers)\n"
     ]
    }
   ],
   "source": [
    "df_so[9] = df_so[9].map(get_integers)"
   ]
  },
  {
   "cell_type": "markdown",
   "metadata": {},
   "source": [
    "# Export txt"
   ]
  },
  {
   "cell_type": "markdown",
   "metadata": {},
   "source": [
    "Se exporta el archivo txt a la ruta backup:"
   ]
  },
  {
   "cell_type": "code",
   "execution_count": 25,
   "metadata": {},
   "outputs": [],
   "source": [
    "dir_backup = dir_backup.format(year, str(week).zfill(2))\n",
    "df_so.to_csv(\n",
    "    dir_backup + '\\\\' + file_export_so,\n",
    "    sep='\\t',\n",
    "    encoding='latin1',\n",
    "    header=None,\n",
    "    index=False\n",
    ")"
   ]
  },
  {
   "cell_type": "code",
   "execution_count": null,
   "metadata": {},
   "outputs": [],
   "source": []
  }
 ],
 "metadata": {
  "interpreter": {
   "hash": "fe4feffa201cdf201c8a2af344ba7b0bb32861ea0c787625218332493d6906c2"
  },
  "kernelspec": {
   "display_name": "Python 3.8.10 ('base')",
   "language": "python",
   "name": "python3"
  },
  "language_info": {
   "codemirror_mode": {
    "name": "ipython",
    "version": 3
   },
   "file_extension": ".py",
   "mimetype": "text/x-python",
   "name": "python",
   "nbconvert_exporter": "python",
   "pygments_lexer": "ipython3",
   "version": "3.8.10"
  },
  "orig_nbformat": 4
 },
 "nbformat": 4,
 "nbformat_minor": 2
}
