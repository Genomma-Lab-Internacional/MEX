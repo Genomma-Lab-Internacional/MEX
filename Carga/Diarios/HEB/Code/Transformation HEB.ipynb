{
 "cells": [
  {
   "cell_type": "markdown",
   "metadata": {},
   "source": [
    "Este código está pensado para procesar la información de HEB por semana.\n",
    "\n",
    "Se necesitan modificar los parámetros:\n",
    "- dates: Corresponde a las fechas a procesar.\n",
    "- year: Año GL correspondiente de las fechas.\n",
    "- week: Semana GL orrespondiente de las fechas."
   ]
  },
  {
   "cell_type": "code",
   "execution_count": 16,
   "metadata": {},
   "outputs": [],
   "source": [
    "dates = ['2022-03-04', '2022-03-05', '2022-03-06']\n",
    "year = 2022\n",
    "week = 10"
   ]
  },
  {
   "cell_type": "markdown",
   "metadata": {},
   "source": [
    "# Libraries"
   ]
  },
  {
   "cell_type": "code",
   "execution_count": 17,
   "metadata": {},
   "outputs": [],
   "source": [
    "import pandas as pd\n",
    "from datetime import datetime"
   ]
  },
  {
   "cell_type": "markdown",
   "metadata": {},
   "source": [
    "# Parameters"
   ]
  },
  {
   "cell_type": "code",
   "execution_count": 18,
   "metadata": {},
   "outputs": [],
   "source": [
    "#path_carga = r'\\\\NASPRO.infovisiontv.com\\DWH01\\Cognos\\Fuentes de datos\\DataMart\\Información de POS\\POS diarios\\Carga al DM'\n",
    "path_backup = r'\\\\NASPRO.infovisiontv.com\\Respaldo_Operacion_Cargas\\Heb'\n",
    "path_load = r'C:\\Users\\jshernandezm\\OneDrive - genommalabinternacional\\MEX\\Carga\\Diarios\\HEB\\Data\\{0}\\S{1}'"
   ]
  },
  {
   "cell_type": "code",
   "execution_count": 19,
   "metadata": {},
   "outputs": [],
   "source": [
    "cols_sales = {\n",
    "    'Anio Natural': 'Año Natural',\n",
    "    'Unidades': 'Cantidad'\n",
    "}"
   ]
  },
  {
   "cell_type": "code",
   "execution_count": 20,
   "metadata": {},
   "outputs": [],
   "source": [
    "cols_stock = {\n",
    "    'Venta Prom Costo 4W': 'Venta Promedio Costo 4w',\n",
    "    'Venta Prom Precio 4W': 'Venta Promedio Precio 4w',\n",
    "    'Venta Prom Unidades 4w': 'Venta Promedio Unidades 4w'\n",
    "}"
   ]
  },
  {
   "cell_type": "code",
   "execution_count": 21,
   "metadata": {},
   "outputs": [],
   "source": [
    "cols_sales = {\n",
    "    'Anio Natural': 'Año Natural',\n",
    "    'Unidades': 'Cantidad'\n",
    "}"
   ]
  },
  {
   "cell_type": "code",
   "execution_count": 22,
   "metadata": {},
   "outputs": [],
   "source": [
    "cols_stock = {\n",
    "    'Venta Prom Costo 4W': 'Venta Promedio Costo 4w',\n",
    "    'Venta Prom Precio 4W': 'Venta Promedio Precio 4w',\n",
    "    'Venta Prom Unidades 4w': 'Venta Promedio Unidades 4w'\n",
    "}"
   ]
  },
  {
   "cell_type": "code",
   "execution_count": 23,
   "metadata": {},
   "outputs": [],
   "source": [
    "sort_cols_sales = ['Año Natural', \n",
    "                   'Mes',\n",
    "                   'Dia',\n",
    "                   'Sucursal',\n",
    "                   'ID Articulo',\n",
    "                   'Articulo',\n",
    "                   'UPC',\n",
    "                   'Venta',\n",
    "                   'Cantidad',\n",
    "                   'Precio Promedio']"
   ]
  },
  {
   "cell_type": "code",
   "execution_count": 24,
   "metadata": {},
   "outputs": [],
   "source": [
    "sort_cols_stock = ['Sucursal', \n",
    "                   'Division', \n",
    "                   'Departamento', \n",
    "                   'Familia', \n",
    "                   'SubFamilia',\n",
    "                   'ID Articulo',\n",
    "                   'Articulo',\n",
    "                   'UPC',\n",
    "                   'DOS Unidades',\n",
    "                   'DOS Precio',\n",
    "                   'DOS Costo',\n",
    "                   'Inventario Unidades',\n",
    "                   'Inventario Precio',\n",
    "                   'Inventario Costo',\n",
    "                   'Venta Promedio Unidades 4w',\n",
    "                   'Venta Promedio Precio 4w',\n",
    "                   'Venta Promedio Costo 4w']"
   ]
  },
  {
   "cell_type": "code",
   "execution_count": 25,
   "metadata": {},
   "outputs": [],
   "source": [
    "def transf_export(year, month, day):\n",
    "    # Load\n",
    "    filename_desp = 'Desp {0}.csv'.format(str(day).zfill(2))\n",
    "    filename_exist = 'Exist {0}.csv'.format(str(day).zfill(2))\n",
    "    sales = pd.read_csv(path_load + '\\\\' + filename_desp)\n",
    "    stock = pd.read_csv(path_load + '\\\\' + filename_exist)\n",
    "    # Rename\n",
    "    sales.rename(cols_sales, axis=1, inplace=True)\n",
    "    stock.rename(cols_stock, axis=1, inplace=True)\n",
    "    # Prepare to export\n",
    "    filename_exist_export = '{0}{1}{2}_HEB_Exist.txt'\n",
    "    filename_exist_export = filename_exist_export.format(year, str(month).zfill(2), str(day).zfill(2))\n",
    "    filename_desp_export = '{0}{1}{2}_HEB_Desp.txt'\n",
    "    filename_desp_export = filename_desp_export.format(year, str(month).zfill(2), str(day).zfill(2))\n",
    "    # Export\n",
    "    sales[sort_cols_sales].to_csv(path_backup + f'\\\\{year}\\\\' + filename_desp_export, sep='\\t', index=False)\n",
    "    stock[sort_cols_stock].to_csv(path_backup + f'\\\\{year}\\\\' + filename_exist_export, sep='\\t', index=False)"
   ]
  },
  {
   "cell_type": "markdown",
   "metadata": {},
   "source": [
    "# Main"
   ]
  },
  {
   "cell_type": "code",
   "execution_count": 26,
   "metadata": {},
   "outputs": [
    {
     "name": "stdout",
     "output_type": "stream",
     "text": [
      "Wall time: 1min 31s\n"
     ]
    }
   ],
   "source": [
    "%%time\n",
    "path_load = path_load.format(year, str(week).zfill(2))\n",
    "for date in dates:\n",
    "    date = datetime.strptime(date, '%Y-%m-%d')\n",
    "    month = date.month\n",
    "    day = date.day\n",
    "    transf_export(year, month, day)"
   ]
  }
 ],
 "metadata": {
  "kernelspec": {
   "display_name": "Python 3 (ipykernel)",
   "language": "python",
   "name": "python3"
  },
  "language_info": {
   "codemirror_mode": {
    "name": "ipython",
    "version": 3
   },
   "file_extension": ".py",
   "mimetype": "text/x-python",
   "name": "python",
   "nbconvert_exporter": "python",
   "pygments_lexer": "ipython3",
   "version": "3.8.10"
  },
  "toc": {
   "base_numbering": 1,
   "nav_menu": {},
   "number_sections": true,
   "sideBar": true,
   "skip_h1_title": false,
   "title_cell": "Table of Contents",
   "title_sidebar": "Contents",
   "toc_cell": false,
   "toc_position": {},
   "toc_section_display": true,
   "toc_window_display": false
  }
 },
 "nbformat": 4,
 "nbformat_minor": 4
}
