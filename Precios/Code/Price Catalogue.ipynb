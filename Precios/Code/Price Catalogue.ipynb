{
 "cells": [
  {
   "cell_type": "markdown",
   "metadata": {},
   "source": [
    "# Parameters"
   ]
  },
  {
   "cell_type": "code",
   "execution_count": 1,
   "metadata": {},
   "outputs": [],
   "source": [
    "year = 2022\n",
    "month = 'Mayo'\n",
    "filaname_edi = '11.05.2022 MdP EDI.xlsx'\n",
    "filaname_sap = '(2022_05_11@13.11hrs) MdP Clientes Nac SAP.xlsx'\n",
    "filaname_amazon = '2022_05_11 MdP SAP AMAZON.xlsx'"
   ]
  },
  {
   "cell_type": "markdown",
   "metadata": {},
   "source": [
    "# Libraries"
   ]
  },
  {
   "cell_type": "code",
   "execution_count": 2,
   "metadata": {},
   "outputs": [],
   "source": [
    "from datetime import datetime\n",
    "import pandas as pd"
   ]
  },
  {
   "cell_type": "markdown",
   "metadata": {},
   "source": [
    "# Import data"
   ]
  },
  {
   "cell_type": "code",
   "execution_count": 3,
   "metadata": {},
   "outputs": [],
   "source": [
    "months_number = {\n",
    "    'Enero': '01',\n",
    "    'Febrero': '02',\n",
    "    'Marzo': '03',\n",
    "    'Abril': '04',\n",
    "    'Mayo': '05',\n",
    "    'Junio': '06',\n",
    "    'Julio': '07',\n",
    "    'Agosto': '08',\n",
    "    'Septiembre': '09',\n",
    "    'Octubre': '10',\n",
    "    'Noviembre': '11',\n",
    "    'Diciembre': '12'\n",
    "}"
   ]
  },
  {
   "cell_type": "code",
   "execution_count": 4,
   "metadata": {},
   "outputs": [],
   "source": [
    "path_load = r'C:\\Users\\jshernandezm\\OneDrive - genommalabinternacional\\MEX\\Precios\\Data\\{0}\\{2} {1}\\Raw'\n",
    "path_load = path_load.format(year, month, months_number[month])\n",
    "\n",
    "path_export = r'C:\\Users\\jshernandezm\\OneDrive - genommalabinternacional\\MEX\\Precios\\Data\\{0}\\{2} {1}\\Output'\n",
    "path_export = path_export.format(year, month, months_number[month])"
   ]
  },
  {
   "cell_type": "markdown",
   "metadata": {},
   "source": [
    "## SAP"
   ]
  },
  {
   "cell_type": "code",
   "execution_count": 5,
   "metadata": {},
   "outputs": [
    {
     "name": "stdout",
     "output_type": "stream",
     "text": [
      "Wall time: 35.2 s\n"
     ]
    }
   ],
   "source": [
    "%%time\n",
    "df_sap = pd.read_excel(path_load + '\\\\' + filaname_sap, header=3, usecols='I, P, V:X, Z')"
   ]
  },
  {
   "cell_type": "code",
   "execution_count": 6,
   "metadata": {},
   "outputs": [
    {
     "data": {
      "text/plain": [
       "(23733, 6)"
      ]
     },
     "execution_count": 6,
     "metadata": {},
     "output_type": "execute_result"
    }
   ],
   "source": [
    "df_sap.shape"
   ]
  },
  {
   "cell_type": "code",
   "execution_count": 7,
   "metadata": {},
   "outputs": [],
   "source": [
    "df_sap.rename({ \n",
    "    'Válido de':'Desde', \n",
    "    'CLIENTE':'Cliente',\n",
    "    'CÓDIGO DE BARRAS':'ProPstCodBarras',\n",
    "    'DESCRIPCIÓN':'Descripción',\n",
    "    'PF SAP\\n(PIEZA)':'Precio'\n",
    "}, \n",
    "    axis=1, \n",
    "    inplace=True\n",
    ")"
   ]
  },
  {
   "cell_type": "code",
   "execution_count": 8,
   "metadata": {},
   "outputs": [],
   "source": [
    "df_sap = df_sap[df_sap['Cliente']!='Amazon']\n",
    "df_sap.reset_index(drop=True, inplace=True)"
   ]
  },
  {
   "cell_type": "markdown",
   "metadata": {},
   "source": [
    "## EDI"
   ]
  },
  {
   "cell_type": "code",
   "execution_count": 12,
   "metadata": {},
   "outputs": [
    {
     "name": "stdout",
     "output_type": "stream",
     "text": [
      "Wall time: 1.13 s\n"
     ]
    }
   ],
   "source": [
    "%%time\n",
    "#df_edi = pd.read_excel(path_load + '\\\\' + filaname_edi, header=4, usecols='A, E:H, L, O')\n",
    "df_edi = pd.read_excel(path_load + '\\\\' + filaname_edi, header=5, usecols='A, E:H, L, O')"
   ]
  },
  {
   "cell_type": "code",
   "execution_count": 13,
   "metadata": {},
   "outputs": [],
   "source": [
    "df_edi = df_edi[df_edi['CLIENTE']==1100024]\n",
    "df_edi.drop(['CLIENTE'], axis=1, inplace=True)\n",
    "df_edi.reset_index(drop=True, inplace=True)"
   ]
  },
  {
   "cell_type": "code",
   "execution_count": 14,
   "metadata": {},
   "outputs": [
    {
     "data": {
      "text/plain": [
       "(473, 6)"
      ]
     },
     "execution_count": 14,
     "metadata": {},
     "output_type": "execute_result"
    }
   ],
   "source": [
    "df_edi.shape"
   ]
  },
  {
   "cell_type": "code",
   "execution_count": 15,
   "metadata": {},
   "outputs": [],
   "source": [
    "df_edi.rename({\n",
    "    'NOMBRE CLIENTE':'Cliente',\n",
    "    'CÓDIGO DE BARRAS':'ProPstCodBarras', \n",
    "    'MATERIAL':'Material', \n",
    "    'DESCRIPCIÓN':'Descripción',\n",
    "    'Válido de':'Desde', \n",
    "    'PF ZD01':'Precio'\n",
    "}, \n",
    "    axis=1, \n",
    "    inplace=True\n",
    ")"
   ]
  },
  {
   "cell_type": "markdown",
   "metadata": {},
   "source": [
    "# Amazon"
   ]
  },
  {
   "cell_type": "code",
   "execution_count": 16,
   "metadata": {},
   "outputs": [],
   "source": [
    "#df_amazon = pd.read_excel(path_load + '\\\\' + filaname_amazon, usecols='B, I:J, P, V, Z', sheet_name='MdP')\n",
    "df_amazon = pd.read_excel(path_load + '\\\\' + filaname_amazon, usecols='B, I:J, P, V, Z', header=3)"
   ]
  },
  {
   "cell_type": "code",
   "execution_count": 17,
   "metadata": {},
   "outputs": [],
   "source": [
    "df_amazon.drop_duplicates(inplace=True)"
   ]
  },
  {
   "cell_type": "code",
   "execution_count": 18,
   "metadata": {},
   "outputs": [
    {
     "data": {
      "text/plain": [
       "Index(['Cliente', 'ProPstCodBarras', 'Material', 'Descripción', 'Desde',\n",
       "       'Precio'],\n",
       "      dtype='object')"
      ]
     },
     "execution_count": 18,
     "metadata": {},
     "output_type": "execute_result"
    }
   ],
   "source": [
    "df_edi.columns"
   ]
  },
  {
   "cell_type": "code",
   "execution_count": 19,
   "metadata": {},
   "outputs": [
    {
     "data": {
      "text/plain": [
       "Index(['COD BARRAS', 'Material', 'Texto breve del material de cliente',\n",
       "       'Válido de', 'CLIENTE', 'PF SAP\\n(PIEZA)'],\n",
       "      dtype='object')"
      ]
     },
     "execution_count": 19,
     "metadata": {},
     "output_type": "execute_result"
    }
   ],
   "source": [
    "df_amazon.columns"
   ]
  },
  {
   "cell_type": "code",
   "execution_count": 20,
   "metadata": {},
   "outputs": [],
   "source": [
    "df_amazon.rename({\n",
    "    'COD BARRAS':'ProPstCodBarras',\n",
    "    'Texto breve del material de cliente':'Descripción',\n",
    "    'Válido de':'Desde', \n",
    "    'CLIENTE':'Cliente', \n",
    "    'PF SAP\\n(PIEZA)':'Precio'\n",
    "}, \n",
    "    axis=1, \n",
    "    inplace=True\n",
    ")"
   ]
  },
  {
   "cell_type": "markdown",
   "metadata": {},
   "source": [
    "# Export"
   ]
  },
  {
   "cell_type": "code",
   "execution_count": 21,
   "metadata": {},
   "outputs": [],
   "source": [
    "data = pd.concat([df_sap, df_edi, df_amazon])\n",
    "\n",
    "data.drop_duplicates(inplace=True)"
   ]
  },
  {
   "cell_type": "code",
   "execution_count": 22,
   "metadata": {},
   "outputs": [],
   "source": [
    "filename_export = '{0} {1}_{2}.xlsx'\n",
    "date_time_now = datetime.today().strftime('%Y%m%d_%H%M')\n",
    "filename_export = filename_export.format(year, month, date_time_now)\n",
    "\n",
    "data.to_excel(\n",
    "    path_export + '\\\\' + filename_export,\n",
    "    index=False,\n",
    "    sheet_name='Precios MEX'\n",
    ")"
   ]
  },
  {
   "cell_type": "code",
   "execution_count": null,
   "metadata": {},
   "outputs": [],
   "source": []
  }
 ],
 "metadata": {
  "interpreter": {
   "hash": "fe4feffa201cdf201c8a2af344ba7b0bb32861ea0c787625218332493d6906c2"
  },
  "kernelspec": {
   "display_name": "Python 3.8.10 ('base')",
   "language": "python",
   "name": "python3"
  },
  "language_info": {
   "codemirror_mode": {
    "name": "ipython",
    "version": 3
   },
   "file_extension": ".py",
   "mimetype": "text/x-python",
   "name": "python",
   "nbconvert_exporter": "python",
   "pygments_lexer": "ipython3",
   "version": "3.8.10"
  },
  "toc": {
   "base_numbering": 1,
   "nav_menu": {},
   "number_sections": true,
   "sideBar": true,
   "skip_h1_title": false,
   "title_cell": "Table of Contents",
   "title_sidebar": "Contents",
   "toc_cell": false,
   "toc_position": {
    "height": "calc(100% - 180px)",
    "left": "10px",
    "top": "150px",
    "width": "253.729px"
   },
   "toc_section_display": true,
   "toc_window_display": true
  }
 },
 "nbformat": 4,
 "nbformat_minor": 4
}
