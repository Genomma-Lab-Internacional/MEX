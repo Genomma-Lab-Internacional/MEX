{
 "cells": [
  {
   "cell_type": "code",
   "execution_count": 1,
   "metadata": {},
   "outputs": [],
   "source": [
    "update_from = '2022-19' #YYYY-WW\n",
    "update_to = '2022-20' #YYYY-WW\n",
    "# Actualizar mes a mes el path\n",
    "path = r'C:\\Users\\jshernandezm\\OneDrive - genommalabinternacional\\MEX\\Precios\\Data\\2022\\05 Mayo\\Output'\n",
    "filename = '2022 Mayo_20220512_1452.xlsx'"
   ]
  },
  {
   "cell_type": "markdown",
   "metadata": {},
   "source": [
    "# Libraries"
   ]
  },
  {
   "cell_type": "code",
   "execution_count": 2,
   "metadata": {},
   "outputs": [],
   "source": [
    "from datetime import datetime\n",
    "import pandas as pd\n",
    "import pyodbc\n",
    "import json\n",
    "import warnings\n",
    "warnings.filterwarnings(\"ignore\")\n",
    "pd.io.formats.excel.ExcelFormatter.header_style = None"
   ]
  },
  {
   "cell_type": "markdown",
   "metadata": {},
   "source": [
    "# Parameters"
   ]
  },
  {
   "cell_type": "code",
   "execution_count": 3,
   "metadata": {},
   "outputs": [],
   "source": [
    "today = datetime.today()\n",
    "year = today.year\n",
    "week = today.isocalendar()[1]"
   ]
  },
  {
   "cell_type": "markdown",
   "metadata": {},
   "source": [
    "# Connection"
   ]
  },
  {
   "cell_type": "code",
   "execution_count": 4,
   "metadata": {},
   "outputs": [],
   "source": [
    "conn = pyodbc.connect('Driver={SQL Server};'\n",
    "                     'Server=SFEDWH01;'\n",
    "                     'Database=Gnm_MasterOp;'\n",
    "                     'Trusted_Connection=yes;')"
   ]
  },
  {
   "cell_type": "markdown",
   "metadata": {},
   "source": [
    "## Queries"
   ]
  },
  {
   "cell_type": "code",
   "execution_count": 5,
   "metadata": {},
   "outputs": [],
   "source": [
    "qprices = '''SELECT  P.Año\n",
    "       ,P.Semana\n",
    "       ,C.PaisNombre\n",
    "       --,C.GrpID\n",
    "       ,C.GrpNombre\n",
    "       ,P.CadID\n",
    "       --,C.CadNombre\n",
    "       ,P.ProPstID\n",
    "       ,EP.ProPstCodBarras\n",
    "       ,P.[Precio Base]\n",
    "  FROM Gnm_MasterOp.dbo.GnmPreciosxCadenaHist AS P with(nolock)\n",
    "  LEFT JOIN Gnm_MasterOp.dbo.vw_EstructuraProductosInternacional ep ON P.ProPstID=EP.ProPstID\n",
    "  LEFT JOIN Gnm_MasterOp.dbo.vw_EstructuraClientesSegPTVTotal AS C\n",
    "  ON P.CadID = C.CadID\n",
    "  WHERE C.PaisNombre LIKE '%méx%' AND P.Año = {0} AND P.Semana = {1} AND EP.ProPstCodBarras IS NOT NULL\n",
    "  '''"
   ]
  },
  {
   "cell_type": "code",
   "execution_count": 6,
   "metadata": {},
   "outputs": [],
   "source": [
    "qproducts = '''SELECT DISTINCT\n",
    "          PR.ProPstCodBarras,\n",
    "          PR.ProPstNombre AS Descripción,\n",
    "          PR.ProPstID\n",
    "FROM Gnm_MasterOp.dbo.GnmPresentacionesProd AS PR\n",
    "RIGHT JOIN Gnm_MasterOp.dbo.GnmTiposComProd AS PA\n",
    "ON PA.TipoComProd = PR.TipoComProd\n",
    "WHERE PA.TipoComNombre LIKE '%canal%' AND PR.ProPstCodBarras != 0  AND PR.ProPstCodBarras IS NOT NULL\n",
    "ORDER BY ProPstID DESC;\n",
    "'''"
   ]
  },
  {
   "cell_type": "code",
   "execution_count": 7,
   "metadata": {},
   "outputs": [],
   "source": [
    "qweeks = '''SELECT SemID\n",
    "        ,SemAnio\n",
    "        ,SemNumero\n",
    "  FROM [Gnm_MasterOp].[dbo].[CatSemanas]\n",
    "  WHERE (SemAnio BETWEEN {0} AND {1}) AND (SemNumero BETWEEN {2} AND {3})\n",
    "'''"
   ]
  },
  {
   "cell_type": "markdown",
   "metadata": {},
   "source": [
    "# Load Data"
   ]
  },
  {
   "cell_type": "markdown",
   "metadata": {},
   "source": [
    "## DWH"
   ]
  },
  {
   "cell_type": "markdown",
   "metadata": {},
   "source": [
    "## Price from DWH"
   ]
  },
  {
   "cell_type": "code",
   "execution_count": 8,
   "metadata": {},
   "outputs": [],
   "source": [
    "qprices = qprices.format(year, week)\n",
    "\n",
    "dprices = pd.read_sql(qprices, conn)"
   ]
  },
  {
   "cell_type": "markdown",
   "metadata": {},
   "source": [
    "## ProPstIDs"
   ]
  },
  {
   "cell_type": "code",
   "execution_count": 9,
   "metadata": {},
   "outputs": [],
   "source": [
    "dproducts = pd.read_sql(qproducts, conn)\n",
    "dproducts['ProPstCodBarras'] = dproducts['ProPstCodBarras'].map(int).map(str)"
   ]
  },
  {
   "cell_type": "markdown",
   "metadata": {},
   "source": [
    "## Weeks to change prices"
   ]
  },
  {
   "cell_type": "code",
   "execution_count": 10,
   "metadata": {},
   "outputs": [],
   "source": [
    "qweeks = qweeks.format(\n",
    "    update_from.split('-')[0], \n",
    "    update_to.split('-')[0],\n",
    "    int(update_from.split('-')[1]),\n",
    "    int(update_to.split('-')[1])\n",
    ")"
   ]
  },
  {
   "cell_type": "code",
   "execution_count": 11,
   "metadata": {},
   "outputs": [],
   "source": [
    "dweeks = pd.read_sql(qweeks, conn)"
   ]
  },
  {
   "cell_type": "markdown",
   "metadata": {},
   "source": [
    "## Catalogue to find each client"
   ]
  },
  {
   "cell_type": "code",
   "execution_count": 12,
   "metadata": {},
   "outputs": [],
   "source": [
    "path_json = r'C:\\Users\\jshernandezm\\OneDrive - genommalabinternacional\\MEX\\Precios\\Data\\Catálogos\\catalogo_clientes.json'\n",
    "with open (path_json, 'r', encoding='utf-8') as file:\n",
    "    catalogue_clients = json.load(file)\n",
    "\n",
    "catalogue = pd.DataFrame(catalogue_clients)"
   ]
  },
  {
   "cell_type": "markdown",
   "metadata": {},
   "source": [
    "## New Prices"
   ]
  },
  {
   "cell_type": "code",
   "execution_count": 13,
   "metadata": {},
   "outputs": [],
   "source": [
    "ean_to_update = pd.read_excel(path + '\\\\' + filename)\n",
    "ean_to_update['ProPstCodBarras'] = ean_to_update['ProPstCodBarras'].map(int).map(str)\n",
    "ean_to_update.rename({'Precio':'Precio Base'}, axis=1, inplace=True)"
   ]
  },
  {
   "cell_type": "markdown",
   "metadata": {},
   "source": [
    "# Main"
   ]
  },
  {
   "cell_type": "code",
   "execution_count": 14,
   "metadata": {},
   "outputs": [],
   "source": [
    "cols = [\n",
    "    'CadID'\n",
    "    ,'ProPstID'\n",
    "    ,'Precio Base'\n",
    "    ,'AñoIni'\n",
    "    ,'SemIni'\n",
    "    ,'AñoFin'\n",
    "    ,'SemFin'\n",
    "    ,'IDSemIni'\n",
    "    ,'IDSemFin'\n",
    "]"
   ]
  },
  {
   "cell_type": "markdown",
   "metadata": {},
   "source": [
    "Acá obtenemos los precios a nivel Cadena y ProPstID"
   ]
  },
  {
   "cell_type": "code",
   "execution_count": 15,
   "metadata": {},
   "outputs": [],
   "source": [
    "price_cadid = pd.DataFrame()\n",
    "for cadid in catalogue['CadID'].unique():\n",
    "    client = catalogue.loc[catalogue['CadID']==cadid, 'Nombre Catálogo']\n",
    "    catalog_target = ean_to_update[ean_to_update['Cliente']==client.squeeze()]\n",
    "    aux = catalog_target.merge(dproducts, on='ProPstCodBarras', how='left')[['ProPstID', 'Precio Base']]\n",
    "    aux['CadID'] = cadid\n",
    "    price_cadid = pd.concat([price_cadid, aux])\n",
    "price_cadid = price_cadid[price_cadid['ProPstID'].notnull()]\n",
    "price_cadid.reset_index(drop=True, inplace=True)"
   ]
  },
  {
   "cell_type": "code",
   "execution_count": 16,
   "metadata": {},
   "outputs": [],
   "source": [
    "price_cadid['ProPstID'] = price_cadid['ProPstID'].map(int)"
   ]
  },
  {
   "cell_type": "markdown",
   "metadata": {},
   "source": [
    "Checaremos qué precios hay que actualizar cruzando con lo que tenemos en el DWH"
   ]
  },
  {
   "cell_type": "code",
   "execution_count": 17,
   "metadata": {},
   "outputs": [],
   "source": [
    "price_cadid['ID'] = price_cadid['CadID'].map(str) + '-' + price_cadid['ProPstID'].map(str)\n",
    "dprices['ID'] = dprices['CadID'].map(str) + '-' + dprices['ProPstID'].map(str)"
   ]
  },
  {
   "cell_type": "code",
   "execution_count": 18,
   "metadata": {},
   "outputs": [],
   "source": [
    "check_prices = dprices.merge(price_cadid, on='ID', how='left')\n",
    "check_prices.dropna(axis=0, inplace=True) #Puede que sean skus no activos"
   ]
  },
  {
   "cell_type": "code",
   "execution_count": 19,
   "metadata": {},
   "outputs": [],
   "source": [
    "def differents_prices(new_price, last_price):\n",
    "    diff = new_price - last_price\n",
    "    return abs(diff)>0.1"
   ]
  },
  {
   "cell_type": "code",
   "execution_count": 20,
   "metadata": {},
   "outputs": [],
   "source": [
    "check_prices = check_prices[check_prices.apply(lambda row: differents_prices(row['Precio Base_x'], row['Precio Base_y']), axis=1)]"
   ]
  },
  {
   "cell_type": "code",
   "execution_count": 21,
   "metadata": {},
   "outputs": [],
   "source": [
    "to_update = check_prices[['CadID_y', 'ProPstID_y', 'Precio Base_y']].copy()"
   ]
  },
  {
   "cell_type": "code",
   "execution_count": 22,
   "metadata": {},
   "outputs": [],
   "source": [
    "to_update['AñoIni'] = dweeks.loc[0, 'SemAnio']\n",
    "to_update['SemIni'] = dweeks.loc[0, 'SemNumero']\n",
    "to_update['AñoFin'] = dweeks.loc[dweeks.index[-1], 'SemAnio']\n",
    "to_update['SemFin'] = dweeks.loc[dweeks.index[-1], 'SemNumero']\n",
    "to_update['IDSemIni'] = dweeks.loc[0, 'SemID']\n",
    "to_update['IDSemFin'] = dweeks.loc[dweeks.index[-1], 'SemID']"
   ]
  },
  {
   "cell_type": "code",
   "execution_count": 23,
   "metadata": {},
   "outputs": [],
   "source": [
    "to_update.rename({\n",
    "    'CadID_y':'CadID', \n",
    "    'ProPstID_y':'ProPstID', \n",
    "    'Precio Base_y':'Precio Base'\n",
    "    }, \n",
    "    axis=1, \n",
    "    inplace=True)"
   ]
  },
  {
   "cell_type": "code",
   "execution_count": 24,
   "metadata": {},
   "outputs": [],
   "source": [
    "to_update['CadID'] = to_update['CadID'].map(int)"
   ]
  },
  {
   "cell_type": "code",
   "execution_count": 25,
   "metadata": {},
   "outputs": [
    {
     "data": {
      "text/plain": [
       "CadID          0\n",
       "ProPstID       0\n",
       "Precio Base    0\n",
       "AñoIni         0\n",
       "SemIni         0\n",
       "AñoFin         0\n",
       "SemFin         0\n",
       "IDSemIni       0\n",
       "IDSemFin       0\n",
       "dtype: int64"
      ]
     },
     "execution_count": 25,
     "metadata": {},
     "output_type": "execute_result"
    }
   ],
   "source": [
    "to_update.isnull().sum()"
   ]
  },
  {
   "cell_type": "code",
   "execution_count": 26,
   "metadata": {},
   "outputs": [],
   "source": [
    "filename_export = 'Actualizar Precios MEX_{0}.xlsx'\n",
    "filename_export = filename_export.format(today.strftime('%Y%m%d-%H%M'))"
   ]
  },
  {
   "cell_type": "code",
   "execution_count": 27,
   "metadata": {},
   "outputs": [],
   "source": [
    "to_update[cols].sort_values(['CadID', 'ProPstID']).to_excel(\n",
    "    path + '\\\\' + filename_export, \n",
    "    index=False, \n",
    "    sheet_name='{0}_{1}'.format(year, str(week).zfill(2))\n",
    ")"
   ]
  },
  {
   "cell_type": "code",
   "execution_count": null,
   "metadata": {},
   "outputs": [],
   "source": []
  }
 ],
 "metadata": {
  "interpreter": {
   "hash": "fe4feffa201cdf201c8a2af344ba7b0bb32861ea0c787625218332493d6906c2"
  },
  "kernelspec": {
   "display_name": "Python 3.8.10 ('base')",
   "language": "python",
   "name": "python3"
  },
  "language_info": {
   "codemirror_mode": {
    "name": "ipython",
    "version": 3
   },
   "file_extension": ".py",
   "mimetype": "text/x-python",
   "name": "python",
   "nbconvert_exporter": "python",
   "pygments_lexer": "ipython3",
   "version": "3.8.10"
  },
  "orig_nbformat": 4
 },
 "nbformat": 4,
 "nbformat_minor": 2
}
