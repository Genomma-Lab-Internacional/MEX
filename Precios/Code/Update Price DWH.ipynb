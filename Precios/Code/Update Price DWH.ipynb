{
 "cells": [
  {
   "cell_type": "markdown",
   "metadata": {},
   "source": [
    "# Libraries"
   ]
  },
  {
   "cell_type": "code",
   "execution_count": 1,
   "metadata": {},
   "outputs": [],
   "source": [
    "from datetime import datetime\n",
    "import pandas as pd\n",
    "import pyodbc\n",
    "\n",
    "pd.io.formats.excel.ExcelFormatter.header_style = None"
   ]
  },
  {
   "cell_type": "markdown",
   "metadata": {},
   "source": [
    "# Parameters"
   ]
  },
  {
   "cell_type": "code",
   "execution_count": 2,
   "metadata": {},
   "outputs": [],
   "source": [
    "today = datetime.today()\n",
    "year = today.year\n",
    "week = today.isocalendar()[1]\n",
    "update_from = '2022-10'\n",
    "update_to = '2022-10'\n",
    "\n",
    "path = r'C:\\Users\\jshernandezm\\OneDrive - genommalabinternacional\\MEX\\Precios\\Data\\2022\\03 Marzo\\Output'\n",
    "filename = '2022 Marzo_20220304_1542.xlsx'"
   ]
  },
  {
   "cell_type": "markdown",
   "metadata": {},
   "source": [
    "# Connection"
   ]
  },
  {
   "cell_type": "code",
   "execution_count": 3,
   "metadata": {},
   "outputs": [],
   "source": [
    "conn = pyodbc.connect('Driver={SQL Server};'\n",
    "                     'Server=SFEDWH01;'\n",
    "                     'Database=Gnm_MasterOp;'\n",
    "                     'Trusted_Connection=yes;')"
   ]
  },
  {
   "cell_type": "markdown",
   "metadata": {},
   "source": [
    "## Queries"
   ]
  },
  {
   "cell_type": "code",
   "execution_count": 8,
   "metadata": {},
   "outputs": [],
   "source": [
    "qprices = '''SELECT  P.Año\n",
    "       ,P.Semana\n",
    "       ,C.PaisNombre\n",
    "       --,C.GrpID\n",
    "       ,C.GrpNombre\n",
    "       ,P.CadID\n",
    "       --,C.CadNombre\n",
    "       ,P.ProPstID\n",
    "       ,P.[Precio Base]\n",
    "  FROM Gnm_MasterOp.dbo.GnmPreciosxCadenaHist AS P\n",
    "  RIGHT JOIN Gnm_MasterOp.dbo.vw_EstructuraClientesSegPTVTotal AS C\n",
    "  ON P.CadID = C.CadID\n",
    "  WHERE C.PaisNombre LIKE '%méx%' AND P.Año = {0} AND P.Semana = {1}\n",
    "  '''"
   ]
  },
  {
   "cell_type": "code",
   "execution_count": 14,
   "metadata": {},
   "outputs": [],
   "source": [
    "qproducts = '''SELECT DISTINCT \n",
    "          --PA.TipoComNombre AS País\n",
    "          PR.ProPstCodBarras AS EAN\n",
    "          ,PR.ProPstNombre AS Descripción\n",
    "          ,PR.ProPstID\n",
    "FROM Gnm_MasterOp.dbo.GnmPresentacionesProd AS PR\n",
    "RIGHT JOIN Gnm_MasterOp.dbo.GnmTiposComProd AS PA\n",
    "ON PA.TipoComProd = PR.TipoComProd\n",
    "WHERE PA.TipoComNombre LIKE '%canal%'\n",
    "ORDER BY ProPstID DESC;\n",
    "'''"
   ]
  },
  {
   "cell_type": "code",
   "execution_count": 10,
   "metadata": {},
   "outputs": [],
   "source": [
    "qweeks = '''SELECT SemID\n",
    "        ,SemAnio\n",
    "        ,SemNumero\n",
    "  FROM [Gnm_MasterOp].[dbo].[CatSemanas]\n",
    "  WHERE (SemAnio BETWEEN {0} AND {1}) AND (SemNumero BETWEEN {2} AND {3})\n",
    "'''"
   ]
  },
  {
   "cell_type": "markdown",
   "metadata": {},
   "source": [
    "# Loas Data"
   ]
  },
  {
   "cell_type": "markdown",
   "metadata": {},
   "source": [
    "## DWH"
   ]
  },
  {
   "cell_type": "code",
   "execution_count": 11,
   "metadata": {},
   "outputs": [
    {
     "name": "stderr",
     "output_type": "stream",
     "text": [
      "c:\\Users\\jshernandezm\\Anaconda3\\lib\\site-packages\\pandas\\io\\sql.py:761: UserWarning: pandas only support SQLAlchemy connectable(engine/connection) ordatabase string URI or sqlite3 DBAPI2 connectionother DBAPI2 objects are not tested, please consider using SQLAlchemy\n",
      "  warnings.warn(\n"
     ]
    }
   ],
   "source": [
    "qprices = qprices.format(year, week)\n",
    "\n",
    "dprices = pd.read_sql(qprices, conn)"
   ]
  },
  {
   "cell_type": "code",
   "execution_count": 12,
   "metadata": {},
   "outputs": [],
   "source": [
    "qweeks = qweeks.format(\n",
    "    update_from.split('-')[0], \n",
    "    update_to.split('-')[0],\n",
    "    int(update_from.split('-')[1]),\n",
    "    int(update_to.split('-')[1])\n",
    ")"
   ]
  },
  {
   "cell_type": "code",
   "execution_count": 15,
   "metadata": {},
   "outputs": [
    {
     "name": "stderr",
     "output_type": "stream",
     "text": [
      "c:\\Users\\jshernandezm\\Anaconda3\\lib\\site-packages\\pandas\\io\\sql.py:761: UserWarning: pandas only support SQLAlchemy connectable(engine/connection) ordatabase string URI or sqlite3 DBAPI2 connectionother DBAPI2 objects are not tested, please consider using SQLAlchemy\n",
      "  warnings.warn(\n"
     ]
    }
   ],
   "source": [
    "dproducts = pd.read_sql(qproducts, conn)"
   ]
  },
  {
   "cell_type": "code",
   "execution_count": 16,
   "metadata": {},
   "outputs": [
    {
     "name": "stderr",
     "output_type": "stream",
     "text": [
      "c:\\Users\\jshernandezm\\Anaconda3\\lib\\site-packages\\pandas\\io\\sql.py:761: UserWarning: pandas only support SQLAlchemy connectable(engine/connection) ordatabase string URI or sqlite3 DBAPI2 connectionother DBAPI2 objects are not tested, please consider using SQLAlchemy\n",
      "  warnings.warn(\n"
     ]
    }
   ],
   "source": [
    "dweeks = pd.read_sql(qweeks, conn)"
   ]
  },
  {
   "cell_type": "code",
   "execution_count": 19,
   "metadata": {},
   "outputs": [],
   "source": [
    "ean_to_update = pd.read_excel(path + '\\\\' + filename)"
   ]
  },
  {
   "cell_type": "code",
   "execution_count": 22,
   "metadata": {},
   "outputs": [
    {
     "data": {
      "text/plain": [
       "132"
      ]
     },
     "execution_count": 22,
     "metadata": {},
     "output_type": "execute_result"
    }
   ],
   "source": [
    "len(ean_to_update['Cliente'].unique())"
   ]
  },
  {
   "cell_type": "code",
   "execution_count": 25,
   "metadata": {},
   "outputs": [
    {
     "data": {
      "text/plain": [
       "31"
      ]
     },
     "execution_count": 25,
     "metadata": {},
     "output_type": "execute_result"
    }
   ],
   "source": [
    "len(dprices['GrpNombre'].unique())"
   ]
  },
  {
   "cell_type": "code",
   "execution_count": 26,
   "metadata": {},
   "outputs": [
    {
     "data": {
      "text/plain": [
       "array(['Amazon', 'Corporativo Fragua', 'Controladora Comercial Mexicana',\n",
       "       'Almacen De Drogas', 'Wal-Mart de México', 'Grupo Dorian´s',\n",
       "       'Grupo Chedraui', 'Grupo Soriana', 'Grupo Coppel', 'Nadro',\n",
       "       'Liverpool', 'Promesa', 'Sanborns Hermanos', 'Marzam',\n",
       "       'Supermercados Internacionales Heb', 'Cadena Comercial OXXO',\n",
       "       'Comercializadora DAX', 'Casa Ley', 'COSTCO',\n",
       "       'Farmacos Nacionales', 'Grupo Saba', 'Grupo Control', 'Sears',\n",
       "       'City Club', 'FARMACIAS ABC', 'Farmacias Del Ahorro',\n",
       "       'Comercial City Fresko', 'Farmacia San Pablo', 'Sams Club',\n",
       "       'Grupo Benavides', 'FARMACON'], dtype=object)"
      ]
     },
     "execution_count": 26,
     "metadata": {},
     "output_type": "execute_result"
    }
   ],
   "source": [
    "dprices['GrpNombre'].unique()"
   ]
  },
  {
   "cell_type": "code",
   "execution_count": null,
   "metadata": {},
   "outputs": [],
   "source": []
  }
 ],
 "metadata": {
  "interpreter": {
   "hash": "8517f3e7e53f8964ccb37c76b9649d71f1b5b080f0cd17a0a1c63227e7ee36f6"
  },
  "kernelspec": {
   "display_name": "Python 3.8.10 ('base': conda)",
   "language": "python",
   "name": "python3"
  },
  "language_info": {
   "codemirror_mode": {
    "name": "ipython",
    "version": 3
   },
   "file_extension": ".py",
   "mimetype": "text/x-python",
   "name": "python",
   "nbconvert_exporter": "python",
   "pygments_lexer": "ipython3",
   "version": "3.8.10"
  },
  "orig_nbformat": 4
 },
 "nbformat": 4,
 "nbformat_minor": 2
}
